{
 "cells": [
  {
   "cell_type": "markdown",
   "id": "popular-essex",
   "metadata": {
    "papermill": {
     "duration": 0.039647,
     "end_time": "2021-07-07T13:08:19.428738",
     "exception": false,
     "start_time": "2021-07-07T13:08:19.389091",
     "status": "completed"
    },
    "tags": []
   },
   "source": [
    "\n",
    "# Air Bnb New User Bookings \n",
    "**Predict user country destination**\n",
    "\n",
    "=========================================================\n",
    "# Important Notes\n",
    "* countries.csv: summary statistics of destination countries in this dataset and their locations\n",
    "* age_gender_bkts.csv: summary statistics of users' age group, gender, country of destination\n",
    "* **'NDF'** --> no booking\n",
    "* **country_destination** is our predection target it is not avalible at test dataset.\n",
    "\n",
    "**Submission File:**\n",
    "For every user in the dataset, submission files should contain two columns: id and country. The destination country predictions must be ordered such that the most probable destination country goes first.\n",
    "\n",
    "**Evaluation:**\n",
    "For each new user, you are to make a maximum of 5 predictions on the country of the first booking. The ground truth country is marked with relevance = 1, while the rest have relevance = 0.\n",
    "\n",
    "For example, if for a particular user the destination is FR, then the predictions become\n",
    "\n",
    "========================================================="
   ]
  },
  {
   "cell_type": "markdown",
   "id": "temporal-representation",
   "metadata": {
    "papermill": {
     "duration": 0.037509,
     "end_time": "2021-07-07T13:08:19.504819",
     "exception": false,
     "start_time": "2021-07-07T13:08:19.467310",
     "status": "completed"
    },
    "tags": []
   },
   "source": [
    "**Data Cleansing & Preparation Summery**\n",
    "\n",
    "* Gender: convert all \"unknown\" values into nan \n",
    "* Filter age between 1-100 and set to others to NAN**\n",
    "* First_browser: convert all \"unknown\" values into nan\n",
    "* date_account_created: convert to datetime format\n",
    "* timestamp_first_active: convert to datetime format"
   ]
  },
  {
   "cell_type": "code",
   "execution_count": 1,
   "id": "swiss-separation",
   "metadata": {
    "_cell_guid": "b1076dfc-b9ad-4769-8c92-a6c4dae69d19",
    "_uuid": "8f2839f25d086af736a60e9eeb907d3b93b6e0e5",
    "execution": {
     "iopub.execute_input": "2021-07-07T13:08:19.585902Z",
     "iopub.status.busy": "2021-07-07T13:08:19.584739Z",
     "iopub.status.idle": "2021-07-07T13:08:20.796167Z",
     "shell.execute_reply": "2021-07-07T13:08:20.795413Z",
     "shell.execute_reply.started": "2021-07-07T12:58:02.361868Z"
    },
    "papermill": {
     "duration": 1.253692,
     "end_time": "2021-07-07T13:08:20.796378",
     "exception": false,
     "start_time": "2021-07-07T13:08:19.542686",
     "status": "completed"
    },
    "tags": []
   },
   "outputs": [
    {
     "name": "stdout",
     "output_type": "stream",
     "text": [
      "/kaggle/input/airbnb-recruiting-new-user-bookings/sample_submission_NDF.csv.zip\n",
      "/kaggle/input/airbnb-recruiting-new-user-bookings/age_gender_bkts.csv.zip\n",
      "/kaggle/input/airbnb-recruiting-new-user-bookings/test_users.csv.zip\n",
      "/kaggle/input/airbnb-recruiting-new-user-bookings/countries.csv.zip\n",
      "/kaggle/input/airbnb-recruiting-new-user-bookings/sessions.csv.zip\n",
      "/kaggle/input/airbnb-recruiting-new-user-bookings/train_users_2.csv.zip\n"
     ]
    }
   ],
   "source": [
    "import pandas as pd \n",
    "import numpy as np \n",
    "import seaborn as sns\n",
    "import matplotlib.pyplot as plt\n",
    "sns.set()\n",
    "\n",
    "from datetime import datetime\n",
    "from sklearn.preprocessing import LabelEncoder\n",
    "from xgboost.sklearn import XGBClassifier\n",
    "\n",
    "import warnings\n",
    "warnings.filterwarnings(\"ignore\")\n",
    "\n",
    "import os\n",
    "for dirname, _, filenames in os.walk('/kaggle/input'):\n",
    "    for filename in filenames:\n",
    "        print(os.path.join(dirname, filename))\n",
    "\n",
    "#add colores for plot bars\n",
    "colors = ['#1f77b4', '#ff7f0e', '#2ca02c', '#d62728', '#9467bd',\n",
    "          '#8c564b', '#e377c2', '#7f7f7f', '#bcbd22', '#17becf']        "
   ]
  },
  {
   "cell_type": "markdown",
   "id": "korean-deposit",
   "metadata": {
    "papermill": {
     "duration": 0.038393,
     "end_time": "2021-07-07T13:08:20.874121",
     "exception": false,
     "start_time": "2021-07-07T13:08:20.835728",
     "status": "completed"
    },
    "tags": []
   },
   "source": [
    "# Load data"
   ]
  },
  {
   "cell_type": "code",
   "execution_count": 2,
   "id": "pending-brooks",
   "metadata": {
    "execution": {
     "iopub.execute_input": "2021-07-07T13:08:20.978095Z",
     "iopub.status.busy": "2021-07-07T13:08:20.977444Z",
     "iopub.status.idle": "2021-07-07T13:08:42.608613Z",
     "shell.execute_reply": "2021-07-07T13:08:42.607992Z",
     "shell.execute_reply.started": "2021-07-07T12:58:02.376119Z"
    },
    "papermill": {
     "duration": 21.686131,
     "end_time": "2021-07-07T13:08:42.608810",
     "exception": false,
     "start_time": "2021-07-07T13:08:20.922679",
     "status": "completed"
    },
    "tags": []
   },
   "outputs": [],
   "source": [
    "# convert date columns into datetime format while loading\n",
    "train_df = pd.read_csv('../input/airbnb-recruiting-new-user-bookings/train_users_2.csv.zip', parse_dates=['timestamp_first_active','date_account_created','date_first_booking'])\n",
    "\n",
    "test_df= pd.read_csv('../input/airbnb-recruiting-new-user-bookings/test_users.csv.zip',parse_dates=['timestamp_first_active','date_account_created','date_first_booking'])\n",
    "\n",
    "bookings_data  = pd.read_csv(\"/kaggle/input/airbnb-recruiting-new-user-bookings/train_users_2.csv.zip\")"
   ]
  },
  {
   "cell_type": "markdown",
   "id": "specific-vocabulary",
   "metadata": {
    "papermill": {
     "duration": 0.037904,
     "end_time": "2021-07-07T13:08:42.685544",
     "exception": false,
     "start_time": "2021-07-07T13:08:42.647640",
     "status": "completed"
    },
    "tags": []
   },
   "source": [
    "# Combining test and train datasets\n",
    "\n",
    "for this compitition If this is not done, the number of dummy variable columns do not match in test and train data. Some items present in train data and are not present in test data like browser type. \n",
    "\n",
    "i got many errors like: **ValueError: X has 122 features per sample; expecting 155**"
   ]
  },
  {
   "cell_type": "code",
   "execution_count": 3,
   "id": "premium-celtic",
   "metadata": {
    "execution": {
     "iopub.execute_input": "2021-07-07T13:08:42.776333Z",
     "iopub.status.busy": "2021-07-07T13:08:42.768812Z",
     "iopub.status.idle": "2021-07-07T13:08:42.875210Z",
     "shell.execute_reply": "2021-07-07T13:08:42.874500Z",
     "shell.execute_reply.started": "2021-07-07T12:58:24.921496Z"
    },
    "papermill": {
     "duration": 0.15107,
     "end_time": "2021-07-07T13:08:42.875364",
     "exception": false,
     "start_time": "2021-07-07T13:08:42.724294",
     "status": "completed"
    },
    "tags": []
   },
   "outputs": [],
   "source": [
    "train_test_combin = pd.concat((train_df, test_df), axis = 0, ignore_index = True)"
   ]
  },
  {
   "cell_type": "markdown",
   "id": "nasty-singer",
   "metadata": {
    "papermill": {
     "duration": 0.037844,
     "end_time": "2021-07-07T13:08:42.951650",
     "exception": false,
     "start_time": "2021-07-07T13:08:42.913806",
     "status": "completed"
    },
    "tags": []
   },
   "source": [
    "# Exploratory Data Analysis (EDA)"
   ]
  },
  {
   "cell_type": "code",
   "execution_count": 4,
   "id": "revolutionary-glenn",
   "metadata": {
    "execution": {
     "iopub.execute_input": "2021-07-07T13:08:43.038092Z",
     "iopub.status.busy": "2021-07-07T13:08:43.037089Z",
     "iopub.status.idle": "2021-07-07T13:08:43.066355Z",
     "shell.execute_reply": "2021-07-07T13:08:43.065826Z",
     "shell.execute_reply.started": "2021-07-07T12:58:25.013553Z"
    },
    "papermill": {
     "duration": 0.075007,
     "end_time": "2021-07-07T13:08:43.066496",
     "exception": false,
     "start_time": "2021-07-07T13:08:42.991489",
     "status": "completed"
    },
    "tags": []
   },
   "outputs": [
    {
     "data": {
      "text/html": [
       "<div>\n",
       "<style scoped>\n",
       "    .dataframe tbody tr th:only-of-type {\n",
       "        vertical-align: middle;\n",
       "    }\n",
       "\n",
       "    .dataframe tbody tr th {\n",
       "        vertical-align: top;\n",
       "    }\n",
       "\n",
       "    .dataframe thead th {\n",
       "        text-align: right;\n",
       "    }\n",
       "</style>\n",
       "<table border=\"1\" class=\"dataframe\">\n",
       "  <thead>\n",
       "    <tr style=\"text-align: right;\">\n",
       "      <th></th>\n",
       "      <th>id</th>\n",
       "      <th>date_account_created</th>\n",
       "      <th>timestamp_first_active</th>\n",
       "      <th>date_first_booking</th>\n",
       "      <th>gender</th>\n",
       "      <th>age</th>\n",
       "      <th>signup_method</th>\n",
       "      <th>signup_flow</th>\n",
       "      <th>language</th>\n",
       "      <th>affiliate_channel</th>\n",
       "      <th>affiliate_provider</th>\n",
       "      <th>first_affiliate_tracked</th>\n",
       "      <th>signup_app</th>\n",
       "      <th>first_device_type</th>\n",
       "      <th>first_browser</th>\n",
       "      <th>country_destination</th>\n",
       "    </tr>\n",
       "  </thead>\n",
       "  <tbody>\n",
       "    <tr>\n",
       "      <th>0</th>\n",
       "      <td>gxn3p5htnn</td>\n",
       "      <td>2010-06-28</td>\n",
       "      <td>2009-03-19 04:32:55</td>\n",
       "      <td>NaT</td>\n",
       "      <td>-unknown-</td>\n",
       "      <td>NaN</td>\n",
       "      <td>facebook</td>\n",
       "      <td>0</td>\n",
       "      <td>en</td>\n",
       "      <td>direct</td>\n",
       "      <td>direct</td>\n",
       "      <td>untracked</td>\n",
       "      <td>Web</td>\n",
       "      <td>Mac Desktop</td>\n",
       "      <td>Chrome</td>\n",
       "      <td>NDF</td>\n",
       "    </tr>\n",
       "    <tr>\n",
       "      <th>1</th>\n",
       "      <td>820tgsjxq7</td>\n",
       "      <td>2011-05-25</td>\n",
       "      <td>2009-05-23 17:48:09</td>\n",
       "      <td>NaT</td>\n",
       "      <td>MALE</td>\n",
       "      <td>38.0</td>\n",
       "      <td>facebook</td>\n",
       "      <td>0</td>\n",
       "      <td>en</td>\n",
       "      <td>seo</td>\n",
       "      <td>google</td>\n",
       "      <td>untracked</td>\n",
       "      <td>Web</td>\n",
       "      <td>Mac Desktop</td>\n",
       "      <td>Chrome</td>\n",
       "      <td>NDF</td>\n",
       "    </tr>\n",
       "    <tr>\n",
       "      <th>2</th>\n",
       "      <td>4ft3gnwmtx</td>\n",
       "      <td>2010-09-28</td>\n",
       "      <td>2009-06-09 23:12:47</td>\n",
       "      <td>2010-08-02</td>\n",
       "      <td>FEMALE</td>\n",
       "      <td>56.0</td>\n",
       "      <td>basic</td>\n",
       "      <td>3</td>\n",
       "      <td>en</td>\n",
       "      <td>direct</td>\n",
       "      <td>direct</td>\n",
       "      <td>untracked</td>\n",
       "      <td>Web</td>\n",
       "      <td>Windows Desktop</td>\n",
       "      <td>IE</td>\n",
       "      <td>US</td>\n",
       "    </tr>\n",
       "    <tr>\n",
       "      <th>3</th>\n",
       "      <td>bjjt8pjhuk</td>\n",
       "      <td>2011-12-05</td>\n",
       "      <td>2009-10-31 06:01:29</td>\n",
       "      <td>2012-09-08</td>\n",
       "      <td>FEMALE</td>\n",
       "      <td>42.0</td>\n",
       "      <td>facebook</td>\n",
       "      <td>0</td>\n",
       "      <td>en</td>\n",
       "      <td>direct</td>\n",
       "      <td>direct</td>\n",
       "      <td>untracked</td>\n",
       "      <td>Web</td>\n",
       "      <td>Mac Desktop</td>\n",
       "      <td>Firefox</td>\n",
       "      <td>other</td>\n",
       "    </tr>\n",
       "    <tr>\n",
       "      <th>4</th>\n",
       "      <td>87mebub9p4</td>\n",
       "      <td>2010-09-14</td>\n",
       "      <td>2009-12-08 06:11:05</td>\n",
       "      <td>2010-02-18</td>\n",
       "      <td>-unknown-</td>\n",
       "      <td>41.0</td>\n",
       "      <td>basic</td>\n",
       "      <td>0</td>\n",
       "      <td>en</td>\n",
       "      <td>direct</td>\n",
       "      <td>direct</td>\n",
       "      <td>untracked</td>\n",
       "      <td>Web</td>\n",
       "      <td>Mac Desktop</td>\n",
       "      <td>Chrome</td>\n",
       "      <td>US</td>\n",
       "    </tr>\n",
       "  </tbody>\n",
       "</table>\n",
       "</div>"
      ],
      "text/plain": [
       "           id date_account_created timestamp_first_active date_first_booking  \\\n",
       "0  gxn3p5htnn           2010-06-28    2009-03-19 04:32:55                NaT   \n",
       "1  820tgsjxq7           2011-05-25    2009-05-23 17:48:09                NaT   \n",
       "2  4ft3gnwmtx           2010-09-28    2009-06-09 23:12:47         2010-08-02   \n",
       "3  bjjt8pjhuk           2011-12-05    2009-10-31 06:01:29         2012-09-08   \n",
       "4  87mebub9p4           2010-09-14    2009-12-08 06:11:05         2010-02-18   \n",
       "\n",
       "      gender   age signup_method  signup_flow language affiliate_channel  \\\n",
       "0  -unknown-   NaN      facebook            0       en            direct   \n",
       "1       MALE  38.0      facebook            0       en               seo   \n",
       "2     FEMALE  56.0         basic            3       en            direct   \n",
       "3     FEMALE  42.0      facebook            0       en            direct   \n",
       "4  -unknown-  41.0         basic            0       en            direct   \n",
       "\n",
       "  affiliate_provider first_affiliate_tracked signup_app first_device_type  \\\n",
       "0             direct               untracked        Web       Mac Desktop   \n",
       "1             google               untracked        Web       Mac Desktop   \n",
       "2             direct               untracked        Web   Windows Desktop   \n",
       "3             direct               untracked        Web       Mac Desktop   \n",
       "4             direct               untracked        Web       Mac Desktop   \n",
       "\n",
       "  first_browser country_destination  \n",
       "0        Chrome                 NDF  \n",
       "1        Chrome                 NDF  \n",
       "2            IE                  US  \n",
       "3       Firefox               other  \n",
       "4        Chrome                  US  "
      ]
     },
     "execution_count": 4,
     "metadata": {},
     "output_type": "execute_result"
    }
   ],
   "source": [
    "train_test_combin.head()"
   ]
  },
  {
   "cell_type": "code",
   "execution_count": 5,
   "id": "driving-liberal",
   "metadata": {
    "execution": {
     "iopub.execute_input": "2021-07-07T13:08:43.149760Z",
     "iopub.status.busy": "2021-07-07T13:08:43.148870Z",
     "iopub.status.idle": "2021-07-07T13:08:43.153631Z",
     "shell.execute_reply": "2021-07-07T13:08:43.152989Z",
     "shell.execute_reply.started": "2021-07-07T12:58:25.044015Z"
    },
    "papermill": {
     "duration": 0.048313,
     "end_time": "2021-07-07T13:08:43.153766",
     "exception": false,
     "start_time": "2021-07-07T13:08:43.105453",
     "status": "completed"
    },
    "tags": []
   },
   "outputs": [
    {
     "data": {
      "text/plain": [
       "(275547, 16)"
      ]
     },
     "execution_count": 5,
     "metadata": {},
     "output_type": "execute_result"
    }
   ],
   "source": [
    "train_test_combin.shape"
   ]
  },
  {
   "cell_type": "code",
   "execution_count": 6,
   "id": "acute-operation",
   "metadata": {
    "execution": {
     "iopub.execute_input": "2021-07-07T13:08:43.255587Z",
     "iopub.status.busy": "2021-07-07T13:08:43.254864Z",
     "iopub.status.idle": "2021-07-07T13:08:43.260017Z",
     "shell.execute_reply": "2021-07-07T13:08:43.259472Z",
     "shell.execute_reply.started": "2021-07-07T12:58:25.061457Z"
    },
    "papermill": {
     "duration": 0.066986,
     "end_time": "2021-07-07T13:08:43.260197",
     "exception": false,
     "start_time": "2021-07-07T13:08:43.193211",
     "status": "completed"
    },
    "tags": []
   },
   "outputs": [
    {
     "data": {
      "text/html": [
       "<div>\n",
       "<style scoped>\n",
       "    .dataframe tbody tr th:only-of-type {\n",
       "        vertical-align: middle;\n",
       "    }\n",
       "\n",
       "    .dataframe tbody tr th {\n",
       "        vertical-align: top;\n",
       "    }\n",
       "\n",
       "    .dataframe thead th {\n",
       "        text-align: right;\n",
       "    }\n",
       "</style>\n",
       "<table border=\"1\" class=\"dataframe\">\n",
       "  <thead>\n",
       "    <tr style=\"text-align: right;\">\n",
       "      <th></th>\n",
       "      <th>id</th>\n",
       "      <th>date_account_created</th>\n",
       "      <th>timestamp_first_active</th>\n",
       "      <th>date_first_booking</th>\n",
       "      <th>gender</th>\n",
       "      <th>age</th>\n",
       "      <th>signup_method</th>\n",
       "      <th>signup_flow</th>\n",
       "      <th>language</th>\n",
       "      <th>affiliate_channel</th>\n",
       "      <th>affiliate_provider</th>\n",
       "      <th>first_affiliate_tracked</th>\n",
       "      <th>signup_app</th>\n",
       "      <th>first_device_type</th>\n",
       "      <th>first_browser</th>\n",
       "      <th>country_destination</th>\n",
       "    </tr>\n",
       "  </thead>\n",
       "  <tbody>\n",
       "    <tr>\n",
       "      <th>0</th>\n",
       "      <td>gxn3p5htnn</td>\n",
       "      <td>2010-06-28</td>\n",
       "      <td>2009-03-19 04:32:55</td>\n",
       "      <td>NaT</td>\n",
       "      <td>-unknown-</td>\n",
       "      <td>NaN</td>\n",
       "      <td>facebook</td>\n",
       "      <td>0</td>\n",
       "      <td>en</td>\n",
       "      <td>direct</td>\n",
       "      <td>direct</td>\n",
       "      <td>untracked</td>\n",
       "      <td>Web</td>\n",
       "      <td>Mac Desktop</td>\n",
       "      <td>Chrome</td>\n",
       "      <td>NDF</td>\n",
       "    </tr>\n",
       "    <tr>\n",
       "      <th>1</th>\n",
       "      <td>820tgsjxq7</td>\n",
       "      <td>2011-05-25</td>\n",
       "      <td>2009-05-23 17:48:09</td>\n",
       "      <td>NaT</td>\n",
       "      <td>MALE</td>\n",
       "      <td>38.0</td>\n",
       "      <td>facebook</td>\n",
       "      <td>0</td>\n",
       "      <td>en</td>\n",
       "      <td>seo</td>\n",
       "      <td>google</td>\n",
       "      <td>untracked</td>\n",
       "      <td>Web</td>\n",
       "      <td>Mac Desktop</td>\n",
       "      <td>Chrome</td>\n",
       "      <td>NDF</td>\n",
       "    </tr>\n",
       "    <tr>\n",
       "      <th>2</th>\n",
       "      <td>4ft3gnwmtx</td>\n",
       "      <td>2010-09-28</td>\n",
       "      <td>2009-06-09 23:12:47</td>\n",
       "      <td>2010-08-02</td>\n",
       "      <td>FEMALE</td>\n",
       "      <td>56.0</td>\n",
       "      <td>basic</td>\n",
       "      <td>3</td>\n",
       "      <td>en</td>\n",
       "      <td>direct</td>\n",
       "      <td>direct</td>\n",
       "      <td>untracked</td>\n",
       "      <td>Web</td>\n",
       "      <td>Windows Desktop</td>\n",
       "      <td>IE</td>\n",
       "      <td>US</td>\n",
       "    </tr>\n",
       "    <tr>\n",
       "      <th>3</th>\n",
       "      <td>bjjt8pjhuk</td>\n",
       "      <td>2011-12-05</td>\n",
       "      <td>2009-10-31 06:01:29</td>\n",
       "      <td>2012-09-08</td>\n",
       "      <td>FEMALE</td>\n",
       "      <td>42.0</td>\n",
       "      <td>facebook</td>\n",
       "      <td>0</td>\n",
       "      <td>en</td>\n",
       "      <td>direct</td>\n",
       "      <td>direct</td>\n",
       "      <td>untracked</td>\n",
       "      <td>Web</td>\n",
       "      <td>Mac Desktop</td>\n",
       "      <td>Firefox</td>\n",
       "      <td>other</td>\n",
       "    </tr>\n",
       "    <tr>\n",
       "      <th>4</th>\n",
       "      <td>87mebub9p4</td>\n",
       "      <td>2010-09-14</td>\n",
       "      <td>2009-12-08 06:11:05</td>\n",
       "      <td>2010-02-18</td>\n",
       "      <td>-unknown-</td>\n",
       "      <td>41.0</td>\n",
       "      <td>basic</td>\n",
       "      <td>0</td>\n",
       "      <td>en</td>\n",
       "      <td>direct</td>\n",
       "      <td>direct</td>\n",
       "      <td>untracked</td>\n",
       "      <td>Web</td>\n",
       "      <td>Mac Desktop</td>\n",
       "      <td>Chrome</td>\n",
       "      <td>US</td>\n",
       "    </tr>\n",
       "  </tbody>\n",
       "</table>\n",
       "</div>"
      ],
      "text/plain": [
       "           id date_account_created timestamp_first_active date_first_booking  \\\n",
       "0  gxn3p5htnn           2010-06-28    2009-03-19 04:32:55                NaT   \n",
       "1  820tgsjxq7           2011-05-25    2009-05-23 17:48:09                NaT   \n",
       "2  4ft3gnwmtx           2010-09-28    2009-06-09 23:12:47         2010-08-02   \n",
       "3  bjjt8pjhuk           2011-12-05    2009-10-31 06:01:29         2012-09-08   \n",
       "4  87mebub9p4           2010-09-14    2009-12-08 06:11:05         2010-02-18   \n",
       "\n",
       "      gender   age signup_method  signup_flow language affiliate_channel  \\\n",
       "0  -unknown-   NaN      facebook            0       en            direct   \n",
       "1       MALE  38.0      facebook            0       en               seo   \n",
       "2     FEMALE  56.0         basic            3       en            direct   \n",
       "3     FEMALE  42.0      facebook            0       en            direct   \n",
       "4  -unknown-  41.0         basic            0       en            direct   \n",
       "\n",
       "  affiliate_provider first_affiliate_tracked signup_app first_device_type  \\\n",
       "0             direct               untracked        Web       Mac Desktop   \n",
       "1             google               untracked        Web       Mac Desktop   \n",
       "2             direct               untracked        Web   Windows Desktop   \n",
       "3             direct               untracked        Web       Mac Desktop   \n",
       "4             direct               untracked        Web       Mac Desktop   \n",
       "\n",
       "  first_browser country_destination  \n",
       "0        Chrome                 NDF  \n",
       "1        Chrome                 NDF  \n",
       "2            IE                  US  \n",
       "3       Firefox               other  \n",
       "4        Chrome                  US  "
      ]
     },
     "execution_count": 6,
     "metadata": {},
     "output_type": "execute_result"
    }
   ],
   "source": [
    "train_df.head()"
   ]
  },
  {
   "cell_type": "code",
   "execution_count": 7,
   "id": "mineral-skiing",
   "metadata": {
    "execution": {
     "iopub.execute_input": "2021-07-07T13:08:43.345712Z",
     "iopub.status.busy": "2021-07-07T13:08:43.344803Z",
     "iopub.status.idle": "2021-07-07T13:08:43.349192Z",
     "shell.execute_reply": "2021-07-07T13:08:43.348535Z",
     "shell.execute_reply.started": "2021-07-07T12:58:25.103240Z"
    },
    "papermill": {
     "duration": 0.048932,
     "end_time": "2021-07-07T13:08:43.349339",
     "exception": false,
     "start_time": "2021-07-07T13:08:43.300407",
     "status": "completed"
    },
    "tags": []
   },
   "outputs": [
    {
     "data": {
      "text/plain": [
       "(213451, 16)"
      ]
     },
     "execution_count": 7,
     "metadata": {},
     "output_type": "execute_result"
    }
   ],
   "source": [
    "train_df.shape"
   ]
  },
  {
   "cell_type": "code",
   "execution_count": 8,
   "id": "exceptional-quality",
   "metadata": {
    "execution": {
     "iopub.execute_input": "2021-07-07T13:08:43.451822Z",
     "iopub.status.busy": "2021-07-07T13:08:43.450799Z",
     "iopub.status.idle": "2021-07-07T13:08:43.455936Z",
     "shell.execute_reply": "2021-07-07T13:08:43.455364Z",
     "shell.execute_reply.started": "2021-07-07T12:58:25.113395Z"
    },
    "papermill": {
     "duration": 0.066492,
     "end_time": "2021-07-07T13:08:43.456080",
     "exception": false,
     "start_time": "2021-07-07T13:08:43.389588",
     "status": "completed"
    },
    "tags": []
   },
   "outputs": [
    {
     "data": {
      "text/html": [
       "<div>\n",
       "<style scoped>\n",
       "    .dataframe tbody tr th:only-of-type {\n",
       "        vertical-align: middle;\n",
       "    }\n",
       "\n",
       "    .dataframe tbody tr th {\n",
       "        vertical-align: top;\n",
       "    }\n",
       "\n",
       "    .dataframe thead th {\n",
       "        text-align: right;\n",
       "    }\n",
       "</style>\n",
       "<table border=\"1\" class=\"dataframe\">\n",
       "  <thead>\n",
       "    <tr style=\"text-align: right;\">\n",
       "      <th></th>\n",
       "      <th>id</th>\n",
       "      <th>date_account_created</th>\n",
       "      <th>timestamp_first_active</th>\n",
       "      <th>date_first_booking</th>\n",
       "      <th>gender</th>\n",
       "      <th>age</th>\n",
       "      <th>signup_method</th>\n",
       "      <th>signup_flow</th>\n",
       "      <th>language</th>\n",
       "      <th>affiliate_channel</th>\n",
       "      <th>affiliate_provider</th>\n",
       "      <th>first_affiliate_tracked</th>\n",
       "      <th>signup_app</th>\n",
       "      <th>first_device_type</th>\n",
       "      <th>first_browser</th>\n",
       "    </tr>\n",
       "  </thead>\n",
       "  <tbody>\n",
       "    <tr>\n",
       "      <th>0</th>\n",
       "      <td>5uwns89zht</td>\n",
       "      <td>2014-07-01</td>\n",
       "      <td>2014-07-01 00:00:06</td>\n",
       "      <td>NaT</td>\n",
       "      <td>FEMALE</td>\n",
       "      <td>35.0</td>\n",
       "      <td>facebook</td>\n",
       "      <td>0</td>\n",
       "      <td>en</td>\n",
       "      <td>direct</td>\n",
       "      <td>direct</td>\n",
       "      <td>untracked</td>\n",
       "      <td>Moweb</td>\n",
       "      <td>iPhone</td>\n",
       "      <td>Mobile Safari</td>\n",
       "    </tr>\n",
       "    <tr>\n",
       "      <th>1</th>\n",
       "      <td>jtl0dijy2j</td>\n",
       "      <td>2014-07-01</td>\n",
       "      <td>2014-07-01 00:00:51</td>\n",
       "      <td>NaT</td>\n",
       "      <td>-unknown-</td>\n",
       "      <td>NaN</td>\n",
       "      <td>basic</td>\n",
       "      <td>0</td>\n",
       "      <td>en</td>\n",
       "      <td>direct</td>\n",
       "      <td>direct</td>\n",
       "      <td>untracked</td>\n",
       "      <td>Moweb</td>\n",
       "      <td>iPhone</td>\n",
       "      <td>Mobile Safari</td>\n",
       "    </tr>\n",
       "    <tr>\n",
       "      <th>2</th>\n",
       "      <td>xx0ulgorjt</td>\n",
       "      <td>2014-07-01</td>\n",
       "      <td>2014-07-01 00:01:48</td>\n",
       "      <td>NaT</td>\n",
       "      <td>-unknown-</td>\n",
       "      <td>NaN</td>\n",
       "      <td>basic</td>\n",
       "      <td>0</td>\n",
       "      <td>en</td>\n",
       "      <td>direct</td>\n",
       "      <td>direct</td>\n",
       "      <td>linked</td>\n",
       "      <td>Web</td>\n",
       "      <td>Windows Desktop</td>\n",
       "      <td>Chrome</td>\n",
       "    </tr>\n",
       "    <tr>\n",
       "      <th>3</th>\n",
       "      <td>6c6puo6ix0</td>\n",
       "      <td>2014-07-01</td>\n",
       "      <td>2014-07-01 00:02:15</td>\n",
       "      <td>NaT</td>\n",
       "      <td>-unknown-</td>\n",
       "      <td>NaN</td>\n",
       "      <td>basic</td>\n",
       "      <td>0</td>\n",
       "      <td>en</td>\n",
       "      <td>direct</td>\n",
       "      <td>direct</td>\n",
       "      <td>linked</td>\n",
       "      <td>Web</td>\n",
       "      <td>Windows Desktop</td>\n",
       "      <td>IE</td>\n",
       "    </tr>\n",
       "    <tr>\n",
       "      <th>4</th>\n",
       "      <td>czqhjk3yfe</td>\n",
       "      <td>2014-07-01</td>\n",
       "      <td>2014-07-01 00:03:05</td>\n",
       "      <td>NaT</td>\n",
       "      <td>-unknown-</td>\n",
       "      <td>NaN</td>\n",
       "      <td>basic</td>\n",
       "      <td>0</td>\n",
       "      <td>en</td>\n",
       "      <td>direct</td>\n",
       "      <td>direct</td>\n",
       "      <td>untracked</td>\n",
       "      <td>Web</td>\n",
       "      <td>Mac Desktop</td>\n",
       "      <td>Safari</td>\n",
       "    </tr>\n",
       "  </tbody>\n",
       "</table>\n",
       "</div>"
      ],
      "text/plain": [
       "           id date_account_created timestamp_first_active date_first_booking  \\\n",
       "0  5uwns89zht           2014-07-01    2014-07-01 00:00:06                NaT   \n",
       "1  jtl0dijy2j           2014-07-01    2014-07-01 00:00:51                NaT   \n",
       "2  xx0ulgorjt           2014-07-01    2014-07-01 00:01:48                NaT   \n",
       "3  6c6puo6ix0           2014-07-01    2014-07-01 00:02:15                NaT   \n",
       "4  czqhjk3yfe           2014-07-01    2014-07-01 00:03:05                NaT   \n",
       "\n",
       "      gender   age signup_method  signup_flow language affiliate_channel  \\\n",
       "0     FEMALE  35.0      facebook            0       en            direct   \n",
       "1  -unknown-   NaN         basic            0       en            direct   \n",
       "2  -unknown-   NaN         basic            0       en            direct   \n",
       "3  -unknown-   NaN         basic            0       en            direct   \n",
       "4  -unknown-   NaN         basic            0       en            direct   \n",
       "\n",
       "  affiliate_provider first_affiliate_tracked signup_app first_device_type  \\\n",
       "0             direct               untracked      Moweb            iPhone   \n",
       "1             direct               untracked      Moweb            iPhone   \n",
       "2             direct                  linked        Web   Windows Desktop   \n",
       "3             direct                  linked        Web   Windows Desktop   \n",
       "4             direct               untracked        Web       Mac Desktop   \n",
       "\n",
       "   first_browser  \n",
       "0  Mobile Safari  \n",
       "1  Mobile Safari  \n",
       "2         Chrome  \n",
       "3             IE  \n",
       "4         Safari  "
      ]
     },
     "execution_count": 8,
     "metadata": {},
     "output_type": "execute_result"
    }
   ],
   "source": [
    "test_df.head()"
   ]
  },
  {
   "cell_type": "code",
   "execution_count": 9,
   "id": "median-nerve",
   "metadata": {
    "execution": {
     "iopub.execute_input": "2021-07-07T13:08:43.542797Z",
     "iopub.status.busy": "2021-07-07T13:08:43.541864Z",
     "iopub.status.idle": "2021-07-07T13:08:43.546059Z",
     "shell.execute_reply": "2021-07-07T13:08:43.546545Z",
     "shell.execute_reply.started": "2021-07-07T12:58:25.148170Z"
    },
    "papermill": {
     "duration": 0.050066,
     "end_time": "2021-07-07T13:08:43.546723",
     "exception": false,
     "start_time": "2021-07-07T13:08:43.496657",
     "status": "completed"
    },
    "tags": []
   },
   "outputs": [
    {
     "data": {
      "text/plain": [
       "(62096, 15)"
      ]
     },
     "execution_count": 9,
     "metadata": {},
     "output_type": "execute_result"
    }
   ],
   "source": [
    "test_df.shape"
   ]
  },
  {
   "cell_type": "markdown",
   "id": "sensitive-organic",
   "metadata": {
    "papermill": {
     "duration": 0.041274,
     "end_time": "2021-07-07T13:08:43.629346",
     "exception": false,
     "start_time": "2021-07-07T13:08:43.588072",
     "status": "completed"
    },
    "tags": []
   },
   "source": [
    "**check for Null values**"
   ]
  },
  {
   "cell_type": "code",
   "execution_count": 10,
   "id": "great-calvin",
   "metadata": {
    "execution": {
     "iopub.execute_input": "2021-07-07T13:08:43.743891Z",
     "iopub.status.busy": "2021-07-07T13:08:43.743198Z",
     "iopub.status.idle": "2021-07-07T13:08:44.017425Z",
     "shell.execute_reply": "2021-07-07T13:08:44.016859Z",
     "shell.execute_reply.started": "2021-07-07T12:58:25.169955Z"
    },
    "papermill": {
     "duration": 0.347119,
     "end_time": "2021-07-07T13:08:44.017578",
     "exception": false,
     "start_time": "2021-07-07T13:08:43.670459",
     "status": "completed"
    },
    "tags": []
   },
   "outputs": [
    {
     "data": {
      "text/plain": [
       "id                              0\n",
       "date_account_created            0\n",
       "timestamp_first_active          0\n",
       "date_first_booking         186639\n",
       "gender                          0\n",
       "age                        116866\n",
       "signup_method                   0\n",
       "signup_flow                     0\n",
       "language                        0\n",
       "affiliate_channel               0\n",
       "affiliate_provider              0\n",
       "first_affiliate_tracked      6085\n",
       "signup_app                      0\n",
       "first_device_type               0\n",
       "first_browser                   0\n",
       "country_destination         62096\n",
       "dtype: int64"
      ]
     },
     "execution_count": 10,
     "metadata": {},
     "output_type": "execute_result"
    }
   ],
   "source": [
    "train_test_combin.isnull().sum()"
   ]
  },
  {
   "cell_type": "markdown",
   "id": "accurate-google",
   "metadata": {
    "papermill": {
     "duration": 0.042387,
     "end_time": "2021-07-07T13:08:44.102664",
     "exception": false,
     "start_time": "2021-07-07T13:08:44.060277",
     "status": "completed"
    },
    "tags": []
   },
   "source": [
    "# Data Visulization"
   ]
  },
  {
   "cell_type": "markdown",
   "id": "defined-special",
   "metadata": {
    "papermill": {
     "duration": 0.040865,
     "end_time": "2021-07-07T13:08:44.184857",
     "exception": false,
     "start_time": "2021-07-07T13:08:44.143992",
     "status": "completed"
    },
    "tags": []
   },
   "source": [
    "**Min / Max Date in our data**\n",
    "\n",
    "The data is 5 years data starting from 2010 up to 2014"
   ]
  },
  {
   "cell_type": "code",
   "execution_count": 11,
   "id": "available-orbit",
   "metadata": {
    "execution": {
     "iopub.execute_input": "2021-07-07T13:08:44.274079Z",
     "iopub.status.busy": "2021-07-07T13:08:44.273266Z",
     "iopub.status.idle": "2021-07-07T13:08:44.279296Z",
     "shell.execute_reply": "2021-07-07T13:08:44.278651Z",
     "shell.execute_reply.started": "2021-07-07T12:58:25.493743Z"
    },
    "papermill": {
     "duration": 0.052583,
     "end_time": "2021-07-07T13:08:44.279448",
     "exception": false,
     "start_time": "2021-07-07T13:08:44.226865",
     "status": "completed"
    },
    "tags": []
   },
   "outputs": [
    {
     "name": "stdout",
     "output_type": "stream",
     "text": [
      "2010-01-01 00:00:00\n",
      "2014-09-30 00:00:00\n"
     ]
    }
   ],
   "source": [
    "print(train_test_combin.date_account_created.min())\n",
    "print(train_test_combin.date_account_created.max())"
   ]
  },
  {
   "cell_type": "markdown",
   "id": "different-format",
   "metadata": {
    "papermill": {
     "duration": 0.041641,
     "end_time": "2021-07-07T13:08:44.362589",
     "exception": false,
     "start_time": "2021-07-07T13:08:44.320948",
     "status": "completed"
    },
    "tags": []
   },
   "source": [
    "**Signup method used by users**"
   ]
  },
  {
   "cell_type": "code",
   "execution_count": 12,
   "id": "purple-huntington",
   "metadata": {
    "execution": {
     "iopub.execute_input": "2021-07-07T13:08:44.523908Z",
     "iopub.status.busy": "2021-07-07T13:08:44.521169Z",
     "iopub.status.idle": "2021-07-07T13:08:44.530318Z",
     "shell.execute_reply": "2021-07-07T13:08:44.529764Z",
     "shell.execute_reply.started": "2021-07-07T12:58:25.504903Z"
    },
    "papermill": {
     "duration": 0.12595,
     "end_time": "2021-07-07T13:08:44.530469",
     "exception": false,
     "start_time": "2021-07-07T13:08:44.404519",
     "status": "completed"
    },
    "tags": []
   },
   "outputs": [
    {
     "data": {
      "text/plain": [
       "basic       198222\n",
       "facebook     74864\n",
       "google        2438\n",
       "weibo           23\n",
       "Name: signup_method, dtype: int64"
      ]
     },
     "execution_count": 12,
     "metadata": {},
     "output_type": "execute_result"
    }
   ],
   "source": [
    "train_test_combin['signup_method'].value_counts()"
   ]
  },
  {
   "cell_type": "code",
   "execution_count": 13,
   "id": "corporate-township",
   "metadata": {
    "execution": {
     "iopub.execute_input": "2021-07-07T13:08:44.688343Z",
     "iopub.status.busy": "2021-07-07T13:08:44.687525Z",
     "iopub.status.idle": "2021-07-07T13:08:44.910778Z",
     "shell.execute_reply": "2021-07-07T13:08:44.910244Z",
     "shell.execute_reply.started": "2021-07-07T12:58:25.589413Z"
    },
    "papermill": {
     "duration": 0.338274,
     "end_time": "2021-07-07T13:08:44.910913",
     "exception": false,
     "start_time": "2021-07-07T13:08:44.572639",
     "status": "completed"
    },
    "tags": []
   },
   "outputs": [
    {
     "data": {
      "text/plain": [
       "<AxesSubplot:>"
      ]
     },
     "execution_count": 13,
     "metadata": {},
     "output_type": "execute_result"
    },
    {
     "data": {
      "image/png": "[encoded data removed]",
      "text/plain": [
       "<Figure size 432x288 with 1 Axes>"
      ]
     },
     "metadata": {},
     "output_type": "display_data"
    }
   ],
   "source": [
    "train_test_combin.signup_method.value_counts(dropna=False).plot(kind='bar', color=colors)"
   ]
  },
  {
   "cell_type": "markdown",
   "id": "unavailable-halloween",
   "metadata": {
    "papermill": {
     "duration": 0.044261,
     "end_time": "2021-07-07T13:08:44.999383",
     "exception": false,
     "start_time": "2021-07-07T13:08:44.955122",
     "status": "completed"
    },
    "tags": []
   },
   "source": [
    "**Users Devices**"
   ]
  },
  {
   "cell_type": "code",
   "execution_count": 14,
   "id": "detected-teddy",
   "metadata": {
    "execution": {
     "iopub.execute_input": "2021-07-07T13:08:45.161401Z",
     "iopub.status.busy": "2021-07-07T13:08:45.158500Z",
     "iopub.status.idle": "2021-07-07T13:08:45.165981Z",
     "shell.execute_reply": "2021-07-07T13:08:45.165472Z",
     "shell.execute_reply.started": "2021-07-07T12:58:25.868680Z"
    },
    "papermill": {
     "duration": 0.123503,
     "end_time": "2021-07-07T13:08:45.166180",
     "exception": false,
     "start_time": "2021-07-07T13:08:45.042677",
     "status": "completed"
    },
    "tags": []
   },
   "outputs": [
    {
     "data": {
      "text/plain": [
       "Mac Desktop           106328\n",
       "Windows Desktop        86948\n",
       "iPhone                 39814\n",
       "iPad                   18036\n",
       "Other/Unknown          11167\n",
       "Android Phone           9458\n",
       "Android Tablet          2098\n",
       "Desktop (Other)         1507\n",
       "SmartPhone (Other)       191\n",
       "Name: first_device_type, dtype: int64"
      ]
     },
     "execution_count": 14,
     "metadata": {},
     "output_type": "execute_result"
    }
   ],
   "source": [
    "train_test_combin['first_device_type'].value_counts()"
   ]
  },
  {
   "cell_type": "code",
   "execution_count": 15,
   "id": "american-tourism",
   "metadata": {
    "execution": {
     "iopub.execute_input": "2021-07-07T13:08:45.346347Z",
     "iopub.status.busy": "2021-07-07T13:08:45.325071Z",
     "iopub.status.idle": "2021-07-07T13:08:45.527889Z",
     "shell.execute_reply": "2021-07-07T13:08:45.527370Z",
     "shell.execute_reply.started": "2021-07-07T12:58:25.948348Z"
    },
    "papermill": {
     "duration": 0.31793,
     "end_time": "2021-07-07T13:08:45.528030",
     "exception": false,
     "start_time": "2021-07-07T13:08:45.210100",
     "status": "completed"
    },
    "tags": []
   },
   "outputs": [
    {
     "data": {
      "text/plain": [
       "<AxesSubplot:>"
      ]
     },
     "execution_count": 15,
     "metadata": {},
     "output_type": "execute_result"
    },
    {
     "data": {
      "image/png": "[encoded data removed]",
      "text/plain": [
       "<Figure size 432x288 with 1 Axes>"
      ]
     },
     "metadata": {},
     "output_type": "display_data"
    }
   ],
   "source": [
    "train_test_combin.first_device_type.value_counts(dropna=False).plot(kind='bar', color=colors)\n"
   ]
  },
  {
   "cell_type": "markdown",
   "id": "revised-matrix",
   "metadata": {
    "papermill": {
     "duration": 0.044298,
     "end_time": "2021-07-07T13:08:45.616846",
     "exception": false,
     "start_time": "2021-07-07T13:08:45.572548",
     "status": "completed"
    },
    "tags": []
   },
   "source": [
    "**detailed view with % percent**"
   ]
  },
  {
   "cell_type": "code",
   "execution_count": 16,
   "id": "desperate-festival",
   "metadata": {
    "execution": {
     "iopub.execute_input": "2021-07-07T13:08:45.768150Z",
     "iopub.status.busy": "2021-07-07T13:08:45.767375Z",
     "iopub.status.idle": "2021-07-07T13:08:46.245720Z",
     "shell.execute_reply": "2021-07-07T13:08:46.246503Z",
     "shell.execute_reply.started": "2021-07-07T12:58:26.282802Z"
    },
    "papermill": {
     "duration": 0.584674,
     "end_time": "2021-07-07T13:08:46.246759",
     "exception": false,
     "start_time": "2021-07-07T13:08:45.662085",
     "status": "completed"
    },
    "tags": []
   },
   "outputs": [
    {
     "data": {
      "image/png": "[encoded data removed]",
      "text/plain": [
       "<Figure size 720x432 with 1 Axes>"
      ]
     },
     "metadata": {},
     "output_type": "display_data"
    }
   ],
   "source": [
    "plt.figure(figsize=(10,6))\n",
    "cd_count_idx = bookings_data['first_device_type'].value_counts().index\n",
    "sns.countplot(data = bookings_data, x = 'first_device_type', order = cd_count_idx, color = sns.color_palette()[0])\n",
    "plt.xlabel('Devices Type')\n",
    "plt.ylabel('Count')\n",
    "plt.title('Users Devices')\n",
    "plt.xticks(rotation=90)\n",
    "cd_count_val = bookings_data['first_device_type'].value_counts()\n",
    "\n",
    "for i in range(cd_count_val.shape[0]):\n",
    "    count = cd_count_val[i]\n",
    "    percentage ='{:0.1f}%'.format(100 * count / len(bookings_data))\n",
    "    plt.text(i, count+1000, percentage, ha='center')"
   ]
  },
  {
   "cell_type": "markdown",
   "id": "sharp-march",
   "metadata": {
    "papermill": {
     "duration": 0.051526,
     "end_time": "2021-07-07T13:08:46.356530",
     "exception": false,
     "start_time": "2021-07-07T13:08:46.305004",
     "status": "completed"
    },
    "tags": []
   },
   "source": [
    "**Internet browsers used**"
   ]
  },
  {
   "cell_type": "code",
   "execution_count": 17,
   "id": "annual-arlington",
   "metadata": {
    "execution": {
     "iopub.execute_input": "2021-07-07T13:08:46.522883Z",
     "iopub.status.busy": "2021-07-07T13:08:46.521906Z",
     "iopub.status.idle": "2021-07-07T13:08:46.529723Z",
     "shell.execute_reply": "2021-07-07T13:08:46.530337Z",
     "shell.execute_reply.started": "2021-07-07T12:58:26.850865Z"
    },
    "papermill": {
     "duration": 0.126893,
     "end_time": "2021-07-07T13:08:46.530510",
     "exception": false,
     "start_time": "2021-07-07T13:08:46.403617",
     "status": "completed"
    },
    "tags": []
   },
   "outputs": [
    {
     "data": {
      "text/plain": [
       "Chrome                  78671\n",
       "Safari                  53302\n",
       "-unknown-               44394\n",
       "Firefox                 38665\n",
       "Mobile Safari           29636\n",
       "IE                      24744\n",
       "Chrome Mobile            3186\n",
       "Android Browser          1577\n",
       "AOL Explorer              254\n",
       "Opera                     228\n",
       "Silk                      172\n",
       "IE Mobile                 118\n",
       "BlackBerry Browser         89\n",
       "Chromium                   83\n",
       "Mobile Firefox             64\n",
       "Maxthon                    60\n",
       "Apple Mail                 45\n",
       "Sogou Explorer             43\n",
       "SiteKiosk                  27\n",
       "Iron                       24\n",
       "RockMelt                   24\n",
       "IceWeasel                  14\n",
       "Yandex.Browser             14\n",
       "Pale Moon                  13\n",
       "SeaMonkey                  12\n",
       "CometBird                  12\n",
       "Camino                      9\n",
       "TenFourFox                  8\n",
       "Opera Mini                  8\n",
       "wOSBrowser                  7\n",
       "CoolNovo                    6\n",
       "Avant Browser               4\n",
       "Opera Mobile                4\n",
       "Mozilla                     3\n",
       "Flock                       2\n",
       "Comodo Dragon               2\n",
       "OmniWeb                     2\n",
       "SlimBrowser                 2\n",
       "Crazy Browser               2\n",
       "TheWorld Browser            2\n",
       "Googlebot                   1\n",
       "IBrowse                     1\n",
       "Arora                       1\n",
       "Epic                        1\n",
       "Conkeror                    1\n",
       "Palm Pre web browser        1\n",
       "UC Browser                  1\n",
       "PS Vita browser             1\n",
       "NetNewsWire                 1\n",
       "Nintendo Browser            1\n",
       "Google Earth                1\n",
       "Stainless                   1\n",
       "Outlook 2007                1\n",
       "Kindle Browser              1\n",
       "IceDragon                   1\n",
       "Name: first_browser, dtype: int64"
      ]
     },
     "execution_count": 17,
     "metadata": {},
     "output_type": "execute_result"
    }
   ],
   "source": [
    "train_test_combin['first_browser'].value_counts()"
   ]
  },
  {
   "cell_type": "markdown",
   "id": "careful-hypothesis",
   "metadata": {
    "papermill": {
     "duration": 0.046338,
     "end_time": "2021-07-07T13:08:46.623204",
     "exception": false,
     "start_time": "2021-07-07T13:08:46.576866",
     "status": "completed"
    },
    "tags": []
   },
   "source": [
    "> Google Chrome is the most poular Internet exolorer "
   ]
  },
  {
   "cell_type": "markdown",
   "id": "elder-photography",
   "metadata": {
    "papermill": {
     "duration": 0.046529,
     "end_time": "2021-07-07T13:08:46.716924",
     "exception": false,
     "start_time": "2021-07-07T13:08:46.670395",
     "status": "completed"
    },
    "tags": []
   },
   "source": [
    "**Top 10 browsers**"
   ]
  },
  {
   "cell_type": "code",
   "execution_count": 18,
   "id": "professional-generic",
   "metadata": {
    "execution": {
     "iopub.execute_input": "2021-07-07T13:08:46.817335Z",
     "iopub.status.busy": "2021-07-07T13:08:46.816417Z",
     "iopub.status.idle": "2021-07-07T13:08:47.115115Z",
     "shell.execute_reply": "2021-07-07T13:08:47.115594Z",
     "shell.execute_reply.started": "2021-07-07T12:58:26.930785Z"
    },
    "papermill": {
     "duration": 0.35196,
     "end_time": "2021-07-07T13:08:47.115762",
     "exception": false,
     "start_time": "2021-07-07T13:08:46.763802",
     "status": "completed"
    },
    "tags": []
   },
   "outputs": [
    {
     "data": {
      "text/plain": [
       "<AxesSubplot:>"
      ]
     },
     "execution_count": 18,
     "metadata": {},
     "output_type": "execute_result"
    },
    {
     "data": {
      "image/png": "[encoded data removed]",
      "text/plain": [
       "<Figure size 432x288 with 1 Axes>"
      ]
     },
     "metadata": {},
     "output_type": "display_data"
    }
   ],
   "source": [
    "train_test_combin['first_browser'].value_counts().head(10).plot(kind='bar', color=colors)"
   ]
  },
  {
   "cell_type": "markdown",
   "id": "digital-indiana",
   "metadata": {
    "papermill": {
     "duration": 0.047033,
     "end_time": "2021-07-07T13:08:47.210040",
     "exception": false,
     "start_time": "2021-07-07T13:08:47.163007",
     "status": "completed"
    },
    "tags": []
   },
   "source": [
    "**Gender and Age**\n",
    "* Average age around 35.\n",
    "* we have more females users than male"
   ]
  },
  {
   "cell_type": "code",
   "execution_count": 19,
   "id": "expressed-christianity",
   "metadata": {
    "execution": {
     "iopub.execute_input": "2021-07-07T13:08:47.308337Z",
     "iopub.status.busy": "2021-07-07T13:08:47.307407Z",
     "iopub.status.idle": "2021-07-07T13:08:47.381551Z",
     "shell.execute_reply": "2021-07-07T13:08:47.382041Z",
     "shell.execute_reply.started": "2021-07-07T12:58:27.295177Z"
    },
    "papermill": {
     "duration": 0.124775,
     "end_time": "2021-07-07T13:08:47.382243",
     "exception": false,
     "start_time": "2021-07-07T13:08:47.257468",
     "status": "completed"
    },
    "tags": []
   },
   "outputs": [
    {
     "data": {
      "text/plain": [
       "-unknown-    129480\n",
       "FEMALE        77524\n",
       "MALE          68209\n",
       "OTHER           334\n",
       "Name: gender, dtype: int64"
      ]
     },
     "execution_count": 19,
     "metadata": {},
     "output_type": "execute_result"
    }
   ],
   "source": [
    "train_test_combin['gender'].value_counts()"
   ]
  },
  {
   "cell_type": "code",
   "execution_count": 20,
   "id": "average-opportunity",
   "metadata": {
    "execution": {
     "iopub.execute_input": "2021-07-07T13:08:47.481072Z",
     "iopub.status.busy": "2021-07-07T13:08:47.480180Z",
     "iopub.status.idle": "2021-07-07T13:08:47.539712Z",
     "shell.execute_reply": "2021-07-07T13:08:47.538847Z",
     "shell.execute_reply.started": "2021-07-07T12:58:27.379290Z"
    },
    "papermill": {
     "duration": 0.11014,
     "end_time": "2021-07-07T13:08:47.539858",
     "exception": false,
     "start_time": "2021-07-07T13:08:47.429718",
     "status": "completed"
    },
    "tags": []
   },
   "outputs": [
    {
     "data": {
      "text/html": [
       "<div>\n",
       "<style scoped>\n",
       "    .dataframe tbody tr th:only-of-type {\n",
       "        vertical-align: middle;\n",
       "    }\n",
       "\n",
       "    .dataframe tbody tr th {\n",
       "        vertical-align: top;\n",
       "    }\n",
       "\n",
       "    .dataframe thead th {\n",
       "        text-align: right;\n",
       "    }\n",
       "</style>\n",
       "<table border=\"1\" class=\"dataframe\">\n",
       "  <thead>\n",
       "    <tr style=\"text-align: right;\">\n",
       "      <th></th>\n",
       "      <th>min</th>\n",
       "      <th>max</th>\n",
       "      <th>mean</th>\n",
       "      <th>count</th>\n",
       "    </tr>\n",
       "    <tr>\n",
       "      <th>gender</th>\n",
       "      <th></th>\n",
       "      <th></th>\n",
       "      <th></th>\n",
       "      <th></th>\n",
       "    </tr>\n",
       "  </thead>\n",
       "  <tbody>\n",
       "    <tr>\n",
       "      <th>-unknown-</th>\n",
       "      <td>1.0</td>\n",
       "      <td>2014.0</td>\n",
       "      <td>44.581328</td>\n",
       "      <td>22237</td>\n",
       "    </tr>\n",
       "    <tr>\n",
       "      <th>FEMALE</th>\n",
       "      <td>1.0</td>\n",
       "      <td>2014.0</td>\n",
       "      <td>49.645347</td>\n",
       "      <td>71907</td>\n",
       "    </tr>\n",
       "    <tr>\n",
       "      <th>MALE</th>\n",
       "      <td>1.0</td>\n",
       "      <td>2014.0</td>\n",
       "      <td>45.191540</td>\n",
       "      <td>64258</td>\n",
       "    </tr>\n",
       "    <tr>\n",
       "      <th>OTHER</th>\n",
       "      <td>17.0</td>\n",
       "      <td>2014.0</td>\n",
       "      <td>57.146953</td>\n",
       "      <td>279</td>\n",
       "    </tr>\n",
       "  </tbody>\n",
       "</table>\n",
       "</div>"
      ],
      "text/plain": [
       "            min     max       mean  count\n",
       "gender                                   \n",
       "-unknown-   1.0  2014.0  44.581328  22237\n",
       "FEMALE      1.0  2014.0  49.645347  71907\n",
       "MALE        1.0  2014.0  45.191540  64258\n",
       "OTHER      17.0  2014.0  57.146953    279"
      ]
     },
     "execution_count": 20,
     "metadata": {},
     "output_type": "execute_result"
    }
   ],
   "source": [
    "train_test_combin.groupby('gender').age.agg(['min','max','mean','count'])"
   ]
  },
  {
   "cell_type": "markdown",
   "id": "metropolitan-portsmouth",
   "metadata": {
    "papermill": {
     "duration": 0.048289,
     "end_time": "2021-07-07T13:08:47.636490",
     "exception": false,
     "start_time": "2021-07-07T13:08:47.588201",
     "status": "completed"
    },
    "tags": []
   },
   "source": [
    "**Filter age between 1-100 and set others to NAN**\n",
    "\n",
    ">  some of the age valus are not logical like(2014, 188...etc.)"
   ]
  },
  {
   "cell_type": "code",
   "execution_count": 21,
   "id": "fleet-petersburg",
   "metadata": {
    "execution": {
     "iopub.execute_input": "2021-07-07T13:08:47.743441Z",
     "iopub.status.busy": "2021-07-07T13:08:47.742759Z",
     "iopub.status.idle": "2021-07-07T13:08:47.929026Z",
     "shell.execute_reply": "2021-07-07T13:08:47.927964Z",
     "shell.execute_reply.started": "2021-07-07T12:58:27.444540Z"
    },
    "papermill": {
     "duration": 0.24344,
     "end_time": "2021-07-07T13:08:47.929211",
     "exception": false,
     "start_time": "2021-07-07T13:08:47.685771",
     "status": "completed"
    },
    "tags": []
   },
   "outputs": [],
   "source": [
    "train_test_combin.loc[train_test_combin.age > 100, 'age'] = np.nan"
   ]
  },
  {
   "cell_type": "code",
   "execution_count": 22,
   "id": "naked-phrase",
   "metadata": {
    "execution": {
     "iopub.execute_input": "2021-07-07T13:08:48.041123Z",
     "iopub.status.busy": "2021-07-07T13:08:48.040469Z",
     "iopub.status.idle": "2021-07-07T13:08:48.086415Z",
     "shell.execute_reply": "2021-07-07T13:08:48.085792Z",
     "shell.execute_reply.started": "2021-07-07T12:58:27.456159Z"
    },
    "papermill": {
     "duration": 0.105042,
     "end_time": "2021-07-07T13:08:48.086569",
     "exception": false,
     "start_time": "2021-07-07T13:08:47.981527",
     "status": "completed"
    },
    "tags": []
   },
   "outputs": [
    {
     "data": {
      "text/html": [
       "<div>\n",
       "<style scoped>\n",
       "    .dataframe tbody tr th:only-of-type {\n",
       "        vertical-align: middle;\n",
       "    }\n",
       "\n",
       "    .dataframe tbody tr th {\n",
       "        vertical-align: top;\n",
       "    }\n",
       "\n",
       "    .dataframe thead th {\n",
       "        text-align: right;\n",
       "    }\n",
       "</style>\n",
       "<table border=\"1\" class=\"dataframe\">\n",
       "  <thead>\n",
       "    <tr style=\"text-align: right;\">\n",
       "      <th></th>\n",
       "      <th>min</th>\n",
       "      <th>max</th>\n",
       "      <th>mean</th>\n",
       "      <th>count</th>\n",
       "    </tr>\n",
       "    <tr>\n",
       "      <th>gender</th>\n",
       "      <th></th>\n",
       "      <th></th>\n",
       "      <th></th>\n",
       "      <th></th>\n",
       "    </tr>\n",
       "  </thead>\n",
       "  <tbody>\n",
       "    <tr>\n",
       "      <th>-unknown-</th>\n",
       "      <td>1.0</td>\n",
       "      <td>100.0</td>\n",
       "      <td>36.470110</td>\n",
       "      <td>21412</td>\n",
       "    </tr>\n",
       "    <tr>\n",
       "      <th>FEMALE</th>\n",
       "      <td>1.0</td>\n",
       "      <td>100.0</td>\n",
       "      <td>35.711567</td>\n",
       "      <td>70838</td>\n",
       "    </tr>\n",
       "    <tr>\n",
       "      <th>MALE</th>\n",
       "      <td>1.0</td>\n",
       "      <td>100.0</td>\n",
       "      <td>36.269660</td>\n",
       "      <td>63465</td>\n",
       "    </tr>\n",
       "    <tr>\n",
       "      <th>OTHER</th>\n",
       "      <td>17.0</td>\n",
       "      <td>78.0</td>\n",
       "      <td>35.876812</td>\n",
       "      <td>276</td>\n",
       "    </tr>\n",
       "  </tbody>\n",
       "</table>\n",
       "</div>"
      ],
      "text/plain": [
       "            min    max       mean  count\n",
       "gender                                  \n",
       "-unknown-   1.0  100.0  36.470110  21412\n",
       "FEMALE      1.0  100.0  35.711567  70838\n",
       "MALE        1.0  100.0  36.269660  63465\n",
       "OTHER      17.0   78.0  35.876812    276"
      ]
     },
     "execution_count": 22,
     "metadata": {},
     "output_type": "execute_result"
    }
   ],
   "source": [
    "train_test_combin.groupby('gender').age.agg(['min','max','mean','count'])"
   ]
  },
  {
   "cell_type": "code",
   "execution_count": 23,
   "id": "premium-flexibility",
   "metadata": {
    "execution": {
     "iopub.execute_input": "2021-07-07T13:08:48.304792Z",
     "iopub.status.busy": "2021-07-07T13:08:48.258855Z",
     "iopub.status.idle": "2021-07-07T13:08:48.415546Z",
     "shell.execute_reply": "2021-07-07T13:08:48.414919Z",
     "shell.execute_reply.started": "2021-07-07T12:58:27.519454Z"
    },
    "papermill": {
     "duration": 0.279676,
     "end_time": "2021-07-07T13:08:48.415695",
     "exception": false,
     "start_time": "2021-07-07T13:08:48.136019",
     "status": "completed"
    },
    "tags": []
   },
   "outputs": [
    {
     "data": {
      "text/plain": [
       "<AxesSubplot:>"
      ]
     },
     "execution_count": 23,
     "metadata": {},
     "output_type": "execute_result"
    },
    {
     "data": {
      "image/png": "[encoded data removed]",
      "text/plain": [
       "<Figure size 432x288 with 1 Axes>"
      ]
     },
     "metadata": {},
     "output_type": "display_data"
    }
   ],
   "source": [
    "train_test_combin['gender'].value_counts().plot(kind='bar', color=colors)"
   ]
  },
  {
   "cell_type": "markdown",
   "id": "finnish-municipality",
   "metadata": {
    "papermill": {
     "duration": 0.049138,
     "end_time": "2021-07-07T13:08:48.514354",
     "exception": false,
     "start_time": "2021-07-07T13:08:48.465216",
     "status": "completed"
    },
    "tags": []
   },
   "source": [
    "**Gender % percent**"
   ]
  },
  {
   "cell_type": "code",
   "execution_count": 24,
   "id": "atomic-missouri",
   "metadata": {
    "execution": {
     "iopub.execute_input": "2021-07-07T13:08:48.718956Z",
     "iopub.status.busy": "2021-07-07T13:08:48.690265Z",
     "iopub.status.idle": "2021-07-07T13:08:49.145547Z",
     "shell.execute_reply": "2021-07-07T13:08:49.144857Z",
     "shell.execute_reply.started": "2021-07-07T12:58:27.799211Z"
    },
    "papermill": {
     "duration": 0.581823,
     "end_time": "2021-07-07T13:08:49.145701",
     "exception": false,
     "start_time": "2021-07-07T13:08:48.563878",
     "status": "completed"
    },
    "tags": []
   },
   "outputs": [
    {
     "data": {
      "image/png": "[encoded data removed]",
      "text/plain": [
       "<Figure size 720x432 with 1 Axes>"
      ]
     },
     "metadata": {},
     "output_type": "display_data"
    }
   ],
   "source": [
    "plt.figure(figsize=(10,6))\n",
    "cd_count_idx = train_test_combin['gender'].value_counts().index\n",
    "sns.countplot(data = train_test_combin, x = 'gender', order = cd_count_idx, color = sns.color_palette()[0])\n",
    "plt.xlabel('gender')\n",
    "plt.ylabel('Count')\n",
    "plt.title('gender')\n",
    "plt.xticks(rotation=90)\n",
    "\n",
    "cd_count_val = train_test_combin['gender'].value_counts()\n",
    "\n",
    "for i in range(cd_count_val.shape[0]):\n",
    "    count = cd_count_val[i]\n",
    "    percentage ='{:0.1f}%'.format(100 * count / len(train_test_combin))\n",
    "    plt.text(i, count+1000, percentage, ha='center')"
   ]
  },
  {
   "cell_type": "code",
   "execution_count": 25,
   "id": "adjusted-davis",
   "metadata": {
    "execution": {
     "iopub.execute_input": "2021-07-07T13:08:49.256944Z",
     "iopub.status.busy": "2021-07-07T13:08:49.256276Z",
     "iopub.status.idle": "2021-07-07T13:08:49.421903Z",
     "shell.execute_reply": "2021-07-07T13:08:49.421323Z",
     "shell.execute_reply.started": "2021-07-07T12:58:28.384920Z"
    },
    "papermill": {
     "duration": 0.224112,
     "end_time": "2021-07-07T13:08:49.422064",
     "exception": false,
     "start_time": "2021-07-07T13:08:49.197952",
     "status": "completed"
    },
    "tags": []
   },
   "outputs": [],
   "source": [
    "# Splitting date into Day-Month-Year\n",
    "# account created\n",
    "train_test_combin['dac_year'] = train_test_combin.date_account_created.dt.year\n",
    "train_test_combin['dac_month'] = train_test_combin.date_account_created.dt.month\n",
    "train_test_combin['dac_day'] = train_test_combin.date_account_created.dt.day\n",
    "\n",
    "# Splitting date into Day-Month-Year\n",
    "# time first active\n",
    "train_test_combin['tfa_year'] = train_test_combin.timestamp_first_active.dt.year\n",
    "train_test_combin['tfa_month'] = train_test_combin.timestamp_first_active.dt.month\n",
    "train_test_combin['tfa_day'] = train_test_combin.timestamp_first_active.dt.day"
   ]
  },
  {
   "cell_type": "code",
   "execution_count": 26,
   "id": "burning-trust",
   "metadata": {
    "execution": {
     "iopub.execute_input": "2021-07-07T13:08:49.529785Z",
     "iopub.status.busy": "2021-07-07T13:08:49.529100Z",
     "iopub.status.idle": "2021-07-07T13:08:49.700363Z",
     "shell.execute_reply": "2021-07-07T13:08:49.700826Z",
     "shell.execute_reply.started": "2021-07-07T12:58:28.559291Z"
    },
    "papermill": {
     "duration": 0.227976,
     "end_time": "2021-07-07T13:08:49.701017",
     "exception": false,
     "start_time": "2021-07-07T13:08:49.473041",
     "status": "completed"
    },
    "tags": []
   },
   "outputs": [
    {
     "data": {
      "text/plain": [
       "<AxesSubplot:title={'center':'User Accounts Created Per Year'}>"
      ]
     },
     "execution_count": 26,
     "metadata": {},
     "output_type": "execute_result"
    },
    {
     "data": {
      "image/png": "[encoded data removed]",
      "text/plain": [
       "<Figure size 432x288 with 1 Axes>"
      ]
     },
     "metadata": {},
     "output_type": "display_data"
    }
   ],
   "source": [
    "train_test_combin.dac_year.value_counts(sort=False).plot(kind='bar', title='User Accounts Created Per Year')"
   ]
  },
  {
   "cell_type": "markdown",
   "id": "mounted-native",
   "metadata": {
    "papermill": {
     "duration": 0.052293,
     "end_time": "2021-07-07T13:08:49.806603",
     "exception": false,
     "start_time": "2021-07-07T13:08:49.754310",
     "status": "completed"
    },
    "tags": []
   },
   "source": [
    "**Countries visited by Users**"
   ]
  },
  {
   "cell_type": "code",
   "execution_count": 27,
   "id": "careful-consultancy",
   "metadata": {
    "execution": {
     "iopub.execute_input": "2021-07-07T13:08:49.971541Z",
     "iopub.status.busy": "2021-07-07T13:08:49.970873Z",
     "iopub.status.idle": "2021-07-07T13:08:50.199068Z",
     "shell.execute_reply": "2021-07-07T13:08:50.199610Z",
     "shell.execute_reply.started": "2021-07-07T12:58:28.779339Z"
    },
    "papermill": {
     "duration": 0.34093,
     "end_time": "2021-07-07T13:08:50.199792",
     "exception": false,
     "start_time": "2021-07-07T13:08:49.858862",
     "status": "completed"
    },
    "tags": []
   },
   "outputs": [
    {
     "data": {
      "text/plain": [
       "<AxesSubplot:title={'center':'Countries Visited by Users'}>"
      ]
     },
     "execution_count": 27,
     "metadata": {},
     "output_type": "execute_result"
    },
    {
     "data": {
      "image/png": "[encoded data removed]",
      "text/plain": [
       "<Figure size 432x288 with 1 Axes>"
      ]
     },
     "metadata": {},
     "output_type": "display_data"
    }
   ],
   "source": [
    "train_test_combin.country_destination.value_counts(normalize=True).plot(kind='bar',title='Countries Visited by Users')"
   ]
  },
  {
   "cell_type": "markdown",
   "id": "voluntary-claim",
   "metadata": {
    "papermill": {
     "duration": 0.052936,
     "end_time": "2021-07-07T13:08:50.305688",
     "exception": false,
     "start_time": "2021-07-07T13:08:50.252752",
     "status": "completed"
    },
    "tags": []
   },
   "source": [
    "> NDF: No data\n",
    "\n",
    "> US is the main visisted country "
   ]
  },
  {
   "cell_type": "markdown",
   "id": "eleven-china",
   "metadata": {
    "papermill": {
     "duration": 0.052529,
     "end_time": "2021-07-07T13:08:50.411011",
     "exception": false,
     "start_time": "2021-07-07T13:08:50.358482",
     "status": "completed"
    },
    "tags": []
   },
   "source": [
    "**Dropping uneanted columns**\n",
    "\n",
    "* id: drop\n",
    "* date_first_booking: drop\n",
    "* date_account_created: drop\n",
    "* timestamp_first_active: drop\n",
    "* missing value: fill with 0\n",
    "* gender replace -unknown- with NA\n",
    "\n",
    "There is no impact on dropping all date columns since it is not used for the predetion "
   ]
  },
  {
   "cell_type": "code",
   "execution_count": 28,
   "id": "swiss-marketplace",
   "metadata": {
    "execution": {
     "iopub.execute_input": "2021-07-07T13:08:50.520724Z",
     "iopub.status.busy": "2021-07-07T13:08:50.520087Z",
     "iopub.status.idle": "2021-07-07T13:08:50.730073Z",
     "shell.execute_reply": "2021-07-07T13:08:50.730578Z",
     "shell.execute_reply.started": "2021-07-07T12:58:29.122865Z"
    },
    "papermill": {
     "duration": 0.266535,
     "end_time": "2021-07-07T13:08:50.730765",
     "exception": false,
     "start_time": "2021-07-07T13:08:50.464230",
     "status": "completed"
    },
    "tags": []
   },
   "outputs": [],
   "source": [
    "X_train_data = train_df.drop(['id','date_account_created','date_first_booking','timestamp_first_active', 'country_destination'], axis=1)\n",
    "X_test_data = test_df.drop(['id','date_account_created','date_first_booking','timestamp_first_active'], axis=1)\n",
    "train_test_combin = train_test_combin.drop(['id', 'date_account_created','date_first_booking','timestamp_first_active','country_destination'], axis=1)\n"
   ]
  },
  {
   "cell_type": "code",
   "execution_count": 29,
   "id": "impaired-mailman",
   "metadata": {
    "execution": {
     "iopub.execute_input": "2021-07-07T13:08:50.843520Z",
     "iopub.status.busy": "2021-07-07T13:08:50.842847Z",
     "iopub.status.idle": "2021-07-07T13:08:50.879432Z",
     "shell.execute_reply": "2021-07-07T13:08:50.879922Z",
     "shell.execute_reply.started": "2021-07-07T12:58:29.541680Z"
    },
    "papermill": {
     "duration": 0.095061,
     "end_time": "2021-07-07T13:08:50.880128",
     "exception": false,
     "start_time": "2021-07-07T13:08:50.785067",
     "status": "completed"
    },
    "tags": []
   },
   "outputs": [],
   "source": [
    "# Replace unknown with NAN to avoid error \n",
    "train_test_combin.gender.replace('-unknown-', np.nan, inplace=True)\n",
    "train_test_combin.first_browser.replace('-unknown-', np.nan, inplace=True)"
   ]
  },
  {
   "cell_type": "markdown",
   "id": "integral-permission",
   "metadata": {
    "papermill": {
     "duration": 0.054239,
     "end_time": "2021-07-07T13:08:50.988903",
     "exception": false,
     "start_time": "2021-07-07T13:08:50.934664",
     "status": "completed"
    },
    "tags": []
   },
   "source": [
    "# Create Fetures \n",
    "convert all string values into numbers values using pandas get_dummies"
   ]
  },
  {
   "cell_type": "code",
   "execution_count": 30,
   "id": "aware-content",
   "metadata": {
    "execution": {
     "iopub.execute_input": "2021-07-07T13:08:51.099747Z",
     "iopub.status.busy": "2021-07-07T13:08:51.099103Z",
     "iopub.status.idle": "2021-07-07T13:08:51.539030Z",
     "shell.execute_reply": "2021-07-07T13:08:51.538418Z",
     "shell.execute_reply.started": "2021-07-07T12:58:29.585859Z"
    },
    "papermill": {
     "duration": 0.496188,
     "end_time": "2021-07-07T13:08:51.539204",
     "exception": false,
     "start_time": "2021-07-07T13:08:51.043016",
     "status": "completed"
    },
    "tags": []
   },
   "outputs": [],
   "source": [
    "# Create Fetures categorical columns \n",
    "\n",
    "features = ['gender', 'signup_method', 'signup_flow', 'language',\n",
    "                'affiliate_channel', 'affiliate_provider',\n",
    "                'first_affiliate_tracked', 'signup_app',\n",
    "                'first_device_type', 'first_browser']\n",
    "\n",
    "# Get Dummies Convert categorical variable into dummy/indicator variables.\n",
    "\n",
    "train_test_combin = pd.get_dummies(train_test_combin,columns=features)"
   ]
  },
  {
   "cell_type": "code",
   "execution_count": 31,
   "id": "short-hello",
   "metadata": {
    "execution": {
     "iopub.execute_input": "2021-07-07T13:08:51.667576Z",
     "iopub.status.busy": "2021-07-07T13:08:51.652239Z",
     "iopub.status.idle": "2021-07-07T13:08:51.672495Z",
     "shell.execute_reply": "2021-07-07T13:08:51.671959Z",
     "shell.execute_reply.started": "2021-07-07T12:58:30.098643Z"
    },
    "papermill": {
     "duration": 0.079195,
     "end_time": "2021-07-07T13:08:51.672647",
     "exception": false,
     "start_time": "2021-07-07T13:08:51.593452",
     "status": "completed"
    },
    "tags": []
   },
   "outputs": [
    {
     "data": {
      "text/html": [
       "<div>\n",
       "<style scoped>\n",
       "    .dataframe tbody tr th:only-of-type {\n",
       "        vertical-align: middle;\n",
       "    }\n",
       "\n",
       "    .dataframe tbody tr th {\n",
       "        vertical-align: top;\n",
       "    }\n",
       "\n",
       "    .dataframe thead th {\n",
       "        text-align: right;\n",
       "    }\n",
       "</style>\n",
       "<table border=\"1\" class=\"dataframe\">\n",
       "  <thead>\n",
       "    <tr style=\"text-align: right;\">\n",
       "      <th></th>\n",
       "      <th>age</th>\n",
       "      <th>dac_year</th>\n",
       "      <th>dac_month</th>\n",
       "      <th>dac_day</th>\n",
       "      <th>tfa_year</th>\n",
       "      <th>tfa_month</th>\n",
       "      <th>tfa_day</th>\n",
       "      <th>gender_FEMALE</th>\n",
       "      <th>gender_MALE</th>\n",
       "      <th>gender_OTHER</th>\n",
       "      <th>...</th>\n",
       "      <th>first_browser_Silk</th>\n",
       "      <th>first_browser_SiteKiosk</th>\n",
       "      <th>first_browser_SlimBrowser</th>\n",
       "      <th>first_browser_Sogou Explorer</th>\n",
       "      <th>first_browser_Stainless</th>\n",
       "      <th>first_browser_TenFourFox</th>\n",
       "      <th>first_browser_TheWorld Browser</th>\n",
       "      <th>first_browser_UC Browser</th>\n",
       "      <th>first_browser_Yandex.Browser</th>\n",
       "      <th>first_browser_wOSBrowser</th>\n",
       "    </tr>\n",
       "  </thead>\n",
       "  <tbody>\n",
       "    <tr>\n",
       "      <th>0</th>\n",
       "      <td>NaN</td>\n",
       "      <td>2010</td>\n",
       "      <td>6</td>\n",
       "      <td>28</td>\n",
       "      <td>2009</td>\n",
       "      <td>3</td>\n",
       "      <td>19</td>\n",
       "      <td>0</td>\n",
       "      <td>0</td>\n",
       "      <td>0</td>\n",
       "      <td>...</td>\n",
       "      <td>0</td>\n",
       "      <td>0</td>\n",
       "      <td>0</td>\n",
       "      <td>0</td>\n",
       "      <td>0</td>\n",
       "      <td>0</td>\n",
       "      <td>0</td>\n",
       "      <td>0</td>\n",
       "      <td>0</td>\n",
       "      <td>0</td>\n",
       "    </tr>\n",
       "    <tr>\n",
       "      <th>1</th>\n",
       "      <td>38.0</td>\n",
       "      <td>2011</td>\n",
       "      <td>5</td>\n",
       "      <td>25</td>\n",
       "      <td>2009</td>\n",
       "      <td>5</td>\n",
       "      <td>23</td>\n",
       "      <td>0</td>\n",
       "      <td>1</td>\n",
       "      <td>0</td>\n",
       "      <td>...</td>\n",
       "      <td>0</td>\n",
       "      <td>0</td>\n",
       "      <td>0</td>\n",
       "      <td>0</td>\n",
       "      <td>0</td>\n",
       "      <td>0</td>\n",
       "      <td>0</td>\n",
       "      <td>0</td>\n",
       "      <td>0</td>\n",
       "      <td>0</td>\n",
       "    </tr>\n",
       "    <tr>\n",
       "      <th>2</th>\n",
       "      <td>56.0</td>\n",
       "      <td>2010</td>\n",
       "      <td>9</td>\n",
       "      <td>28</td>\n",
       "      <td>2009</td>\n",
       "      <td>6</td>\n",
       "      <td>9</td>\n",
       "      <td>1</td>\n",
       "      <td>0</td>\n",
       "      <td>0</td>\n",
       "      <td>...</td>\n",
       "      <td>0</td>\n",
       "      <td>0</td>\n",
       "      <td>0</td>\n",
       "      <td>0</td>\n",
       "      <td>0</td>\n",
       "      <td>0</td>\n",
       "      <td>0</td>\n",
       "      <td>0</td>\n",
       "      <td>0</td>\n",
       "      <td>0</td>\n",
       "    </tr>\n",
       "    <tr>\n",
       "      <th>3</th>\n",
       "      <td>42.0</td>\n",
       "      <td>2011</td>\n",
       "      <td>12</td>\n",
       "      <td>5</td>\n",
       "      <td>2009</td>\n",
       "      <td>10</td>\n",
       "      <td>31</td>\n",
       "      <td>1</td>\n",
       "      <td>0</td>\n",
       "      <td>0</td>\n",
       "      <td>...</td>\n",
       "      <td>0</td>\n",
       "      <td>0</td>\n",
       "      <td>0</td>\n",
       "      <td>0</td>\n",
       "      <td>0</td>\n",
       "      <td>0</td>\n",
       "      <td>0</td>\n",
       "      <td>0</td>\n",
       "      <td>0</td>\n",
       "      <td>0</td>\n",
       "    </tr>\n",
       "    <tr>\n",
       "      <th>4</th>\n",
       "      <td>41.0</td>\n",
       "      <td>2010</td>\n",
       "      <td>9</td>\n",
       "      <td>14</td>\n",
       "      <td>2009</td>\n",
       "      <td>12</td>\n",
       "      <td>8</td>\n",
       "      <td>0</td>\n",
       "      <td>0</td>\n",
       "      <td>0</td>\n",
       "      <td>...</td>\n",
       "      <td>0</td>\n",
       "      <td>0</td>\n",
       "      <td>0</td>\n",
       "      <td>0</td>\n",
       "      <td>0</td>\n",
       "      <td>0</td>\n",
       "      <td>0</td>\n",
       "      <td>0</td>\n",
       "      <td>0</td>\n",
       "      <td>0</td>\n",
       "    </tr>\n",
       "  </tbody>\n",
       "</table>\n",
       "<p>5 rows × 158 columns</p>\n",
       "</div>"
      ],
      "text/plain": [
       "    age  dac_year  dac_month  dac_day  tfa_year  tfa_month  tfa_day  \\\n",
       "0   NaN      2010          6       28      2009          3       19   \n",
       "1  38.0      2011          5       25      2009          5       23   \n",
       "2  56.0      2010          9       28      2009          6        9   \n",
       "3  42.0      2011         12        5      2009         10       31   \n",
       "4  41.0      2010          9       14      2009         12        8   \n",
       "\n",
       "   gender_FEMALE  gender_MALE  gender_OTHER  ...  first_browser_Silk  \\\n",
       "0              0            0             0  ...                   0   \n",
       "1              0            1             0  ...                   0   \n",
       "2              1            0             0  ...                   0   \n",
       "3              1            0             0  ...                   0   \n",
       "4              0            0             0  ...                   0   \n",
       "\n",
       "   first_browser_SiteKiosk  first_browser_SlimBrowser  \\\n",
       "0                        0                          0   \n",
       "1                        0                          0   \n",
       "2                        0                          0   \n",
       "3                        0                          0   \n",
       "4                        0                          0   \n",
       "\n",
       "   first_browser_Sogou Explorer  first_browser_Stainless  \\\n",
       "0                             0                        0   \n",
       "1                             0                        0   \n",
       "2                             0                        0   \n",
       "3                             0                        0   \n",
       "4                             0                        0   \n",
       "\n",
       "   first_browser_TenFourFox  first_browser_TheWorld Browser  \\\n",
       "0                         0                               0   \n",
       "1                         0                               0   \n",
       "2                         0                               0   \n",
       "3                         0                               0   \n",
       "4                         0                               0   \n",
       "\n",
       "   first_browser_UC Browser  first_browser_Yandex.Browser  \\\n",
       "0                         0                             0   \n",
       "1                         0                             0   \n",
       "2                         0                             0   \n",
       "3                         0                             0   \n",
       "4                         0                             0   \n",
       "\n",
       "   first_browser_wOSBrowser  \n",
       "0                         0  \n",
       "1                         0  \n",
       "2                         0  \n",
       "3                         0  \n",
       "4                         0  \n",
       "\n",
       "[5 rows x 158 columns]"
      ]
     },
     "execution_count": 31,
     "metadata": {},
     "output_type": "execute_result"
    }
   ],
   "source": [
    "train_test_combin.head()"
   ]
  },
  {
   "cell_type": "markdown",
   "id": "national-underground",
   "metadata": {
    "papermill": {
     "duration": 0.055373,
     "end_time": "2021-07-07T13:08:51.781816",
     "exception": false,
     "start_time": "2021-07-07T13:08:51.726443",
     "status": "completed"
    },
    "tags": []
   },
   "source": [
    "# xgboost"
   ]
  },
  {
   "cell_type": "code",
   "execution_count": 32,
   "id": "composed-consciousness",
   "metadata": {
    "execution": {
     "iopub.execute_input": "2021-07-07T13:08:51.894564Z",
     "iopub.status.busy": "2021-07-07T13:08:51.893854Z",
     "iopub.status.idle": "2021-07-07T13:08:51.896340Z",
     "shell.execute_reply": "2021-07-07T13:08:51.895730Z",
     "shell.execute_reply.started": "2021-07-07T12:58:30.128089Z"
    },
    "papermill": {
     "duration": 0.061035,
     "end_time": "2021-07-07T13:08:51.896470",
     "exception": false,
     "start_time": "2021-07-07T13:08:51.835435",
     "status": "completed"
    },
    "tags": []
   },
   "outputs": [],
   "source": [
    "from xgboost.sklearn import XGBClassifier\n",
    "from sklearn.preprocessing import LabelEncoder"
   ]
  },
  {
   "cell_type": "code",
   "execution_count": 33,
   "id": "governing-difference",
   "metadata": {
    "execution": {
     "iopub.execute_input": "2021-07-07T13:08:52.018833Z",
     "iopub.status.busy": "2021-07-07T13:08:52.018187Z",
     "iopub.status.idle": "2021-07-07T13:10:44.726207Z",
     "shell.execute_reply": "2021-07-07T13:10:44.726842Z",
     "shell.execute_reply.started": "2021-07-07T12:58:30.136794Z"
    },
    "papermill": {
     "duration": 112.776976,
     "end_time": "2021-07-07T13:10:44.727086",
     "exception": false,
     "start_time": "2021-07-07T13:08:51.950110",
     "status": "completed"
    },
    "tags": []
   },
   "outputs": [
    {
     "name": "stdout",
     "output_type": "stream",
     "text": [
      "[13:08:58] WARNING: ../src/learner.cc:1095: Starting in XGBoost 1.3.0, the default evaluation metric used with the objective 'multi:softprob' was changed from 'merror' to 'mlogloss'. Explicitly set eval_metric if you'd like to restore the old behavior.\n"
     ]
    }
   ],
   "source": [
    "train_df_rows_no = train_df.shape[0]  \n",
    "\n",
    "# Splitting the data into train and test again for the classifier\n",
    "# rows number of train data will be used for splitting\n",
    "\n",
    "# convert train_test_combin dataset into list\n",
    "all_data_list = train_test_combin.values\n",
    "X_train = all_data_list[:train_df_rows_no] #213451\n",
    "X_test = all_data_list[train_df_rows_no:] # 213451\n",
    "\n",
    "#Create labels\n",
    "#labels = train_df['country_destination'].values\n",
    "labler = LabelEncoder()\n",
    "y = labler.fit_transform(train_df['country_destination'].values)\n",
    "\n",
    "# Implementation of the classifier (decision tree)\n",
    "xgb = XGBClassifier(max_depth=6, learning_rate=0.3, n_estimators=22,\n",
    "                    objective='multi:softprob', subsample=0.6, colsample_bytree=0.6, seed=0)               \n",
    "xgb.fit(X_train, y)\n",
    "y_pred = xgb.predict_proba(X_test) \n"
   ]
  },
  {
   "cell_type": "code",
   "execution_count": 34,
   "id": "challenging-constitutional",
   "metadata": {
    "execution": {
     "iopub.execute_input": "2021-07-07T13:10:44.841689Z",
     "iopub.status.busy": "2021-07-07T13:10:44.840999Z",
     "iopub.status.idle": "2021-07-07T13:10:52.514049Z",
     "shell.execute_reply": "2021-07-07T13:10:52.513070Z",
     "shell.execute_reply.started": "2021-07-07T13:00:25.733804Z"
    },
    "papermill": {
     "duration": 7.731152,
     "end_time": "2021-07-07T13:10:52.514256",
     "exception": false,
     "start_time": "2021-07-07T13:10:44.783104",
     "status": "completed"
    },
    "tags": []
   },
   "outputs": [],
   "source": [
    "#Taking the 5 classes with highest probabilities\n",
    "# the requirements is to predict 5 predicts for each ID (user)\n",
    "# so we will predict 5 times and save the result for each user \n",
    "\n",
    "test_ids = test_df['id']\n",
    "ids = []  #list of ids\n",
    "cts = []  #list of countries\n",
    "for i in range(len(test_ids)):\n",
    "    idx = test_ids[i]\n",
    "    ids += [idx] * 5\n",
    "    #save 5 results for each user \n",
    "    cts += labler.inverse_transform(np.argsort(y_pred[i])[::-1])[:5].tolist()\n",
    "\n",
    "#Generate submission\n",
    "sub = pd.DataFrame(np.column_stack((ids, cts)), columns=['id', 'country'])\n",
    "sub.to_csv('submission.csv',index=False)"
   ]
  },
  {
   "cell_type": "markdown",
   "id": "successful-copyright",
   "metadata": {
    "papermill": {
     "duration": 0.053632,
     "end_time": "2021-07-07T13:10:52.622010",
     "exception": false,
     "start_time": "2021-07-07T13:10:52.568378",
     "status": "completed"
    },
    "tags": []
   },
   "source": [
    "**Please consider upvoting if you find it useful to you !**\n",
    "\n",
    "Thanks"
   ]
  }
 ],
 "metadata": {
  "kernelspec": {
   "display_name": "Python 3",
   "language": "python",
   "name": "python3"
  },
  "language_info": {
   "codemirror_mode": {
    "name": "ipython",
    "version": 3
   },
   "file_extension": ".py",
   "mimetype": "text/x-python",
   "name": "python",
   "nbconvert_exporter": "python",
   "pygments_lexer": "ipython3",
   "version": "3.7.10"
  },
  "papermill": {
   "default_parameters": {},
   "duration": 162.974834,
   "end_time": "2021-07-07T13:10:54.038491",
   "environment_variables": {},
   "exception": null,
   "input_path": "__notebook__.ipynb",
   "output_path": "__notebook__.ipynb",
   "parameters": {},
   "start_time": "2021-07-07T13:08:11.063657",
   "version": "2.3.3"
  }
 },
 "nbformat": 4,
 "nbformat_minor": 5
}
