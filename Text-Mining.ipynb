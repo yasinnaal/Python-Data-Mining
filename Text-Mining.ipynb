{
 "cells": [
  {
   "cell_type": "markdown",
   "metadata": {},
   "source": [
    "## Section 4:  How to mine data and store it \n",
    "### 1) Text mining\n",
    "### 2) Network mining\n",
    "### 3) Python matrix library\n",
    "### 4) Mining a database-SQL  "
   ]
  },
  {
   "cell_type": "code",
   "execution_count": null,
   "metadata": {
    "collapsed": true
   },
   "outputs": [],
   "source": []
  },
  {
   "cell_type": "code",
   "execution_count": null,
   "metadata": {
    "collapsed": true
   },
   "outputs": [],
   "source": []
  },
  {
   "cell_type": "markdown",
   "metadata": {},
   "source": [
    "### 1) Text mining "
   ]
  },
  {
   "cell_type": "code",
   "execution_count": 27,
   "metadata": {
    "collapsed": true
   },
   "outputs": [],
   "source": [
    "import numpy as np\n",
    "import pandas as pd\n",
    "import scipy\n",
    "import sklearn\n",
    "import matplotlib.pyplot as plt\n",
    "import seaborn as sns\n",
    "\n",
    "%matplotlib inline"
   ]
  },
  {
   "cell_type": "markdown",
   "metadata": {},
   "source": [
    "Specifically we're going to build a spam filter. As we've said before, this is a classic use for this kind of classifier and it's not too difficult to set up. The dataset we'll work with is UC Irvine's SMS spam dataset. https://archive.ics.uci.edu/ml/datasets/SMS+Spam+Collection"
   ]
  },
  {
   "cell_type": "code",
   "execution_count": 44,
   "metadata": {
    "collapsed": true
   },
   "outputs": [],
   "source": [
    "# Grab and process the raw data.\n",
    "data_path = (\"data/SMSSpamCollection\")\n",
    "\n",
    "sms_raw = pd.read_table('data/SMSSpamCollection',  header=None)\n",
    "\n",
    "sms_raw.columns = ['spam', 'message']"
   ]
  },
  {
   "cell_type": "code",
   "execution_count": 46,
   "metadata": {},
   "outputs": [
    {
     "data": {
      "text/html": [
       "<div>\n",
       "<style>\n",
       "    .dataframe thead tr:only-child th {\n",
       "        text-align: right;\n",
       "    }\n",
       "\n",
       "    .dataframe thead th {\n",
       "        text-align: left;\n",
       "    }\n",
       "\n",
       "    .dataframe tbody tr th {\n",
       "        vertical-align: top;\n",
       "    }\n",
       "</style>\n",
       "<table border=\"1\" class=\"dataframe\">\n",
       "  <thead>\n",
       "    <tr style=\"text-align: right;\">\n",
       "      <th></th>\n",
       "      <th>spam</th>\n",
       "      <th>message</th>\n",
       "    </tr>\n",
       "  </thead>\n",
       "  <tbody>\n",
       "    <tr>\n",
       "      <th>0</th>\n",
       "      <td>ham</td>\n",
       "      <td>Go until jurong point, crazy.. Available only ...</td>\n",
       "    </tr>\n",
       "    <tr>\n",
       "      <th>1</th>\n",
       "      <td>ham</td>\n",
       "      <td>Ok lar... Joking wif u oni...</td>\n",
       "    </tr>\n",
       "    <tr>\n",
       "      <th>2</th>\n",
       "      <td>spam</td>\n",
       "      <td>Free entry in 2 a wkly comp to win FA Cup fina...</td>\n",
       "    </tr>\n",
       "    <tr>\n",
       "      <th>3</th>\n",
       "      <td>ham</td>\n",
       "      <td>U dun say so early hor... U c already then say...</td>\n",
       "    </tr>\n",
       "    <tr>\n",
       "      <th>4</th>\n",
       "      <td>ham</td>\n",
       "      <td>Nah I don't think he goes to usf, he lives aro...</td>\n",
       "    </tr>\n",
       "    <tr>\n",
       "      <th>5</th>\n",
       "      <td>spam</td>\n",
       "      <td>FreeMsg Hey there darling it's been 3 week's n...</td>\n",
       "    </tr>\n",
       "    <tr>\n",
       "      <th>6</th>\n",
       "      <td>ham</td>\n",
       "      <td>Even my brother is not like to speak with me. ...</td>\n",
       "    </tr>\n",
       "    <tr>\n",
       "      <th>7</th>\n",
       "      <td>ham</td>\n",
       "      <td>As per your request 'Melle Melle (Oru Minnamin...</td>\n",
       "    </tr>\n",
       "    <tr>\n",
       "      <th>8</th>\n",
       "      <td>spam</td>\n",
       "      <td>WINNER!! As a valued network customer you have...</td>\n",
       "    </tr>\n",
       "    <tr>\n",
       "      <th>9</th>\n",
       "      <td>spam</td>\n",
       "      <td>Had your mobile 11 months or more? U R entitle...</td>\n",
       "    </tr>\n",
       "  </tbody>\n",
       "</table>\n",
       "</div>"
      ],
      "text/plain": [
       "   spam                                            message\n",
       "0   ham  Go until jurong point, crazy.. Available only ...\n",
       "1   ham                      Ok lar... Joking wif u oni...\n",
       "2  spam  Free entry in 2 a wkly comp to win FA Cup fina...\n",
       "3   ham  U dun say so early hor... U c already then say...\n",
       "4   ham  Nah I don't think he goes to usf, he lives aro...\n",
       "5  spam  FreeMsg Hey there darling it's been 3 week's n...\n",
       "6   ham  Even my brother is not like to speak with me. ...\n",
       "7   ham  As per your request 'Melle Melle (Oru Minnamin...\n",
       "8  spam  WINNER!! As a valued network customer you have...\n",
       "9  spam  Had your mobile 11 months or more? U R entitle..."
      ]
     },
     "execution_count": 46,
     "metadata": {},
     "output_type": "execute_result"
    }
   ],
   "source": [
    "sms_raw.head(10) "
   ]
  },
  {
   "cell_type": "code",
   "execution_count": 32,
   "metadata": {},
   "outputs": [
    {
     "data": {
      "text/plain": [
       "ham     4825\n",
       "spam     747\n",
       "Name: spam, dtype: int64"
      ]
     },
     "execution_count": 32,
     "metadata": {},
     "output_type": "execute_result"
    }
   ],
   "source": [
    "sms_raw.spam.value_counts()"
   ]
  },
  {
   "cell_type": "code",
   "execution_count": 47,
   "metadata": {},
   "outputs": [
    {
     "data": {
      "text/plain": [
       "(5572, 2)"
      ]
     },
     "execution_count": 47,
     "metadata": {},
     "output_type": "execute_result"
    }
   ],
   "source": [
    "sms_raw.shape"
   ]
  },
  {
   "cell_type": "code",
   "execution_count": 48,
   "metadata": {
    "collapsed": true
   },
   "outputs": [],
   "source": [
    "keywords = ['click', 'offer', 'winner', 'buy', 'free', 'cash', 'urgent', 'money'] \n",
    "\n",
    "\n",
    "for key in keywords:\n",
    "    # Note that we add spaces around the key so that we're getting the word,\n",
    "    # not just pattern matching.\n",
    "    sms_raw[str(key)] = sms_raw.message.str.contains(\n",
    "        ' ' + str(key) + ' ',\n",
    "        case=False\n",
    "    )"
   ]
  },
  {
   "cell_type": "code",
   "execution_count": 51,
   "metadata": {},
   "outputs": [
    {
     "data": {
      "text/html": [
       "<div>\n",
       "<style>\n",
       "    .dataframe thead tr:only-child th {\n",
       "        text-align: right;\n",
       "    }\n",
       "\n",
       "    .dataframe thead th {\n",
       "        text-align: left;\n",
       "    }\n",
       "\n",
       "    .dataframe tbody tr th {\n",
       "        vertical-align: top;\n",
       "    }\n",
       "</style>\n",
       "<table border=\"1\" class=\"dataframe\">\n",
       "  <thead>\n",
       "    <tr style=\"text-align: right;\">\n",
       "      <th></th>\n",
       "      <th>spam</th>\n",
       "      <th>message</th>\n",
       "      <th>click</th>\n",
       "      <th>offer</th>\n",
       "      <th>winner</th>\n",
       "      <th>buy</th>\n",
       "      <th>free</th>\n",
       "      <th>cash</th>\n",
       "      <th>urgent</th>\n",
       "      <th>money</th>\n",
       "    </tr>\n",
       "  </thead>\n",
       "  <tbody>\n",
       "    <tr>\n",
       "      <th>5562</th>\n",
       "      <td>ham</td>\n",
       "      <td>Ok lor... Sony ericsson salesman... I ask shuh...</td>\n",
       "      <td>False</td>\n",
       "      <td>False</td>\n",
       "      <td>False</td>\n",
       "      <td>False</td>\n",
       "      <td>False</td>\n",
       "      <td>False</td>\n",
       "      <td>False</td>\n",
       "      <td>False</td>\n",
       "    </tr>\n",
       "    <tr>\n",
       "      <th>5563</th>\n",
       "      <td>ham</td>\n",
       "      <td>Ard 6 like dat lor.</td>\n",
       "      <td>False</td>\n",
       "      <td>False</td>\n",
       "      <td>False</td>\n",
       "      <td>False</td>\n",
       "      <td>False</td>\n",
       "      <td>False</td>\n",
       "      <td>False</td>\n",
       "      <td>False</td>\n",
       "    </tr>\n",
       "    <tr>\n",
       "      <th>5564</th>\n",
       "      <td>ham</td>\n",
       "      <td>Why don't you wait 'til at least wednesday to ...</td>\n",
       "      <td>False</td>\n",
       "      <td>False</td>\n",
       "      <td>False</td>\n",
       "      <td>False</td>\n",
       "      <td>False</td>\n",
       "      <td>False</td>\n",
       "      <td>False</td>\n",
       "      <td>False</td>\n",
       "    </tr>\n",
       "    <tr>\n",
       "      <th>5565</th>\n",
       "      <td>ham</td>\n",
       "      <td>Huh y lei...</td>\n",
       "      <td>False</td>\n",
       "      <td>False</td>\n",
       "      <td>False</td>\n",
       "      <td>False</td>\n",
       "      <td>False</td>\n",
       "      <td>False</td>\n",
       "      <td>False</td>\n",
       "      <td>False</td>\n",
       "    </tr>\n",
       "    <tr>\n",
       "      <th>5566</th>\n",
       "      <td>spam</td>\n",
       "      <td>REMINDER FROM O2: To get 2.50 pounds free call...</td>\n",
       "      <td>False</td>\n",
       "      <td>False</td>\n",
       "      <td>False</td>\n",
       "      <td>False</td>\n",
       "      <td>True</td>\n",
       "      <td>False</td>\n",
       "      <td>False</td>\n",
       "      <td>False</td>\n",
       "    </tr>\n",
       "    <tr>\n",
       "      <th>5567</th>\n",
       "      <td>spam</td>\n",
       "      <td>This is the 2nd time we have tried 2 contact u...</td>\n",
       "      <td>False</td>\n",
       "      <td>False</td>\n",
       "      <td>False</td>\n",
       "      <td>False</td>\n",
       "      <td>False</td>\n",
       "      <td>False</td>\n",
       "      <td>False</td>\n",
       "      <td>False</td>\n",
       "    </tr>\n",
       "    <tr>\n",
       "      <th>5568</th>\n",
       "      <td>ham</td>\n",
       "      <td>Will ü b going to esplanade fr home?</td>\n",
       "      <td>False</td>\n",
       "      <td>False</td>\n",
       "      <td>False</td>\n",
       "      <td>False</td>\n",
       "      <td>False</td>\n",
       "      <td>False</td>\n",
       "      <td>False</td>\n",
       "      <td>False</td>\n",
       "    </tr>\n",
       "    <tr>\n",
       "      <th>5569</th>\n",
       "      <td>ham</td>\n",
       "      <td>Pity, * was in mood for that. So...any other s...</td>\n",
       "      <td>False</td>\n",
       "      <td>False</td>\n",
       "      <td>False</td>\n",
       "      <td>False</td>\n",
       "      <td>False</td>\n",
       "      <td>False</td>\n",
       "      <td>False</td>\n",
       "      <td>False</td>\n",
       "    </tr>\n",
       "    <tr>\n",
       "      <th>5570</th>\n",
       "      <td>ham</td>\n",
       "      <td>The guy did some bitching but I acted like i'd...</td>\n",
       "      <td>False</td>\n",
       "      <td>False</td>\n",
       "      <td>False</td>\n",
       "      <td>False</td>\n",
       "      <td>False</td>\n",
       "      <td>False</td>\n",
       "      <td>False</td>\n",
       "      <td>False</td>\n",
       "    </tr>\n",
       "    <tr>\n",
       "      <th>5571</th>\n",
       "      <td>ham</td>\n",
       "      <td>Rofl. Its true to its name</td>\n",
       "      <td>False</td>\n",
       "      <td>False</td>\n",
       "      <td>False</td>\n",
       "      <td>False</td>\n",
       "      <td>False</td>\n",
       "      <td>False</td>\n",
       "      <td>False</td>\n",
       "      <td>False</td>\n",
       "    </tr>\n",
       "  </tbody>\n",
       "</table>\n",
       "</div>"
      ],
      "text/plain": [
       "      spam                                            message  click  offer  \\\n",
       "5562   ham  Ok lor... Sony ericsson salesman... I ask shuh...  False  False   \n",
       "5563   ham                                Ard 6 like dat lor.  False  False   \n",
       "5564   ham  Why don't you wait 'til at least wednesday to ...  False  False   \n",
       "5565   ham                                       Huh y lei...  False  False   \n",
       "5566  spam  REMINDER FROM O2: To get 2.50 pounds free call...  False  False   \n",
       "5567  spam  This is the 2nd time we have tried 2 contact u...  False  False   \n",
       "5568   ham               Will ü b going to esplanade fr home?  False  False   \n",
       "5569   ham  Pity, * was in mood for that. So...any other s...  False  False   \n",
       "5570   ham  The guy did some bitching but I acted like i'd...  False  False   \n",
       "5571   ham                         Rofl. Its true to its name  False  False   \n",
       "\n",
       "      winner    buy   free   cash  urgent  money  \n",
       "5562   False  False  False  False   False  False  \n",
       "5563   False  False  False  False   False  False  \n",
       "5564   False  False  False  False   False  False  \n",
       "5565   False  False  False  False   False  False  \n",
       "5566   False  False   True  False   False  False  \n",
       "5567   False  False  False  False   False  False  \n",
       "5568   False  False  False  False   False  False  \n",
       "5569   False  False  False  False   False  False  \n",
       "5570   False  False  False  False   False  False  \n",
       "5571   False  False  False  False   False  False  "
      ]
     },
     "execution_count": 51,
     "metadata": {},
     "output_type": "execute_result"
    }
   ],
   "source": [
    "sms_raw.tail(10)"
   ]
  },
  {
   "cell_type": "code",
   "execution_count": 52,
   "metadata": {
    "collapsed": true
   },
   "outputs": [],
   "source": [
    "sms_raw['allcaps'] = sms_raw.message.str.isupper() #caps or not "
   ]
  },
  {
   "cell_type": "code",
   "execution_count": 55,
   "metadata": {},
   "outputs": [
    {
     "data": {
      "text/html": [
       "<div>\n",
       "<style>\n",
       "    .dataframe thead tr:only-child th {\n",
       "        text-align: right;\n",
       "    }\n",
       "\n",
       "    .dataframe thead th {\n",
       "        text-align: left;\n",
       "    }\n",
       "\n",
       "    .dataframe tbody tr th {\n",
       "        vertical-align: top;\n",
       "    }\n",
       "</style>\n",
       "<table border=\"1\" class=\"dataframe\">\n",
       "  <thead>\n",
       "    <tr style=\"text-align: right;\">\n",
       "      <th></th>\n",
       "      <th>spam</th>\n",
       "      <th>message</th>\n",
       "      <th>click</th>\n",
       "      <th>offer</th>\n",
       "      <th>winner</th>\n",
       "      <th>buy</th>\n",
       "      <th>free</th>\n",
       "      <th>cash</th>\n",
       "      <th>urgent</th>\n",
       "      <th>money</th>\n",
       "      <th>allcaps</th>\n",
       "    </tr>\n",
       "  </thead>\n",
       "  <tbody>\n",
       "    <tr>\n",
       "      <th>14</th>\n",
       "      <td>ham</td>\n",
       "      <td>I HAVE A DATE ON SUNDAY WITH WILL!!</td>\n",
       "      <td>False</td>\n",
       "      <td>False</td>\n",
       "      <td>False</td>\n",
       "      <td>False</td>\n",
       "      <td>False</td>\n",
       "      <td>False</td>\n",
       "      <td>False</td>\n",
       "      <td>False</td>\n",
       "      <td>True</td>\n",
       "    </tr>\n",
       "    <tr>\n",
       "      <th>43</th>\n",
       "      <td>ham</td>\n",
       "      <td>WHO ARE YOU SEEING?</td>\n",
       "      <td>False</td>\n",
       "      <td>False</td>\n",
       "      <td>False</td>\n",
       "      <td>False</td>\n",
       "      <td>False</td>\n",
       "      <td>False</td>\n",
       "      <td>False</td>\n",
       "      <td>False</td>\n",
       "      <td>True</td>\n",
       "    </tr>\n",
       "  </tbody>\n",
       "</table>\n",
       "</div>"
      ],
      "text/plain": [
       "   spam                              message  click  offer  winner    buy  \\\n",
       "14  ham  I HAVE A DATE ON SUNDAY WITH WILL!!  False  False   False  False   \n",
       "43  ham                  WHO ARE YOU SEEING?  False  False   False  False   \n",
       "\n",
       "     free   cash  urgent  money  allcaps  \n",
       "14  False  False   False  False     True  \n",
       "43  False  False   False  False     True  "
      ]
     },
     "execution_count": 55,
     "metadata": {},
     "output_type": "execute_result"
    }
   ],
   "source": [
    "sms_raw[sms_raw.allcaps==True].head(2)"
   ]
  },
  {
   "cell_type": "code",
   "execution_count": 56,
   "metadata": {},
   "outputs": [
    {
     "data": {
      "text/html": [
       "<div>\n",
       "<style>\n",
       "    .dataframe thead tr:only-child th {\n",
       "        text-align: right;\n",
       "    }\n",
       "\n",
       "    .dataframe thead th {\n",
       "        text-align: left;\n",
       "    }\n",
       "\n",
       "    .dataframe tbody tr th {\n",
       "        vertical-align: top;\n",
       "    }\n",
       "</style>\n",
       "<table border=\"1\" class=\"dataframe\">\n",
       "  <thead>\n",
       "    <tr style=\"text-align: right;\">\n",
       "      <th></th>\n",
       "      <th>click</th>\n",
       "      <th>offer</th>\n",
       "      <th>winner</th>\n",
       "      <th>buy</th>\n",
       "      <th>free</th>\n",
       "      <th>cash</th>\n",
       "      <th>urgent</th>\n",
       "      <th>money</th>\n",
       "      <th>allcaps</th>\n",
       "    </tr>\n",
       "  </thead>\n",
       "  <tbody>\n",
       "    <tr>\n",
       "      <th>click</th>\n",
       "      <td>1.000000</td>\n",
       "      <td>-0.001762</td>\n",
       "      <td>-0.001392</td>\n",
       "      <td>-0.003124</td>\n",
       "      <td>-0.005735</td>\n",
       "      <td>-0.003454</td>\n",
       "      <td>-0.001245</td>\n",
       "      <td>-0.002721</td>\n",
       "      <td>-0.004301</td>\n",
       "    </tr>\n",
       "    <tr>\n",
       "      <th>offer</th>\n",
       "      <td>-0.001762</td>\n",
       "      <td>1.000000</td>\n",
       "      <td>-0.002275</td>\n",
       "      <td>-0.005106</td>\n",
       "      <td>0.109339</td>\n",
       "      <td>-0.005646</td>\n",
       "      <td>-0.002035</td>\n",
       "      <td>-0.004447</td>\n",
       "      <td>-0.007030</td>\n",
       "    </tr>\n",
       "    <tr>\n",
       "      <th>winner</th>\n",
       "      <td>-0.001392</td>\n",
       "      <td>-0.002275</td>\n",
       "      <td>1.000000</td>\n",
       "      <td>-0.004035</td>\n",
       "      <td>-0.007407</td>\n",
       "      <td>0.199283</td>\n",
       "      <td>-0.001608</td>\n",
       "      <td>0.048007</td>\n",
       "      <td>-0.005554</td>\n",
       "    </tr>\n",
       "    <tr>\n",
       "      <th>buy</th>\n",
       "      <td>-0.003124</td>\n",
       "      <td>-0.005106</td>\n",
       "      <td>-0.004035</td>\n",
       "      <td>1.000000</td>\n",
       "      <td>-0.016623</td>\n",
       "      <td>-0.010011</td>\n",
       "      <td>-0.003608</td>\n",
       "      <td>0.015239</td>\n",
       "      <td>-0.012465</td>\n",
       "    </tr>\n",
       "    <tr>\n",
       "      <th>free</th>\n",
       "      <td>-0.005735</td>\n",
       "      <td>0.109339</td>\n",
       "      <td>-0.007407</td>\n",
       "      <td>-0.016623</td>\n",
       "      <td>1.000000</td>\n",
       "      <td>-0.008204</td>\n",
       "      <td>-0.006624</td>\n",
       "      <td>-0.001611</td>\n",
       "      <td>-0.022883</td>\n",
       "    </tr>\n",
       "    <tr>\n",
       "      <th>cash</th>\n",
       "      <td>-0.003454</td>\n",
       "      <td>-0.005646</td>\n",
       "      <td>0.199283</td>\n",
       "      <td>-0.010011</td>\n",
       "      <td>-0.008204</td>\n",
       "      <td>1.000000</td>\n",
       "      <td>0.041561</td>\n",
       "      <td>-0.008718</td>\n",
       "      <td>-0.013782</td>\n",
       "    </tr>\n",
       "    <tr>\n",
       "      <th>urgent</th>\n",
       "      <td>-0.001245</td>\n",
       "      <td>-0.002035</td>\n",
       "      <td>-0.001608</td>\n",
       "      <td>-0.003608</td>\n",
       "      <td>-0.006624</td>\n",
       "      <td>0.041561</td>\n",
       "      <td>1.000000</td>\n",
       "      <td>-0.003142</td>\n",
       "      <td>-0.004967</td>\n",
       "    </tr>\n",
       "    <tr>\n",
       "      <th>money</th>\n",
       "      <td>-0.002721</td>\n",
       "      <td>-0.004447</td>\n",
       "      <td>0.048007</td>\n",
       "      <td>0.015239</td>\n",
       "      <td>-0.001611</td>\n",
       "      <td>-0.008718</td>\n",
       "      <td>-0.003142</td>\n",
       "      <td>1.000000</td>\n",
       "      <td>-0.010855</td>\n",
       "    </tr>\n",
       "    <tr>\n",
       "      <th>allcaps</th>\n",
       "      <td>-0.004301</td>\n",
       "      <td>-0.007030</td>\n",
       "      <td>-0.005554</td>\n",
       "      <td>-0.012465</td>\n",
       "      <td>-0.022883</td>\n",
       "      <td>-0.013782</td>\n",
       "      <td>-0.004967</td>\n",
       "      <td>-0.010855</td>\n",
       "      <td>1.000000</td>\n",
       "    </tr>\n",
       "  </tbody>\n",
       "</table>\n",
       "</div>"
      ],
      "text/plain": [
       "            click     offer    winner       buy      free      cash    urgent  \\\n",
       "click    1.000000 -0.001762 -0.001392 -0.003124 -0.005735 -0.003454 -0.001245   \n",
       "offer   -0.001762  1.000000 -0.002275 -0.005106  0.109339 -0.005646 -0.002035   \n",
       "winner  -0.001392 -0.002275  1.000000 -0.004035 -0.007407  0.199283 -0.001608   \n",
       "buy     -0.003124 -0.005106 -0.004035  1.000000 -0.016623 -0.010011 -0.003608   \n",
       "free    -0.005735  0.109339 -0.007407 -0.016623  1.000000 -0.008204 -0.006624   \n",
       "cash    -0.003454 -0.005646  0.199283 -0.010011 -0.008204  1.000000  0.041561   \n",
       "urgent  -0.001245 -0.002035 -0.001608 -0.003608 -0.006624  0.041561  1.000000   \n",
       "money   -0.002721 -0.004447  0.048007  0.015239 -0.001611 -0.008718 -0.003142   \n",
       "allcaps -0.004301 -0.007030 -0.005554 -0.012465 -0.022883 -0.013782 -0.004967   \n",
       "\n",
       "            money   allcaps  \n",
       "click   -0.002721 -0.004301  \n",
       "offer   -0.004447 -0.007030  \n",
       "winner   0.048007 -0.005554  \n",
       "buy      0.015239 -0.012465  \n",
       "free    -0.001611 -0.022883  \n",
       "cash    -0.008718 -0.013782  \n",
       "urgent  -0.003142 -0.004967  \n",
       "money    1.000000 -0.010855  \n",
       "allcaps -0.010855  1.000000  "
      ]
     },
     "execution_count": 56,
     "metadata": {},
     "output_type": "execute_result"
    }
   ],
   "source": [
    "sms_raw.corr()"
   ]
  },
  {
   "cell_type": "code",
   "execution_count": 38,
   "metadata": {},
   "outputs": [
    {
     "data": {
      "text/plain": [
       "<matplotlib.axes._subplots.AxesSubplot at 0x110111050>"
      ]
     },
     "execution_count": 38,
     "metadata": {},
     "output_type": "execute_result"
    },
    {
     "data": {
      "image/png": "iVBORw0KGgoAAAANSUhEUgAAAXcAAAD3CAYAAADmBxSSAAAABHNCSVQICAgIfAhkiAAAAAlwSFlz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\n",
      "text/plain": [
       "<matplotlib.figure.Figure at 0x1101117d0>"
      ]
     },
     "metadata": {},
     "output_type": "display_data"
    }
   ],
   "source": [
    "sns.heatmap(sms_raw.corr())"
   ]
  },
  {
   "cell_type": "markdown",
   "metadata": {},
   "source": [
    "That is actually a great looking plot for us. Most of the words show strong independence from each other. The only exceptions are free:offer and cash:winner. For now, let's keep everything in the dataset.\n",
    "\n",
    "Before we actually run the model we have to build out our training data. SKLearn required you to specify an outcome (y or dependent variable) and your inputs (x or independent variables). We'll do that below under the titles `data` and `target`."
   ]
  },
  {
   "cell_type": "code",
   "execution_count": 57,
   "metadata": {
    "collapsed": true
   },
   "outputs": [],
   "source": [
    "data = sms_raw[keywords + ['allcaps']]\n",
    "\n",
    "target = sms_raw['spam']"
   ]
  },
  {
   "cell_type": "code",
   "execution_count": 58,
   "metadata": {},
   "outputs": [
    {
     "data": {
      "text/html": [
       "<div>\n",
       "<style>\n",
       "    .dataframe thead tr:only-child th {\n",
       "        text-align: right;\n",
       "    }\n",
       "\n",
       "    .dataframe thead th {\n",
       "        text-align: left;\n",
       "    }\n",
       "\n",
       "    .dataframe tbody tr th {\n",
       "        vertical-align: top;\n",
       "    }\n",
       "</style>\n",
       "<table border=\"1\" class=\"dataframe\">\n",
       "  <thead>\n",
       "    <tr style=\"text-align: right;\">\n",
       "      <th></th>\n",
       "      <th>click</th>\n",
       "      <th>offer</th>\n",
       "      <th>winner</th>\n",
       "      <th>buy</th>\n",
       "      <th>free</th>\n",
       "      <th>cash</th>\n",
       "      <th>urgent</th>\n",
       "      <th>money</th>\n",
       "      <th>allcaps</th>\n",
       "    </tr>\n",
       "  </thead>\n",
       "  <tbody>\n",
       "    <tr>\n",
       "      <th>0</th>\n",
       "      <td>False</td>\n",
       "      <td>False</td>\n",
       "      <td>False</td>\n",
       "      <td>False</td>\n",
       "      <td>False</td>\n",
       "      <td>False</td>\n",
       "      <td>False</td>\n",
       "      <td>False</td>\n",
       "      <td>False</td>\n",
       "    </tr>\n",
       "    <tr>\n",
       "      <th>1</th>\n",
       "      <td>False</td>\n",
       "      <td>False</td>\n",
       "      <td>False</td>\n",
       "      <td>False</td>\n",
       "      <td>False</td>\n",
       "      <td>False</td>\n",
       "      <td>False</td>\n",
       "      <td>False</td>\n",
       "      <td>False</td>\n",
       "    </tr>\n",
       "  </tbody>\n",
       "</table>\n",
       "</div>"
      ],
      "text/plain": [
       "   click  offer  winner    buy   free   cash  urgent  money  allcaps\n",
       "0  False  False   False  False  False  False   False  False    False\n",
       "1  False  False   False  False  False  False   False  False    False"
      ]
     },
     "execution_count": 58,
     "metadata": {},
     "output_type": "execute_result"
    }
   ],
   "source": [
    "data.head(2)"
   ]
  },
  {
   "cell_type": "code",
   "execution_count": 60,
   "metadata": {},
   "outputs": [
    {
     "name": "stdout",
     "output_type": "stream",
     "text": [
      "Number of mislabeled points out of a total 5572 points : 604\n"
     ]
    }
   ],
   "source": [
    "# Our data is binary / boolean, so we're importing the Bernoulli classifier.\n",
    "from sklearn.naive_bayes import BernoulliNB\n",
    "\n",
    "# Instantiate our model and store it in a new variable.\n",
    "bnb = BernoulliNB()\n",
    "\n",
    "# Fit our model to the data.\n",
    "bnb.fit(data, target)\n",
    "\n",
    "# Classify, storing the result in a new variable.\n",
    "y_pred = bnb.predict(data)\n",
    "\n",
    "# Display our results.\n",
    "print(\"Number of mislabeled points out of a total {} points : {}\".format(\n",
    "    data.shape[0],\n",
    "    (target != y_pred).sum()\n",
    "))"
   ]
  },
  {
   "cell_type": "code",
   "execution_count": 61,
   "metadata": {
    "collapsed": true
   },
   "outputs": [],
   "source": [
    "from sklearn.metrics import confusion_matrix "
   ]
  },
  {
   "cell_type": "code",
   "execution_count": 62,
   "metadata": {},
   "outputs": [
    {
     "data": {
      "text/plain": [
       "array([[4770,   55],\n",
       "       [ 549,  198]])"
      ]
     },
     "execution_count": 62,
     "metadata": {},
     "output_type": "execute_result"
    }
   ],
   "source": [
    "confusion_matrix(target,  y_pred)"
   ]
  },
  {
   "cell_type": "markdown",
   "metadata": {},
   "source": [
    "Now try adding some of your own features and seeing if you can improve the model's performance. Also try comparing the other types of Naive Bayes Classifier and see which one is best. You can find the function names for training other kinds of Naive Bayes in the [documentation](http://scikit-learn.org/stable/modules/naive_bayes.html). It's a one word change."
   ]
  },
  {
   "cell_type": "markdown",
   "metadata": {},
  
