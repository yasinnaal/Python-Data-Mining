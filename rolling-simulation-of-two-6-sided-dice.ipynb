{
 "cells": [
  {
   "cell_type": "code",
   "execution_count": 1,
   "id": "consecutive-circulation",
   "metadata": {
    "_cell_guid": "b1076dfc-b9ad-4769-8c92-a6c4dae69d19",
    "_uuid": "8f2839f25d086af736a60e9eeb907d3b93b6e0e5",
    "execution": {
     "iopub.execute_input": "2021-05-23T13:55:17.936920Z",
     "iopub.status.busy": "2021-05-23T13:55:17.936337Z",
     "iopub.status.idle": "2021-05-23T13:55:18.760599Z",
     "shell.execute_reply": "2021-05-23T13:55:18.761195Z",
     "shell.execute_reply.started": "2021-05-23T13:53:59.775784Z"
    },
    "papermill": {
     "duration": 0.838946,
     "end_time": "2021-05-23T13:55:18.761474",
     "exception": false,
     "start_time": "2021-05-23T13:55:17.922528",
     "status": "completed"
    },
    "tags": []
   },
   "outputs": [],
   "source": [
    "import numpy as np \n",
    "import pandas as pd \n",
    "import random as r\n",
    "import matplotlib.pyplot as plt\n",
    "import seaborn as sns\n",
    "%matplotlib inline\n",
    "import os\n"
   ]
  },
  {
   "cell_type": "markdown",
   "id": "tracked-draft",
   "metadata": {
    "papermill": {
     "duration": 0.003791,
     "end_time": "2021-05-23T13:55:18.769682",
     "exception": false,
     "start_time": "2021-05-23T13:55:18.765891",
     "status": "completed"
    },
    "tags": []
   },
   "source": [
    "**Create  empty DataFrame with only column names but no rows**"
   ]
  },
  {
   "cell_type": "code",
   "execution_count": 2,
   "id": "formal-socket",
   "metadata": {
    "execution": {
     "iopub.execute_input": "2021-05-23T13:55:18.780507Z",
     "iopub.status.busy": "2021-05-23T13:55:18.779947Z",
     "iopub.status.idle": "2021-05-23T13:55:18.997380Z",
     "shell.execute_reply": "2021-05-23T13:55:18.996826Z",
     "shell.execute_reply.started": "2021-05-23T13:53:59.784298Z"
    },
    "papermill": {
     "duration": 0.223857,
     "end_time": "2021-05-23T13:55:18.997505",
     "exception": false,
     "start_time": "2021-05-23T13:55:18.773648",
     "status": "completed"
    },
    "tags": []
   },
   "outputs": [
    {
     "name": "stdout",
     "output_type": "stream",
     "text": [
      "dice1_Roll: 1 dice2_Roll: 3\n",
      "dice1_Roll: 6 dice2_Roll: 6\n",
      "dice1_Roll: 3 dice2_Roll: 2\n",
      "dice1_Roll: 5 dice2_Roll: 4\n",
      "dice1_Roll: 4 dice2_Roll: 4\n",
      "dice1_Roll: 3 dice2_Roll: 2\n",
      "dice1_Roll: 5 dice2_Roll: 5\n",
      "dice1_Roll: 5 dice2_Roll: 4\n",
      "dice1_Roll: 1 dice2_Roll: 2\n",
      "dice1_Roll: 6 dice2_Roll: 1\n",
      "dice1_Roll: 3 dice2_Roll: 6\n",
      "dice1_Roll: 6 dice2_Roll: 1\n",
      "dice1_Roll: 2 dice2_Roll: 5\n",
      "dice1_Roll: 2 dice2_Roll: 3\n",
      "dice1_Roll: 3 dice2_Roll: 3\n",
      "dice1_Roll: 3 dice2_Roll: 2\n",
      "dice1_Roll: 5 dice2_Roll: 1\n",
      "dice1_Roll: 6 dice2_Roll: 5\n",
      "dice1_Roll: 3 dice2_Roll: 6\n",
      "dice1_Roll: 2 dice2_Roll: 6\n",
      "dice1_Roll: 1 dice2_Roll: 1\n",
      "dice1_Roll: 3 dice2_Roll: 3\n",
      "dice1_Roll: 4 dice2_Roll: 3\n",
      "dice1_Roll: 4 dice2_Roll: 2\n",
      "dice1_Roll: 4 dice2_Roll: 2\n",
      "dice1_Roll: 2 dice2_Roll: 6\n",
      "dice1_Roll: 6 dice2_Roll: 2\n",
      "dice1_Roll: 6 dice2_Roll: 3\n",
      "dice1_Roll: 1 dice2_Roll: 5\n",
      "dice1_Roll: 3 dice2_Roll: 4\n",
      "dice1_Roll: 3 dice2_Roll: 4\n",
      "dice1_Roll: 2 dice2_Roll: 2\n",
      "dice1_Roll: 1 dice2_Roll: 1\n",
      "dice1_Roll: 3 dice2_Roll: 4\n",
      "dice1_Roll: 1 dice2_Roll: 2\n",
      "dice1_Roll: 4 dice2_Roll: 3\n",
      "dice1_Roll: 4 dice2_Roll: 5\n",
      "dice1_Roll: 1 dice2_Roll: 4\n",
      "dice1_Roll: 4 dice2_Roll: 5\n",
      "dice1_Roll: 5 dice2_Roll: 4\n",
      "dice1_Roll: 2 dice2_Roll: 2\n",
      "dice1_Roll: 5 dice2_Roll: 2\n",
      "dice1_Roll: 2 dice2_Roll: 1\n",
      "dice1_Roll: 2 dice2_Roll: 6\n",
      "dice1_Roll: 1 dice2_Roll: 3\n",
      "dice1_Roll: 5 dice2_Roll: 5\n",
      "dice1_Roll: 1 dice2_Roll: 5\n",
      "dice1_Roll: 2 dice2_Roll: 1\n",
      "dice1_Roll: 1 dice2_Roll: 1\n",
      "dice1_Roll: 2 dice2_Roll: 6\n",
      "dice1_Roll: 4 dice2_Roll: 5\n",
      "dice1_Roll: 5 dice2_Roll: 1\n",
      "dice1_Roll: 1 dice2_Roll: 6\n",
      "dice1_Roll: 1 dice2_Roll: 6\n",
      "dice1_Roll: 6 dice2_Roll: 3\n",
      "dice1_Roll: 3 dice2_Roll: 5\n",
      "dice1_Roll: 3 dice2_Roll: 1\n",
      "dice1_Roll: 4 dice2_Roll: 1\n",
      "dice1_Roll: 6 dice2_Roll: 6\n",
      "dice1_Roll: 2 dice2_Roll: 2\n",
      "dice1_Roll: 1 dice2_Roll: 4\n",
      "dice1_Roll: 2 dice2_Roll: 1\n",
      "dice1_Roll: 3 dice2_Roll: 1\n",
      "dice1_Roll: 1 dice2_Roll: 4\n",
      "dice1_Roll: 4 dice2_Roll: 6\n",
      "dice1_Roll: 2 dice2_Roll: 2\n",
      "dice1_Roll: 2 dice2_Roll: 4\n",
      "dice1_Roll: 2 dice2_Roll: 4\n",
      "dice1_Roll: 1 dice2_Roll: 1\n",
      "dice1_Roll: 3 dice2_Roll: 6\n",
      "dice1_Roll: 5 dice2_Roll: 2\n",
      "dice1_Roll: 4 dice2_Roll: 6\n",
      "dice1_Roll: 5 dice2_Roll: 3\n",
      "dice1_Roll: 1 dice2_Roll: 2\n",
      "dice1_Roll: 3 dice2_Roll: 2\n",
      "dice1_Roll: 5 dice2_Roll: 4\n",
      "dice1_Roll: 4 dice2_Roll: 2\n",
      "dice1_Roll: 5 dice2_Roll: 6\n",
      "dice1_Roll: 2 dice2_Roll: 3\n",
      "dice1_Roll: 3 dice2_Roll: 2\n",
      "dice1_Roll: 2 dice2_Roll: 4\n",
      "dice1_Roll: 2 dice2_Roll: 4\n",
      "dice1_Roll: 4 dice2_Roll: 6\n",
      "dice1_Roll: 1 dice2_Roll: 3\n",
      "dice1_Roll: 6 dice2_Roll: 2\n",
      "dice1_Roll: 4 dice2_Roll: 4\n",
      "dice1_Roll: 5 dice2_Roll: 1\n",
      "dice1_Roll: 6 dice2_Roll: 3\n",
      "dice1_Roll: 3 dice2_Roll: 4\n",
      "dice1_Roll: 2 dice2_Roll: 3\n",
      "dice1_Roll: 3 dice2_Roll: 6\n",
      "dice1_Roll: 4 dice2_Roll: 3\n",
      "dice1_Roll: 5 dice2_Roll: 5\n",
      "dice1_Roll: 3 dice2_Roll: 2\n",
      "dice1_Roll: 4 dice2_Roll: 2\n",
      "dice1_Roll: 5 dice2_Roll: 6\n",
      "dice1_Roll: 5 dice2_Roll: 2\n",
      "dice1_Roll: 2 dice2_Roll: 3\n",
      "dice1_Roll: 6 dice2_Roll: 4\n",
      "dice1_Roll: 1 dice2_Roll: 4\n"
     ]
    }
   ],
   "source": [
    "#Create an empty DataFrame with only column names\n",
    "rolling_times = 100 # dice roll 100 times\n",
    "dice_df = pd.DataFrame(columns=['dice1_Roll', 'dice2_Roll', 'dices_sum'])\n",
    "\n",
    "for i in range(rolling_times):\n",
    "        #print(\"Roll No = \", i)\n",
    "        dice1_Roll = r.randint(1, 6)\n",
    "        dice2_Roll = r.randint(1, 6)\n",
    "        #Add Rows to DataFrame\n",
    "        new_row = pd.Series(data={'dice1_Roll':dice1_Roll, \n",
    "                                  'dice2_Roll':dice2_Roll,\n",
    "                                  'dices_sum':dice1_Roll+dice2_Roll})\n",
    "        dice_df = dice_df.append(new_row, ignore_index=True)\n",
    "        print(\"dice1_Roll:\", dice1_Roll, \"dice2_Roll:\", dice2_Roll)\n",
    "        "
   ]
  },
  {
   "cell_type": "code",
   "execution_count": 3,
   "id": "coral-chain",
   "metadata": {
    "execution": {
     "iopub.execute_input": "2021-05-23T13:55:19.019722Z",
     "iopub.status.busy": "2021-05-23T13:55:19.018864Z",
     "iopub.status.idle": "2021-05-23T13:55:19.033612Z",
     "shell.execute_reply": "2021-05-23T13:55:19.034149Z",
     "shell.execute_reply.started": "2021-05-23T13:54:00.014109Z"
    },
    "papermill": {
     "duration": 0.031616,
     "end_time": "2021-05-23T13:55:19.034337",
     "exception": false,
     "start_time": "2021-05-23T13:55:19.002721",
     "status": "completed"
    },
    "tags": []
   },
   "outputs": [
    {
     "data": {
      "text/html": [
       "<div>\n",
       "<style scoped>\n",
       "    .dataframe tbody tr th:only-of-type {\n",
       "        vertical-align: middle;\n",
       "    }\n",
       "\n",
       "    .dataframe tbody tr th {\n",
       "        vertical-align: top;\n",
       "    }\n",
       "\n",
       "    .dataframe thead th {\n",
       "        text-align: right;\n",
       "    }\n",
       "</style>\n",
       "<table border=\"1\" class=\"dataframe\">\n",
       "  <thead>\n",
       "    <tr style=\"text-align: right;\">\n",
       "      <th></th>\n",
       "      <th>dice1_Roll</th>\n",
       "      <th>dice2_Roll</th>\n",
       "      <th>dices_sum</th>\n",
       "    </tr>\n",
       "  </thead>\n",
       "  <tbody>\n",
       "    <tr>\n",
       "      <th>0</th>\n",
       "      <td>1</td>\n",
       "      <td>3</td>\n",
       "      <td>4</td>\n",
       "    </tr>\n",
       "    <tr>\n",
       "      <th>1</th>\n",
       "      <td>6</td>\n",
       "      <td>6</td>\n",
       "      <td>12</td>\n",
       "    </tr>\n",
       "    <tr>\n",
       "      <th>2</th>\n",
       "      <td>3</td>\n",
       "      <td>2</td>\n",
       "      <td>5</td>\n",
       "    </tr>\n",
       "    <tr>\n",
       "      <th>3</th>\n",
       "      <td>5</td>\n",
       "      <td>4</td>\n",
       "      <td>9</td>\n",
       "    </tr>\n",
       "    <tr>\n",
       "      <th>4</th>\n",
       "      <td>4</td>\n",
       "      <td>4</td>\n",
       "      <td>8</td>\n",
       "    </tr>\n",
       "    <tr>\n",
       "      <th>...</th>\n",
       "      <td>...</td>\n",
       "      <td>...</td>\n",
       "      <td>...</td>\n",
       "    </tr>\n",
       "    <tr>\n",
       "      <th>95</th>\n",
       "      <td>5</td>\n",
       "      <td>6</td>\n",
       "      <td>11</td>\n",
       "    </tr>\n",
       "    <tr>\n",
       "      <th>96</th>\n",
       "      <td>5</td>\n",
       "      <td>2</td>\n",
       "      <td>7</td>\n",
       "    </tr>\n",
       "    <tr>\n",
       "      <th>97</th>\n",
       "      <td>2</td>\n",
       "      <td>3</td>\n",
       "      <td>5</td>\n",
       "    </tr>\n",
       "    <tr>\n",
       "      <th>98</th>\n",
       "      <td>6</td>\n",
       "      <td>4</td>\n",
       "      <td>10</td>\n",
       "    </tr>\n",
       "    <tr>\n",
       "      <th>99</th>\n",
       "      <td>1</td>\n",
       "      <td>4</td>\n",
       "      <td>5</td>\n",
       "    </tr>\n",
       "  </tbody>\n",
       "</table>\n",
       "<p>100 rows × 3 columns</p>\n",
       "</div>"
      ],
      "text/plain": [
       "   dice1_Roll dice2_Roll dices_sum\n",
       "0           1          3         4\n",
       "1           6          6        12\n",
       "2           3          2         5\n",
       "3           5          4         9\n",
       "4           4          4         8\n",
       "..        ...        ...       ...\n",
       "95          5          6        11\n",
       "96          5          2         7\n",
       "97          2          3         5\n",
       "98          6          4        10\n",
       "99          1          4         5\n",
       "\n",
       "[100 rows x 3 columns]"
      ]
     },
     "execution_count": 3,
     "metadata": {},
     "output_type": "execute_result"
    }
   ],
   "source": [
    "dice_df"
   ]
  },
  {
   "cell_type": "code",
   "execution_count": 4,
   "id": "damaged-student",
   "metadata": {
    "execution": {
     "iopub.execute_input": "2021-05-23T13:55:19.063761Z",
     "iopub.status.busy": "2021-05-23T13:55:19.063190Z",
     "iopub.status.idle": "2021-05-23T13:55:19.227234Z",
     "shell.execute_reply": "2021-05-23T13:55:19.227658Z",
     "shell.execute_reply.started": "2021-05-23T13:54:00.030598Z"
    },
    "papermill": {
     "duration": 0.188325,
     "end_time": "2021-05-23T13:55:19.227849",
     "exception": false,
     "start_time": "2021-05-23T13:55:19.039524",
     "status": "completed"
    },
    "tags": []
   },
   "outputs": [
    {
     "data": {
      "text/plain": [
       "(0.0, 100.0)"
      ]
     },
     "execution_count": 4,
     "metadata": {},
     "output_type": "execute_result"
    },
    {
     "data": {
      "image/png": "[encoded data removed]",
      "text/plain": [
       "<Figure size 432x288 with 1 Axes>"
      ]
     },
     "metadata": {
      "needs_background": "light"
     },
     "output_type": "display_data"
    }
   ],
   "source": [
    "plt.hist(dice_df['dices_sum'], bins=20)\n",
    "plt.title(\"Histogram of simulated dice rolls\")\n",
    "plt.xlim([0,13])\n",
    "plt.ylim([0,rolling_times])"
   ]
  },
  {
   "cell_type": "markdown",
   "id": "operational-venue",
   "metadata": {
    "papermill": {
     "duration": 0.005239,
     "end_time": "2021-05-23T13:55:19.238796",
     "exception": false,
     "start_time": "2021-05-23T13:55:19.233557",
     "status": "completed"
    },
    "tags": []
   },
   "source": [
    "**Please consider upvoting if you found it useful to you :)**\n",
    "\n",
    "**Thanks.**"
   ]
  }
 ],
 "metadata": {
  "kernelspec": {
   "display_name": "Python 3",
   "language": "python",
   "name": "python3"
  },
  "language_info": {
   "codemirror_mode": {
    "name": "ipython",
    "version": 3
   },
   "file_extension": ".py",
   "mimetype": "text/x-python",
   "name": "python",
   "nbconvert_exporter": "python",
   "pygments_lexer": "ipython3",
   "version": "3.7.10"
  },
  "papermill": {
   "default_parameters": {},
   "duration": 8.795125,
   "end_time": "2021-05-23T13:55:19.953251",
   "environment_variables": {},
   "exception": null,
   "input_path": "__notebook__.ipynb",
   "output_path": "__notebook__.ipynb",
   "parameters": {},
   "start_time": "2021-05-23T13:55:11.158126",
   "version": "2.3.3"
  }
 },
 "nbformat": 4,
 "nbformat_minor": 5
}
