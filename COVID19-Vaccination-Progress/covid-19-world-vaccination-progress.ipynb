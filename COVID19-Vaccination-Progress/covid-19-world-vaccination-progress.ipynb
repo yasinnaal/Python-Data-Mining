{
 "cells": [
  {
   "cell_type": "markdown",
   "metadata": {
    "papermill": {
     "duration": 0.014849,
     "end_time": "2021-06-28T09:45:41.957067",
     "exception": false,
     "start_time": "2021-06-28T09:45:41.942218",
     "status": "completed"
    },
    "tags": []
   },
   "source": [
    "# COVID-19 World Vaccination Progress\n",
    "Daily and Total Vaccination for COVID-19 in the World from Our World in Data\n",
    "(Gabriel Preda)"
   ]
  },
  {
   "cell_type": "markdown",
   "metadata": {
    "papermill": {
     "duration": 0.013515,
     "end_time": "2021-06-28T09:45:41.984506",
     "exception": false,
     "start_time": "2021-06-28T09:45:41.970991",
     "status": "completed"
    },
    "tags": []
   },
   "source": [
    "**Inspiration**\n",
    "\n",
    "Which country is using what vaccine?\n",
    "\n",
    "In which country the vaccination programme is more advanced?\n",
    "\n",
    "Where are vaccinated more people per day? But in terms of percent from entire population ?"
   ]
  },
  {
   "cell_type": "markdown",
   "metadata": {
    "papermill": {
     "duration": 0.01327,
     "end_time": "2021-06-28T09:45:42.012006",
     "exception": false,
     "start_time": "2021-06-28T09:45:41.998736",
     "status": "completed"
    },
    "tags": []
   },
   "source": [
    "# Load and Explor Data (EDA)"
   ]
  },
  {
   "cell_type": "code",
   "execution_count": 1,
   "metadata": {
    "_cell_guid": "b1076dfc-b9ad-4769-8c92-a6c4dae69d19",
    "_uuid": "8f2839f25d086af736a60e9eeb907d3b93b6e0e5",
    "execution": {
     "iopub.execute_input": "2021-06-28T09:45:42.047865Z",
     "iopub.status.busy": "2021-06-28T09:45:42.047214Z",
     "iopub.status.idle": "2021-06-28T09:45:44.392777Z",
     "shell.execute_reply": "2021-06-28T09:45:44.393691Z"
    },
    "papermill": {
     "duration": 2.368339,
     "end_time": "2021-06-28T09:45:44.394011",
     "exception": false,
     "start_time": "2021-06-28T09:45:42.025672",
     "status": "completed"
    },
    "tags": []
   },
   "outputs": [
    {
     "name": "stdout",
     "output_type": "stream",
     "text": [
      "/kaggle/input/covid-world-vaccination-progress/country_vaccinations_by_manufacturer.csv\n",
      "/kaggle/input/covid-world-vaccination-progress/country_vaccinations.csv\n"
     ]
    }
   ],
   "source": [
    "# linear algebra\n",
    "import numpy as np \n",
    "# data processing, CSV file I/O (e.g. pd.read_csv)\n",
    "import pandas as pd \n",
    "from datetime import timedelta\n",
    "\n",
    "import plotly.express as px\n",
    "import plotly.graph_objects as go\n",
    "from datetime import timedelta\n",
    "import matplotlib.pyplot as plt\n",
    "import seaborn as sns\n",
    "import altair as alt\n",
    "\n",
    "import warnings\n",
    "warnings.filterwarnings(\"ignore\")\n",
    "\n",
    "import os\n",
    "for dirname, _, filenames in os.walk('/kaggle/input'):\n",
    "    for filename in filenames:\n",
    "        print(os.path.join(dirname, filename))\n"
   ]
  },
  {
   "cell_type": "code",
   "execution_count": 2,
   "metadata": {
    "execution": {
     "iopub.execute_input": "2021-06-28T09:45:44.428711Z",
     "iopub.status.busy": "2021-06-28T09:45:44.428048Z",
     "iopub.status.idle": "2021-06-28T09:45:44.618384Z",
     "shell.execute_reply": "2021-06-28T09:45:44.617541Z"
    },
    "papermill": {
     "duration": 0.210007,
     "end_time": "2021-06-28T09:45:44.618579",
     "exception": false,
     "start_time": "2021-06-28T09:45:44.408572",
     "status": "completed"
    },
    "tags": []
   },
   "outputs": [],
   "source": [
    "#country_vaccinations.csv\n",
    "vaccinations_data = pd.read_csv('../input/covid-world-vaccination-progress/country_vaccinations.csv')\n",
    "\n",
    "#country_vaccinations_by_manufacturer.csv\n",
    "vaccinations_by_mf = pd.read_csv('../input/covid-world-vaccination-progress/country_vaccinations_by_manufacturer.csv')"
   ]
  },
  {
   "cell_type": "code",
   "execution_count": 3,
   "metadata": {
    "execution": {
     "iopub.execute_input": "2021-06-28T09:45:44.672341Z",
     "iopub.status.busy": "2021-06-28T09:45:44.671422Z",
     "iopub.status.idle": "2021-06-28T09:45:44.705257Z",
     "shell.execute_reply": "2021-06-28T09:45:44.705871Z"
    },
    "papermill": {
     "duration": 0.066773,
     "end_time": "2021-06-28T09:45:44.706154",
     "exception": false,
     "start_time": "2021-06-28T09:45:44.639381",
     "status": "completed"
    },
    "tags": []
   },
   "outputs": [
    {
     "data": {
      "text/html": [
       "<div>\n",
       "<style scoped>\n",
       "    .dataframe tbody tr th:only-of-type {\n",
       "        vertical-align: middle;\n",
       "    }\n",
       "\n",
       "    .dataframe tbody tr th {\n",
       "        vertical-align: top;\n",
       "    }\n",
       "\n",
       "    .dataframe thead th {\n",
       "        text-align: right;\n",
       "    }\n",
       "</style>\n",
       "<table border=\"1\" class=\"dataframe\">\n",
       "  <thead>\n",
       "    <tr style=\"text-align: right;\">\n",
       "      <th></th>\n",
       "      <th>country</th>\n",
       "      <th>iso_code</th>\n",
       "      <th>date</th>\n",
       "      <th>total_vaccinations</th>\n",
       "      <th>people_vaccinated</th>\n",
       "      <th>people_fully_vaccinated</th>\n",
       "      <th>daily_vaccinations_raw</th>\n",
       "      <th>daily_vaccinations</th>\n",
       "      <th>total_vaccinations_per_hundred</th>\n",
       "      <th>people_vaccinated_per_hundred</th>\n",
       "      <th>people_fully_vaccinated_per_hundred</th>\n",
       "      <th>daily_vaccinations_per_million</th>\n",
       "      <th>vaccines</th>\n",
       "      <th>source_name</th>\n",
       "      <th>source_website</th>\n",
       "    </tr>\n",
       "  </thead>\n",
       "  <tbody>\n",
       "    <tr>\n",
       "      <th>0</th>\n",
       "      <td>Afghanistan</td>\n",
       "      <td>AFG</td>\n",
       "      <td>2021-02-22</td>\n",
       "      <td>0.0</td>\n",
       "      <td>0.0</td>\n",
       "      <td>NaN</td>\n",
       "      <td>NaN</td>\n",
       "      <td>NaN</td>\n",
       "      <td>0.0</td>\n",
       "      <td>0.0</td>\n",
       "      <td>NaN</td>\n",
       "      <td>NaN</td>\n",
       "      <td>BBIBP-CorV, Oxford/AstraZeneca, Pfizer/BioNTech</td>\n",
       "      <td>World Health Organization</td>\n",
       "      <td>https://covid19.who.int/</td>\n",
       "    </tr>\n",
       "    <tr>\n",
       "      <th>1</th>\n",
       "      <td>Afghanistan</td>\n",
       "      <td>AFG</td>\n",
       "      <td>2021-02-23</td>\n",
       "      <td>NaN</td>\n",
       "      <td>NaN</td>\n",
       "      <td>NaN</td>\n",
       "      <td>NaN</td>\n",
       "      <td>1367.0</td>\n",
       "      <td>NaN</td>\n",
       "      <td>NaN</td>\n",
       "      <td>NaN</td>\n",
       "      <td>35.0</td>\n",
       "      <td>BBIBP-CorV, Oxford/AstraZeneca, Pfizer/BioNTech</td>\n",
       "      <td>World Health Organization</td>\n",
       "      <td>https://covid19.who.int/</td>\n",
       "    </tr>\n",
       "    <tr>\n",
       "      <th>2</th>\n",
       "      <td>Afghanistan</td>\n",
       "      <td>AFG</td>\n",
       "      <td>2021-02-24</td>\n",
       "      <td>NaN</td>\n",
       "      <td>NaN</td>\n",
       "      <td>NaN</td>\n",
       "      <td>NaN</td>\n",
       "      <td>1367.0</td>\n",
       "      <td>NaN</td>\n",
       "      <td>NaN</td>\n",
       "      <td>NaN</td>\n",
       "      <td>35.0</td>\n",
       "      <td>BBIBP-CorV, Oxford/AstraZeneca, Pfizer/BioNTech</td>\n",
       "      <td>World Health Organization</td>\n",
       "      <td>https://covid19.who.int/</td>\n",
       "    </tr>\n",
       "    <tr>\n",
       "      <th>3</th>\n",
       "      <td>Afghanistan</td>\n",
       "      <td>AFG</td>\n",
       "      <td>2021-02-25</td>\n",
       "      <td>NaN</td>\n",
       "      <td>NaN</td>\n",
       "      <td>NaN</td>\n",
       "      <td>NaN</td>\n",
       "      <td>1367.0</td>\n",
       "      <td>NaN</td>\n",
       "      <td>NaN</td>\n",
       "      <td>NaN</td>\n",
       "      <td>35.0</td>\n",
       "      <td>BBIBP-CorV, Oxford/AstraZeneca, Pfizer/BioNTech</td>\n",
       "      <td>World Health Organization</td>\n",
       "      <td>https://covid19.who.int/</td>\n",
       "    </tr>\n",
       "    <tr>\n",
       "      <th>4</th>\n",
       "      <td>Afghanistan</td>\n",
       "      <td>AFG</td>\n",
       "      <td>2021-02-26</td>\n",
       "      <td>NaN</td>\n",
       "      <td>NaN</td>\n",
       "      <td>NaN</td>\n",
       "      <td>NaN</td>\n",
       "      <td>1367.0</td>\n",
       "      <td>NaN</td>\n",
       "      <td>NaN</td>\n",
       "      <td>NaN</td>\n",
       "      <td>35.0</td>\n",
       "      <td>BBIBP-CorV, Oxford/AstraZeneca, Pfizer/BioNTech</td>\n",
       "      <td>World Health Organization</td>\n",
       "      <td>https://covid19.who.int/</td>\n",
       "    </tr>\n",
       "  </tbody>\n",
       "</table>\n",
       "</div>"
      ],
      "text/plain": [
       "       country iso_code        date  total_vaccinations  people_vaccinated  \\\n",
       "0  Afghanistan      AFG  2021-02-22                 0.0                0.0   \n",
       "1  Afghanistan      AFG  2021-02-23                 NaN                NaN   \n",
       "2  Afghanistan      AFG  2021-02-24                 NaN                NaN   \n",
       "3  Afghanistan      AFG  2021-02-25                 NaN                NaN   \n",
       "4  Afghanistan      AFG  2021-02-26                 NaN                NaN   \n",
       "\n",
       "   people_fully_vaccinated  daily_vaccinations_raw  daily_vaccinations  \\\n",
       "0                      NaN                     NaN                 NaN   \n",
       "1                      NaN                     NaN              1367.0   \n",
       "2                      NaN                     NaN              1367.0   \n",
       "3                      NaN                     NaN              1367.0   \n",
       "4                      NaN                     NaN              1367.0   \n",
       "\n",
       "   total_vaccinations_per_hundred  people_vaccinated_per_hundred  \\\n",
       "0                             0.0                            0.0   \n",
       "1                             NaN                            NaN   \n",
       "2                             NaN                            NaN   \n",
       "3                             NaN                            NaN   \n",
       "4                             NaN                            NaN   \n",
       "\n",
       "   people_fully_vaccinated_per_hundred  daily_vaccinations_per_million  \\\n",
       "0                                  NaN                             NaN   \n",
       "1                                  NaN                            35.0   \n",
       "2                                  NaN                            35.0   \n",
       "3                                  NaN                            35.0   \n",
       "4                                  NaN                            35.0   \n",
       "\n",
       "                                          vaccines                source_name  \\\n",
       "0  BBIBP-CorV, Oxford/AstraZeneca, Pfizer/BioNTech  World Health Organization   \n",
       "1  BBIBP-CorV, Oxford/AstraZeneca, Pfizer/BioNTech  World Health Organization   \n",
       "2  BBIBP-CorV, Oxford/AstraZeneca, Pfizer/BioNTech  World Health Organization   \n",
       "3  BBIBP-CorV, Oxford/AstraZeneca, Pfizer/BioNTech  World Health Organization   \n",
       "4  BBIBP-CorV, Oxford/AstraZeneca, Pfizer/BioNTech  World Health Organization   \n",
       "\n",
       "             source_website  \n",
       "0  https://covid19.who.int/  \n",
       "1  https://covid19.who.int/  \n",
       "2  https://covid19.who.int/  \n",
       "3  https://covid19.who.int/  \n",
       "4  https://covid19.who.int/  "
      ]
     },
     "execution_count": 3,
     "metadata": {},
     "output_type": "execute_result"
    }
   ],
   "source": [
    "#country_vaccinations.csv\n",
    "vaccinations_data.head()"
   ]
  },
  {
   "cell_type": "code",
   "execution_count": 4,
   "metadata": {
    "execution": {
     "iopub.execute_input": "2021-06-28T09:45:44.748986Z",
     "iopub.status.busy": "2021-06-28T09:45:44.748345Z",
     "iopub.status.idle": "2021-06-28T09:45:44.751428Z",
     "shell.execute_reply": "2021-06-28T09:45:44.751997Z"
    },
    "papermill": {
     "duration": 0.03006,
     "end_time": "2021-06-28T09:45:44.752237",
     "exception": false,
     "start_time": "2021-06-28T09:45:44.722177",
     "status": "completed"
    },
    "tags": []
   },
   "outputs": [
    {
     "data": {
      "text/html": [
       "<div>\n",
       "<style scoped>\n",
       "    .dataframe tbody tr th:only-of-type {\n",
       "        vertical-align: middle;\n",
       "    }\n",
       "\n",
       "    .dataframe tbody tr th {\n",
       "        vertical-align: top;\n",
       "    }\n",
       "\n",
       "    .dataframe thead th {\n",
       "        text-align: right;\n",
       "    }\n",
       "</style>\n",
       "<table border=\"1\" class=\"dataframe\">\n",
       "  <thead>\n",
       "    <tr style=\"text-align: right;\">\n",
       "      <th></th>\n",
       "      <th>location</th>\n",
       "      <th>date</th>\n",
       "      <th>vaccine</th>\n",
       "      <th>total_vaccinations</th>\n",
       "    </tr>\n",
       "  </thead>\n",
       "  <tbody>\n",
       "    <tr>\n",
       "      <th>8056</th>\n",
       "      <td>Uruguay</td>\n",
       "      <td>2021-06-26</td>\n",
       "      <td>Pfizer/BioNTech</td>\n",
       "      <td>921875</td>\n",
       "    </tr>\n",
       "    <tr>\n",
       "      <th>8057</th>\n",
       "      <td>Uruguay</td>\n",
       "      <td>2021-06-26</td>\n",
       "      <td>Sinovac</td>\n",
       "      <td>2808652</td>\n",
       "    </tr>\n",
       "    <tr>\n",
       "      <th>8058</th>\n",
       "      <td>Uruguay</td>\n",
       "      <td>2021-06-27</td>\n",
       "      <td>Oxford/AstraZeneca</td>\n",
       "      <td>43128</td>\n",
       "    </tr>\n",
       "    <tr>\n",
       "      <th>8059</th>\n",
       "      <td>Uruguay</td>\n",
       "      <td>2021-06-27</td>\n",
       "      <td>Pfizer/BioNTech</td>\n",
       "      <td>921875</td>\n",
       "    </tr>\n",
       "    <tr>\n",
       "      <th>8060</th>\n",
       "      <td>Uruguay</td>\n",
       "      <td>2021-06-27</td>\n",
       "      <td>Sinovac</td>\n",
       "      <td>2808652</td>\n",
       "    </tr>\n",
       "  </tbody>\n",
       "</table>\n",
       "</div>"
      ],
      "text/plain": [
       "     location        date             vaccine  total_vaccinations\n",
       "8056  Uruguay  2021-06-26     Pfizer/BioNTech              921875\n",
       "8057  Uruguay  2021-06-26             Sinovac             2808652\n",
       "8058  Uruguay  2021-06-27  Oxford/AstraZeneca               43128\n",
       "8059  Uruguay  2021-06-27     Pfizer/BioNTech              921875\n",
       "8060  Uruguay  2021-06-27             Sinovac             2808652"
      ]
     },
     "execution_count": 4,
     "metadata": {},
     "output_type": "execute_result"
    }
   ],
   "source": [
    "#country_vaccinations_by_manufacturer.csv\n",
    "vaccinations_by_mf.tail()"
   ]
  },
  {
   "cell_type": "code",
   "execution_count": 5,
   "metadata": {
    "execution": {
     "iopub.execute_input": "2021-06-28T09:45:44.787177Z",
     "iopub.status.busy": "2021-06-28T09:45:44.786564Z",
     "iopub.status.idle": "2021-06-28T09:45:44.812975Z",
     "shell.execute_reply": "2021-06-28T09:45:44.813543Z"
    },
    "papermill": {
     "duration": 0.045519,
     "end_time": "2021-06-28T09:45:44.813716",
     "exception": false,
     "start_time": "2021-06-28T09:45:44.768197",
     "status": "completed"
    },
    "tags": []
   },
   "outputs": [
    {
     "data": {
      "text/plain": [
       "country                                    0\n",
       "iso_code                                   0\n",
       "date                                       0\n",
       "total_vaccinations                     11929\n",
       "people_vaccinated                      12725\n",
       "people_fully_vaccinated                15473\n",
       "daily_vaccinations_raw                 14574\n",
       "daily_vaccinations                       276\n",
       "total_vaccinations_per_hundred         11929\n",
       "people_vaccinated_per_hundred          12725\n",
       "people_fully_vaccinated_per_hundred    15473\n",
       "daily_vaccinations_per_million           276\n",
       "vaccines                                   0\n",
       "source_name                                0\n",
       "source_website                             0\n",
       "dtype: int64"
      ]
     },
     "execution_count": 5,
     "metadata": {},
     "output_type": "execute_result"
    }
   ],
   "source": [
    "#data.isnull().sum(axis=0)\n",
    "# Get the null values use isnull() \n",
    "null_values = vaccinations_data.isnull().sum()\n",
    "null_values"
   ]
  },
  {
   "cell_type": "code",
   "execution_count": 6,
   "metadata": {
    "execution": {
     "iopub.execute_input": "2021-06-28T09:45:44.850900Z",
     "iopub.status.busy": "2021-06-28T09:45:44.850266Z",
     "iopub.status.idle": "2021-06-28T09:45:44.864999Z",
     "shell.execute_reply": "2021-06-28T09:45:44.865689Z"
    },
    "papermill": {
     "duration": 0.035952,
     "end_time": "2021-06-28T09:45:44.865921",
     "exception": false,
     "start_time": "2021-06-28T09:45:44.829969",
     "status": "completed"
    },
    "tags": []
   },
   "outputs": [
    {
     "name": "stdout",
     "output_type": "stream",
     "text": [
      "country\n",
      "Afghanistan           731028.0\n",
      "Albania               893292.0\n",
      "Algeria              2437370.0\n",
      "Andorra                57677.0\n",
      "Angola               1395937.0\n",
      "                       ...    \n",
      "Wales                3777147.0\n",
      "Wallis and Futuna       8275.0\n",
      "Yemen                 234640.0\n",
      "Zambia                149991.0\n",
      "Zimbabwe             1151464.0\n",
      "Name: daily_vaccinations, Length: 217, dtype: float64\n"
     ]
    }
   ],
   "source": [
    "vaccinations_per_country = vaccinations_data.groupby('country')['daily_vaccinations'].sum()\n",
    "print(vaccinations_per_country)"
   ]
  },
  {
   "cell_type": "code",
   "execution_count": 7,
   "metadata": {
    "execution": {
     "iopub.execute_input": "2021-06-28T09:45:44.903776Z",
     "iopub.status.busy": "2021-06-28T09:45:44.902786Z",
     "iopub.status.idle": "2021-06-28T09:45:44.915600Z",
     "shell.execute_reply": "2021-06-28T09:45:44.916037Z"
    },
    "papermill": {
     "duration": 0.032956,
     "end_time": "2021-06-28T09:45:44.916229",
     "exception": false,
     "start_time": "2021-06-28T09:45:44.883273",
     "status": "completed"
    },
    "tags": []
   },
   "outputs": [
    {
     "data": {
      "text/plain": [
       "country\n",
       "China             4.390531e+10\n",
       "United States     2.742481e+10\n",
       "India             1.653679e+10\n",
       "United Kingdom    6.258558e+09\n",
       "England           5.219554e+09\n",
       "Name: total_vaccinations, dtype: float64"
      ]
     },
     "execution_count": 7,
     "metadata": {},
     "output_type": "execute_result"
    }
   ],
   "source": [
    "#top 5 country with total vaccinations\n",
    "\n",
    "\n",
    "vaccinations_per_country = vaccinations_data.groupby('country')['total_vaccinations'].sum().sort_values(ascending=False).head(5)\n",
    "vaccinations_per_country.head(5)\n"
   ]
  },
  {
   "cell_type": "code",
   "execution_count": 8,
   "metadata": {
    "execution": {
     "iopub.execute_input": "2021-06-28T09:45:44.959879Z",
     "iopub.status.busy": "2021-06-28T09:45:44.959246Z",
     "iopub.status.idle": "2021-06-28T09:45:45.175123Z",
     "shell.execute_reply": "2021-06-28T09:45:45.175649Z"
    },
    "papermill": {
     "duration": 0.242459,
     "end_time": "2021-06-28T09:45:45.175836",
     "exception": false,
     "start_time": "2021-06-28T09:45:44.933377",
     "status": "completed"
    },
    "tags": []
   },
   "outputs": [
    {
     "data": {
      "text/plain": [
       "Text(0, 0.5, 'Country')"
      ]
     },
     "execution_count": 8,
     "metadata": {},
     "output_type": "execute_result"
    },
    {
     "data": {
      "image/png": "[encoded data removed]",
      "text/plain": [
       "<Figure size 432x288 with 1 Axes>"
      ]
     },
     "metadata": {},
     "output_type": "display_data"
    }
   ],
   "source": [
    "\n",
    "#bargraph\n",
    "#plt.figure(figsize=(7,7))\n",
    "sns.set_theme(style=\"whitegrid\")\n",
    "sns.barplot(x=vaccinations_per_country.values, y=vaccinations_per_country.index, orient='h')\n",
    "plt.xlabel(\"Total Vaccinations\")\n",
    "plt.ylabel(\"Country\")\n"
   ]
  },
  {
   "cell_type": "code",
   "execution_count": 9,
   "metadata": {
    "execution": {
     "iopub.execute_input": "2021-06-28T09:45:45.217435Z",
     "iopub.status.busy": "2021-06-28T09:45:45.216723Z",
     "iopub.status.idle": "2021-06-28T09:45:45.224166Z",
     "shell.execute_reply": "2021-06-28T09:45:45.224626Z"
    },
    "papermill": {
     "duration": 0.030309,
     "end_time": "2021-06-28T09:45:45.224805",
     "exception": false,
     "start_time": "2021-06-28T09:45:45.194496",
     "status": "completed"
    },
    "tags": []
   },
   "outputs": [
    {
     "data": {
      "text/plain": [
       "<bound method IndexOpsMixin.value_counts of 0          Johnson&Johnson\n",
       "1                  Moderna\n",
       "2       Oxford/AstraZeneca\n",
       "3          Pfizer/BioNTech\n",
       "4          Johnson&Johnson\n",
       "               ...        \n",
       "8056       Pfizer/BioNTech\n",
       "8057               Sinovac\n",
       "8058    Oxford/AstraZeneca\n",
       "8059       Pfizer/BioNTech\n",
       "8060               Sinovac\n",
       "Name: vaccine, Length: 8061, dtype: object>"
      ]
     },
     "execution_count": 9,
     "metadata": {},
     "output_type": "execute_result"
    }
   ],
   "source": [
    "vaccinations_by_mf.vaccine.value_counts "
   ]
  },
  {
   "cell_type": "markdown",
   "metadata": {
    "papermill": {
     "duration": 0.01837,
     "end_time": "2021-06-28T09:45:45.262028",
     "exception": false,
     "start_time": "2021-06-28T09:45:45.243658",
     "status": "completed"
    },
    "tags": []
   },
   "source": [
    "# Worldwide total vaccinations by manufacturer"
   ]
  },
  {
   "cell_type": "code",
   "execution_count": 10,
   "metadata": {
    "execution": {
     "iopub.execute_input": "2021-06-28T09:45:45.302980Z",
     "iopub.status.busy": "2021-06-28T09:45:45.302371Z",
     "iopub.status.idle": "2021-06-28T09:45:45.319116Z",
     "shell.execute_reply": "2021-06-28T09:45:45.319622Z"
    },
    "papermill": {
     "duration": 0.039216,
     "end_time": "2021-06-28T09:45:45.319825",
     "exception": false,
     "start_time": "2021-06-28T09:45:45.280609",
     "status": "completed"
    },
    "tags": []
   },
   "outputs": [
    {
     "data": {
      "text/html": [
       "<div>\n",
       "<style scoped>\n",
       "    .dataframe tbody tr th:only-of-type {\n",
       "        vertical-align: middle;\n",
       "    }\n",
       "\n",
       "    .dataframe tbody tr th {\n",
       "        vertical-align: top;\n",
       "    }\n",
       "\n",
       "    .dataframe thead th {\n",
       "        text-align: right;\n",
       "    }\n",
       "</style>\n",
       "<table border=\"1\" class=\"dataframe\">\n",
       "  <thead>\n",
       "    <tr style=\"text-align: right;\">\n",
       "      <th></th>\n",
       "      <th>vaccine</th>\n",
       "      <th>total_vaccinations</th>\n",
       "    </tr>\n",
       "  </thead>\n",
       "  <tbody>\n",
       "    <tr>\n",
       "      <th>0</th>\n",
       "      <td>CanSino</td>\n",
       "      <td>1.760560e+05</td>\n",
       "    </tr>\n",
       "    <tr>\n",
       "      <th>7</th>\n",
       "      <td>Sputnik V</td>\n",
       "      <td>4.896096e+05</td>\n",
       "    </tr>\n",
       "    <tr>\n",
       "      <th>1</th>\n",
       "      <td>Johnson&amp;Johnson</td>\n",
       "      <td>8.487588e+05</td>\n",
       "    </tr>\n",
       "    <tr>\n",
       "      <th>3</th>\n",
       "      <td>Oxford/AstraZeneca</td>\n",
       "      <td>1.132560e+06</td>\n",
       "    </tr>\n",
       "    <tr>\n",
       "      <th>5</th>\n",
       "      <td>Sinopharm/Beijing</td>\n",
       "      <td>1.162825e+06</td>\n",
       "    </tr>\n",
       "    <tr>\n",
       "      <th>6</th>\n",
       "      <td>Sinovac</td>\n",
       "      <td>5.992518e+06</td>\n",
       "    </tr>\n",
       "    <tr>\n",
       "      <th>2</th>\n",
       "      <td>Moderna</td>\n",
       "      <td>6.117343e+06</td>\n",
       "    </tr>\n",
       "    <tr>\n",
       "      <th>4</th>\n",
       "      <td>Pfizer/BioNTech</td>\n",
       "      <td>9.413850e+06</td>\n",
       "    </tr>\n",
       "  </tbody>\n",
       "</table>\n",
       "</div>"
      ],
      "text/plain": [
       "              vaccine  total_vaccinations\n",
       "0             CanSino        1.760560e+05\n",
       "7           Sputnik V        4.896096e+05\n",
       "1     Johnson&Johnson        8.487588e+05\n",
       "3  Oxford/AstraZeneca        1.132560e+06\n",
       "5   Sinopharm/Beijing        1.162825e+06\n",
       "6             Sinovac        5.992518e+06\n",
       "2             Moderna        6.117343e+06\n",
       "4     Pfizer/BioNTech        9.413850e+06"
      ]
     },
     "execution_count": 10,
     "metadata": {},
     "output_type": "execute_result"
    }
   ],
   "source": [
    "# Worldwide vaccine count per manufacturer\n",
    "# am using mean instead of sum since there is 2 doses\n",
    "vaccine_tot_per_mf = vaccinations_by_mf.groupby('vaccine')['total_vaccinations'].mean().\\\n",
    "                to_frame().reset_index()\n",
    "\n",
    "vaccine_tot_per_mf.sort_values(by=['total_vaccinations'], ascending=True)\n"
   ]
  },
  {
   "cell_type": "code",
   "execution_count": 11,
   "metadata": {
    "execution": {
     "iopub.execute_input": "2021-06-28T09:45:45.363570Z",
     "iopub.status.busy": "2021-06-28T09:45:45.362843Z",
     "iopub.status.idle": "2021-06-28T09:45:45.567393Z",
     "shell.execute_reply": "2021-06-28T09:45:45.566675Z"
    },
    "papermill": {
     "duration": 0.227862,
     "end_time": "2021-06-28T09:45:45.567551",
     "exception": false,
     "start_time": "2021-06-28T09:45:45.339689",
     "status": "completed"
    },
    "tags": []
   },
   "outputs": [
    {
     "data": {
      "image/png": "[encoded data removed]",
      "text/plain": [
       "<Figure size 720x432 with 1 Axes>"
      ]
     },
     "metadata": {},
     "output_type": "display_data"
    }
   ],
   "source": [
    "# country_vaccinations_by_manufacturer.csv dataset\n",
    "vaccine_tot_per_mf= vaccine_tot_per_mf.sort_values('total_vaccinations')\n",
    "plt.figure(figsize=(10, 6))\n",
    "plt.bar(vaccine_tot_per_mf['vaccine'], vaccine_tot_per_mf['total_vaccinations'], )\n",
    "minimum = 0\n",
    "maximum = vaccine_tot_per_mf['total_vaccinations'].max\n",
    "plt.title(\"Worldwide Total vaccinations by manufacturer\")\n",
    "#plt.xlabel('vaccine')\n",
    "plt.xticks(rotation=45, ha='right')\n",
    "plt.show()"
   ]
  },
  {
   "cell_type": "code",
   "execution_count": 12,
   "metadata": {
    "execution": {
     "iopub.execute_input": "2021-06-28T09:45:45.623454Z",
     "iopub.status.busy": "2021-06-28T09:45:45.622710Z",
     "iopub.status.idle": "2021-06-28T09:45:45.656343Z",
     "shell.execute_reply": "2021-06-28T09:45:45.656923Z"
    },
    "papermill": {
     "duration": 0.068319,
     "end_time": "2021-06-28T09:45:45.657155",
     "exception": false,
     "start_time": "2021-06-28T09:45:45.588836",
     "status": "completed"
    },
    "tags": []
   },
   "outputs": [
    {
     "data": {
      "text/html": [
       "\n",
       "<div id=\"altair-viz-62a5ea9e2ff44104bcb72de4ad43bcc4\"></div>\n",
       "<script type=\"text/javascript\">\n",
       "  (function(spec, embedOpt){\n",
       "    let outputDiv = document.currentScript.previousElementSibling;\n",
       "    if (outputDiv.id !== \"altair-viz-62a5ea9e2ff44104bcb72de4ad43bcc4\") {\n",
       "      outputDiv = document.getElementById(\"altair-viz-62a5ea9e2ff44104bcb72de4ad43bcc4\");\n",
       "    }\n",
       "    const paths = {\n",
       "      \"vega\": \"https://cdn.jsdelivr.net/npm//vega@5?noext\",\n",
       "      \"vega-lib\": \"https://cdn.jsdelivr.net/npm//vega-lib?noext\",\n",
       "      \"vega-lite\": \"https://cdn.jsdelivr.net/npm//vega-lite@4.8.1?noext\",\n",
       "      \"vega-embed\": \"https://cdn.jsdelivr.net/npm//vega-embed@6?noext\",\n",
       "    };\n",
       "\n",
       "    function loadScript(lib) {\n",
       "      return new Promise(function(resolve, reject) {\n",
       "        var s = document.createElement('script');\n",
       "        s.src = paths[lib];\n",
       "        s.async = true;\n",
       "        s.onload = () => resolve(paths[lib]);\n",
       "        s.onerror = () => reject(`Error loading script: ${paths[lib]}`);\n",
       "        document.getElementsByTagName(\"head\")[0].appendChild(s);\n",
       "      });\n",
       "    }\n",
       "\n",
       "    function showError(err) {\n",
       "      outputDiv.innerHTML = `<div class=\"error\" style=\"color:red;\">${err}</div>`;\n",
       "      throw err;\n",
       "    }\n",
       "\n",
       "    function displayChart(vegaEmbed) {\n",
       "      vegaEmbed(outputDiv, spec, embedOpt)\n",
       "        .catch(err => showError(`Javascript Error: ${err.message}<br>This usually means there's a typo in your chart specification. See the javascript console for the full traceback.`));\n",
       "    }\n",
       "\n",
       "    if(typeof define === \"function\" && define.amd) {\n",
       "      requirejs.config({paths});\n",
       "      require([\"vega-embed\"], displayChart, err => showError(`Error loading script: ${err.message}`));\n",
       "    } else if (typeof vegaEmbed === \"function\") {\n",
       "      displayChart(vegaEmbed);\n",
       "    } else {\n",
       "      loadScript(\"vega\")\n",
       "        .then(() => loadScript(\"vega-lite\"))\n",
       "        .then(() => loadScript(\"vega-embed\"))\n",
       "        .catch(showError)\n",
       "        .then(() => displayChart(vegaEmbed));\n",
       "    }\n",
       "  })({\"config\": {\"view\": {\"continuousWidth\": 400, \"continuousHeight\": 300}}, \"data\": {\"name\": \"data-b521862f1d1951240df0b02352bba277\"}, \"mark\": \"bar\", \"encoding\": {\"color\": {\"type\": \"nominal\", \"field\": \"vaccine\"}, \"tooltip\": [{\"type\": \"nominal\", \"field\": \"vaccine\"}, {\"type\": \"quantitative\", \"field\": \"total_vaccinations\"}], \"x\": {\"type\": \"nominal\", \"field\": \"vaccine\", \"sort\": \"-y\", \"title\": \"vaccinations manufacturer\"}, \"y\": {\"type\": \"quantitative\", \"field\": \"total_vaccinations\"}}, \"height\": 450, \"width\": 600, \"$schema\": \"https://vega.github.io/schema/vega-lite/v4.8.1.json\", \"datasets\": {\"data-b521862f1d1951240df0b02352bba277\": [{\"vaccine\": \"CanSino\", \"total_vaccinations\": 176056.03846153847}, {\"vaccine\": \"Sputnik V\", \"total_vaccinations\": 489609.6052631579}, {\"vaccine\": \"Johnson&Johnson\", \"total_vaccinations\": 848758.7577916295}, {\"vaccine\": \"Oxford/AstraZeneca\", \"total_vaccinations\": 1132560.0561423013}, {\"vaccine\": \"Sinopharm/Beijing\", \"total_vaccinations\": 1162825.3684210526}, {\"vaccine\": \"Sinovac\", \"total_vaccinations\": 5992518.158490566}, {\"vaccine\": \"Moderna\", \"total_vaccinations\": 6117343.134794776}, {\"vaccine\": \"Pfizer/BioNTech\", \"total_vaccinations\": 9413850.475632792}]}}, {\"mode\": \"vega-lite\"});\n",
       "</script>"
      ],
      "text/plain": [
       "alt.Chart(...)"
      ]
     },
     "execution_count": 12,
     "metadata": {},
     "output_type": "execute_result"
    }
   ],
   "source": [
    "alt.Chart(vaccine_tot_per_mf).mark_bar().encode(\n",
    "    alt.X('vaccine:N', sort='-y', title='vaccinations manufacturer'),\n",
    "    alt.Y('total_vaccinations:Q'),\n",
    "    alt.Color('vaccine:N'),\n",
    "    alt.Tooltip(['vaccine', 'total_vaccinations'])\n",
    ").properties(\n",
    "    width = 600,\n",
    "    height = 450\n",
    ")"
   ]
  },
  {
   "cell_type": "markdown",
   "metadata": {
    "papermill": {
     "duration": 0.021393,
     "end_time": "2021-06-28T09:45:45.700779",
     "exception": false,
     "start_time": "2021-06-28T09:45:45.679386",
     "status": "completed"
    },
    "tags": []
   },
   "source": [
    "# Sweden "
   ]
  },
  {
   "cell_type": "code",
   "execution_count": 13,
   "metadata": {
    "execution": {
     "iopub.execute_input": "2021-06-28T09:45:45.748073Z",
     "iopub.status.busy": "2021-06-28T09:45:45.747418Z",
     "iopub.status.idle": "2021-06-28T09:45:45.756201Z",
     "shell.execute_reply": "2021-06-28T09:45:45.756750Z"
    },
    "papermill": {
     "duration": 0.034348,
     "end_time": "2021-06-28T09:45:45.756956",
     "exception": false,
     "start_time": "2021-06-28T09:45:45.722608",
     "status": "completed"
    },
    "tags": []
   },
   "outputs": [],
   "source": [
    "vaccinations_swe = vaccinations_data[vaccinations_data['country'] == 'Sweden']\n"
   ]
  },
  {
   "cell_type": "code",
   "execution_count": 14,
   "metadata": {
    "execution": {
     "iopub.execute_input": "2021-06-28T09:45:45.804352Z",
     "iopub.status.busy": "2021-06-28T09:45:45.803652Z",
     "iopub.status.idle": "2021-06-28T09:45:45.818683Z",
     "shell.execute_reply": "2021-06-28T09:45:45.819161Z"
    },
    "papermill": {
     "duration": 0.040409,
     "end_time": "2021-06-28T09:45:45.819367",
     "exception": false,
     "start_time": "2021-06-28T09:45:45.778958",
     "status": "completed"
    },
    "tags": []
   },
   "outputs": [
    {
     "data": {
      "text/html": [
       "<div>\n",
       "<style scoped>\n",
       "    .dataframe tbody tr th:only-of-type {\n",
       "        vertical-align: middle;\n",
       "    }\n",
       "\n",
       "    .dataframe tbody tr th {\n",
       "        vertical-align: top;\n",
       "    }\n",
       "\n",
       "    .dataframe thead th {\n",
       "        text-align: right;\n",
       "    }\n",
       "</style>\n",
       "<table border=\"1\" class=\"dataframe\">\n",
       "  <thead>\n",
       "    <tr style=\"text-align: right;\">\n",
       "      <th></th>\n",
       "      <th>vaccine</th>\n",
       "      <th>total_vaccinations</th>\n",
       "    </tr>\n",
       "  </thead>\n",
       "  <tbody>\n",
       "    <tr>\n",
       "      <th>0</th>\n",
       "      <td>Moderna</td>\n",
       "      <td>2.510582e+05</td>\n",
       "    </tr>\n",
       "    <tr>\n",
       "      <th>1</th>\n",
       "      <td>Oxford/AstraZeneca</td>\n",
       "      <td>5.026350e+05</td>\n",
       "    </tr>\n",
       "    <tr>\n",
       "      <th>2</th>\n",
       "      <td>Pfizer/BioNTech</td>\n",
       "      <td>1.954288e+06</td>\n",
       "    </tr>\n",
       "  </tbody>\n",
       "</table>\n",
       "</div>"
      ],
      "text/plain": [
       "              vaccine  total_vaccinations\n",
       "0             Moderna        2.510582e+05\n",
       "1  Oxford/AstraZeneca        5.026350e+05\n",
       "2     Pfizer/BioNTech        1.954288e+06"
      ]
     },
     "execution_count": 14,
     "metadata": {},
     "output_type": "execute_result"
    }
   ],
   "source": [
    "vaccinations_by_mf_swe = vaccinations_by_mf[vaccinations_by_mf['location'] == 'Sweden']\n",
    "\n",
    "vaccinations_by_mf_swe = vaccinations_by_mf_swe.groupby('vaccine')['total_vaccinations'].mean().\\\n",
    "                to_frame().reset_index()\n",
    "\n",
    "vaccinations_by_mf_swe.sort_values(by=['total_vaccinations'], ascending=True)\n"
   ]
  },
  {
   "cell_type": "code",
   "execution_count": 15,
   "metadata": {
    "execution": {
     "iopub.execute_input": "2021-06-28T09:45:45.868220Z",
     "iopub.status.busy": "2021-06-28T09:45:45.867508Z",
     "iopub.status.idle": "2021-06-28T09:45:46.029676Z",
     "shell.execute_reply": "2021-06-28T09:45:46.030231Z"
    },
    "papermill": {
     "duration": 0.188609,
     "end_time": "2021-06-28T09:45:46.030446",
     "exception": false,
     "start_time": "2021-06-28T09:45:45.841837",
     "status": "completed"
    },
    "tags": []
   },
   "outputs": [
    {
     "data": {
      "image/png": "[encoded data removed]",
      "text/plain": [
       "<Figure size 720x432 with 1 Axes>"
      ]
     },
     "metadata": {},
     "output_type": "display_data"
    }
   ],
   "source": [
    "# Total vaccinations by manufacturer at Sweden\n",
    "vaccinations_by_mf_swe= vaccinations_by_mf_swe.sort_values('total_vaccinations')\n",
    "plt.figure(figsize=(10, 6))\n",
    "plt.bar(vaccinations_by_mf_swe['vaccine'], vaccinations_by_mf_swe['total_vaccinations'], )\n",
    "minimum = 0\n",
    "#maximum = vaccinations_by_mf_swe['total_vaccinations'].max\n",
    "#plt.ylim(0,29000000000)\n",
    "plt.title(\"Sweden\")\n",
    "#plt.xlabel('vaccine')\n",
    "plt.xticks(rotation=45, ha='right')\n",
    "plt.show()"
   ]
  },
  {
   "cell_type": "markdown",
   "metadata": {
    "papermill": {
     "duration": 0.023968,
     "end_time": "2021-06-28T09:45:46.078275",
     "exception": false,
     "start_time": "2021-06-28T09:45:46.054307",
     "status": "completed"
    },
    "tags": []
   },
   "source": [
    "# Sweden / USA / United Arab Emirates \n",
    "**vaccines used**"
   ]
  },
  {
   "cell_type": "code",
   "execution_count": 16,
   "metadata": {
    "execution": {
     "iopub.execute_input": "2021-06-28T09:45:46.129913Z",
     "iopub.status.busy": "2021-06-28T09:45:46.129223Z",
     "iopub.status.idle": "2021-06-28T09:45:46.146372Z",
     "shell.execute_reply": "2021-06-28T09:45:46.145795Z"
    },
    "papermill": {
     "duration": 0.044019,
     "end_time": "2021-06-28T09:45:46.146543",
     "exception": false,
     "start_time": "2021-06-28T09:45:46.102524",
     "status": "completed"
    },
    "tags": []
   },
   "outputs": [
    {
     "data": {
      "text/html": [
       "<div>\n",
       "<style scoped>\n",
       "    .dataframe tbody tr th:only-of-type {\n",
       "        vertical-align: middle;\n",
       "    }\n",
       "\n",
       "    .dataframe tbody tr th {\n",
       "        vertical-align: top;\n",
       "    }\n",
       "\n",
       "    .dataframe thead th {\n",
       "        text-align: right;\n",
       "    }\n",
       "</style>\n",
       "<table border=\"1\" class=\"dataframe\">\n",
       "  <thead>\n",
       "    <tr style=\"text-align: right;\">\n",
       "      <th></th>\n",
       "      <th></th>\n",
       "    </tr>\n",
       "    <tr>\n",
       "      <th>country</th>\n",
       "      <th>vaccines</th>\n",
       "    </tr>\n",
       "  </thead>\n",
       "  <tbody>\n",
       "    <tr>\n",
       "      <th>Sweden</th>\n",
       "      <th>Oxford/AstraZeneca, Pfizer/BioNTech</th>\n",
       "    </tr>\n",
       "    <tr>\n",
       "      <th>United Arab Emirates</th>\n",
       "      <th>Oxford/AstraZeneca, Pfizer/BioNTech, Sinopharm/Beijing, Sinopharm/Wuhan, Sputnik V</th>\n",
       "    </tr>\n",
       "    <tr>\n",
       "      <th>United States</th>\n",
       "      <th>Johnson&amp;Johnson, Moderna, Pfizer/BioNTech</th>\n",
       "    </tr>\n",
       "  </tbody>\n",
       "</table>\n",
       "</div>"
      ],
      "text/plain": [
       "Empty DataFrame\n",
       "Columns: []\n",
       "Index: [(Sweden, Oxford/AstraZeneca, Pfizer/BioNTech), (United Arab Emirates, Oxford/AstraZeneca, Pfizer/BioNTech, Sinopharm/Beijing, Sinopharm/Wuhan, Sputnik V), (United States, Johnson&Johnson, Moderna, Pfizer/BioNTech)]"
      ]
     },
     "execution_count": 16,
     "metadata": {},
     "output_type": "execute_result"
    }
   ],
   "source": [
    "#vaccines used Sweden / USA / United Arab Emirates \n",
    "vaccinations_ar = vaccinations_data[vaccinations_data\n",
    "                                    ['country'].isin(['Sweden',\n",
    "                                                      'United Arab Emirates', 'United States'])]                           \n",
    "\n",
    "vaccinations_ar = vaccinations_ar[['country', 'vaccines']]\n",
    "\n",
    "vaccinations_ar = vaccinations_ar.groupby([\"country\", \"vaccines\"]).count()\n",
    "\n",
    "vaccinations_ar"
   ]
  },
  {
   "cell_type": "markdown",
   "metadata": {
    "papermill": {
     "duration": 0.024562,
     "end_time": "2021-06-28T09:45:46.195387",
     "exception": false,
     "start_time": "2021-06-28T09:45:46.170825",
     "status": "completed"
    },
    "tags": []
   },
   "source": [
    "Johnson&Johnson used at USA only. it is not used at Sweden or UAE."
   ]
  },
  {
   "cell_type": "markdown",
   "metadata": {
    "papermill": {
     "duration": 0.024154,
     "end_time": "2021-06-28T09:45:46.244376",
     "exception": false,
     "start_time": "2021-06-28T09:45:46.220222",
     "status": "completed"
    },
    "tags": []
   },
   "source": [
    "****"
   ]
  },
  {
   "cell_type": "markdown",
   "metadata": {
    "papermill": {
     "duration": 0.024053,
     "end_time": "2021-06-28T09:45:46.292908",
     "exception": false,
     "start_time": "2021-06-28T09:45:46.268855",
     "status": "completed"
    },
    "tags": []
   },
   "source": [
    "Please consider upvoting if you find it useful to you.\n",
    "\n",
    "Thanks."
   ]
  }
 ],
 "metadata": {
  "kernelspec": {
   "display_name": "Python 3",
   "language": "python",
   "name": "python3"
  },
  "language_info": {
   "codemirror_mode": {
    "name": "ipython",
    "version": 3
   },
   "file_extension": ".py",
   "mimetype": "text/x-python",
   "name": "python",
   "nbconvert_exporter": "python",
   "pygments_lexer": "ipython3",
   "version": "3.7.9"
  },
  "papermill": {
   "default_parameters": {},
   "duration": 11.34534,
   "end_time": "2021-06-28T09:45:47.030275",
   "environment_variables": {},
   "exception": null,
   "input_path": "__notebook__.ipynb",
   "output_path": "__notebook__.ipynb",
   "parameters": {},
   "start_time": "2021-06-28T09:45:35.684935",
   "version": "2.2.2"
  }
 },
 "nbformat": 4,
 "nbformat_minor": 4
}
