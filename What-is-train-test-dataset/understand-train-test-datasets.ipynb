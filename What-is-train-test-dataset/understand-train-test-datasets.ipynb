{
 "cells": [
  {
   "cell_type": "code",
   "execution_count": 1,
   "id": "israeli-verse",
   "metadata": {
    "_cell_guid": "b1076dfc-b9ad-4769-8c92-a6c4dae69d19",
    "_uuid": "8f2839f25d086af736a60e9eeb907d3b93b6e0e5",
    "execution": {
     "iopub.execute_input": "2021-05-30T09:46:42.642344Z",
     "iopub.status.busy": "2021-05-30T09:46:42.641662Z",
     "iopub.status.idle": "2021-05-30T09:46:42.644938Z",
     "shell.execute_reply": "2021-05-30T09:46:42.644227Z",
     "shell.execute_reply.started": "2021-05-30T09:46:19.646201Z"
    },
    "papermill": {
     "duration": 0.032346,
     "end_time": "2021-05-30T09:46:42.645129",
     "exception": false,
     "start_time": "2021-05-30T09:46:42.612783",
     "status": "completed"
    },
    "tags": []
   },
   "outputs": [],
   "source": [
    "\n",
    "import numpy as np # linear algebra\n",
    "import pandas as pd # data processing, CSV file I/O (e.g. pd.read_csv)\n",
    "\n",
    "import os\n",
    "for dirname, _, filenames in os.walk('/kaggle/input'):\n",
    "    for filename in filenames:\n",
    "        print(os.path.join(dirname, filename))\n",
    "\n"
   ]
  },
  {
   "cell_type": "markdown",
   "id": "olive-label",
   "metadata": {
    "papermill": {
     "duration": 0.01619,
     "end_time": "2021-05-30T09:46:42.678200",
     "exception": false,
     "start_time": "2021-05-30T09:46:42.662010",
     "status": "completed"
    },
    "tags": []
   },
   "source": [
    "# What is Train/Test\n",
    "\n",
    "Train/Test is a method to measure the accuracy of your model.\n",
    "\n",
    "It is called Train/Test because you split the the data set into two sets: a training set and a testing set.\n",
    "\n",
    "* 80% for training, and 20% for testing.\n",
    "* You train the model using the training set.\n",
    "* You test the model using the testing set.\n",
    "* Train the model means create the model.\n",
    "* Test the model means test the accuracy of the model."
   ]
  },
  {
   "cell_type": "markdown",
   "id": "opened-uzbekistan",
   "metadata": {
    "papermill": {
     "duration": 0.016166,
     "end_time": "2021-05-30T09:46:42.711016",
     "exception": false,
     "start_time": "2021-05-30T09:46:42.694850",
     "status": "completed"
    },
    "tags": []
   },
   "source": [
    "# Start With a Data Set\n",
    "\n",
    "Start with a data set you want to test.\n",
    "\n",
    "Our data set illustrates 100 customers in a shop, and their shopping habits."
   ]
  },
  {
   "cell_type": "code",
   "execution_count": 2,
   "id": "transparent-yorkshire",
   "metadata": {
    "execution": {
     "iopub.execute_input": "2021-05-30T09:46:42.757778Z",
     "iopub.status.busy": "2021-05-30T09:46:42.757119Z",
     "iopub.status.idle": "2021-05-30T09:46:42.920858Z",
     "shell.execute_reply": "2021-05-30T09:46:42.921303Z",
     "shell.execute_reply.started": "2021-05-30T09:46:19.654328Z"
    },
    "papermill": {
     "duration": 0.193891,
     "end_time": "2021-05-30T09:46:42.921488",
     "exception": false,
     "start_time": "2021-05-30T09:46:42.727597",
     "status": "completed"
    },
    "tags": []
   },
   "outputs": [
    {
     "data": {
      "image/png": "[encoded data removed]",
      "text/plain": [
       "<Figure size 432x288 with 1 Axes>"
      ]
     },
     "metadata": {
      "needs_background": "light"
     },
     "output_type": "display_data"
    }
   ],
   "source": [
    "import numpy\n",
    "import matplotlib.pyplot as plt\n",
    "numpy.random.seed(2)\n",
    "\n",
    "x = numpy.random.normal(3, 1, 100)\n",
    "y = numpy.random.normal(150, 40, 100) / x\n",
    "\n",
    "plt.scatter(x, y)\n",
    "plt.show()"
   ]
  },
  {
   "cell_type": "markdown",
   "id": "unlikely-model",
   "metadata": {
    "papermill": {
     "duration": 0.016866,
     "end_time": "2021-05-30T09:46:42.955891",
     "exception": false,
     "start_time": "2021-05-30T09:46:42.939025",
     "status": "completed"
    },
    "tags": []
   },
   "source": [
    "**Result:**\n",
    "\n",
    "The x axis represents the number of minutes before making a purchase.\n",
    "\n",
    "The y axis represents the amount of money spent on the purchase."
   ]
  },
  {
   "cell_type": "markdown",
   "id": "wicked-metro",
   "metadata": {
    "papermill": {
     "duration": 0.016712,
     "end_time": "2021-05-30T09:46:42.989698",
     "exception": false,
     "start_time": "2021-05-30T09:46:42.972986",
     "status": "completed"
    },
    "tags": []
   },
   "source": [
    "# Split Into Train/Test\n",
    "\n",
    "The training set should be a random selection of 80% of the original data.\n",
    "\n",
    "The testing set should be the remaining 20%."
   ]
  },
  {
   "cell_type": "code",
   "execution_count": 3,
   "id": "advanced-isaac",
   "metadata": {
    "execution": {
     "iopub.execute_input": "2021-05-30T09:46:43.027055Z",
     "iopub.status.busy": "2021-05-30T09:46:43.026412Z",
     "iopub.status.idle": "2021-05-30T09:46:43.030140Z",
     "shell.execute_reply": "2021-05-30T09:46:43.030623Z",
     "shell.execute_reply.started": "2021-05-30T09:46:19.775402Z"
    },
    "papermill": {
     "duration": 0.024126,
     "end_time": "2021-05-30T09:46:43.030927",
     "exception": false,
     "start_time": "2021-05-30T09:46:43.006801",
     "status": "completed"
    },
    "tags": []
   },
   "outputs": [],
   "source": [
    "train_x = x[:80]\n",
    "train_y = y[:80]\n",
    "\n",
    "test_x = x[80:]\n",
    "test_y = y[80:]\n"
   ]
  },
  {
   "cell_type": "markdown",
   "id": "weighted-domestic",
   "metadata": {
    "papermill": {
     "duration": 0.017061,
     "end_time": "2021-05-30T09:46:43.065184",
     "exception": false,
     "start_time": "2021-05-30T09:46:43.048123",
     "status": "completed"
    },
    "tags": []
   },
   "source": [
    "# Display the Training Set\n",
    "\n",
    " Display the same scatter plot with the training set:"
   ]
  },
  {
   "cell_type": "code",
   "execution_count": 4,
   "id": "accompanied-alberta",
   "metadata": {
    "execution": {
     "iopub.execute_input": "2021-05-30T09:46:43.106599Z",
     "iopub.status.busy": "2021-05-30T09:46:43.105625Z",
     "iopub.status.idle": "2021-05-30T09:46:43.239660Z",
     "shell.execute_reply": "2021-05-30T09:46:43.239028Z",
     "shell.execute_reply.started": "2021-05-30T09:46:19.781719Z"
    },
    "papermill": {
     "duration": 0.157456,
     "end_time": "2021-05-30T09:46:43.239831",
     "exception": false,
     "start_time": "2021-05-30T09:46:43.082375",
     "status": "completed"
    },
    "tags": []
   },
   "outputs": [
    {
     "data": {
      "image/png": "[encoded data removed]",
      "text/plain": [
       "<Figure size 432x288 with 1 Axes>"
      ]
     },
     "metadata": {
      "needs_background": "light"
     },
     "output_type": "display_data"
    }
   ],
   "source": [
    "plt.scatter(train_x, train_y)\n",
    "plt.show()"
   ]
  },
  {
   "cell_type": "markdown",
   "id": "north-asthma",
   "metadata": {
    "papermill": {
     "duration": 0.017982,
     "end_time": "2021-05-30T09:46:43.282539",
     "exception": false,
     "start_time": "2021-05-30T09:46:43.264557",
     "status": "completed"
    },
    "tags": []
   },
   "source": [
    "# Display the Testing Set\n",
    "\n",
    "To make sure the testing set is not completely different, we will take a look at the testing set as well.\n",
    "\n"
   ]
  },
  {
   "cell_type": "code",
   "execution_count": 5,
   "id": "heavy-cursor",
   "metadata": {
    "execution": {
     "iopub.execute_input": "2021-05-30T09:46:43.353880Z",
     "iopub.status.busy": "2021-05-30T09:46:43.351706Z",
     "iopub.status.idle": "2021-05-30T09:46:43.529645Z",
     "shell.execute_reply": "2021-05-30T09:46:43.529029Z",
     "shell.execute_reply.started": "2021-05-30T09:46:19.899996Z"
    },
    "papermill": {
     "duration": 0.226204,
     "end_time": "2021-05-30T09:46:43.529825",
     "exception": false,
     "start_time": "2021-05-30T09:46:43.303621",
     "status": "completed"
    },
    "tags": []
   },
   "outputs": [
    {
     "data": {
      "image/png": "[encoded data removed]",
      "text/plain": [
       "<Figure size 432x288 with 1 Axes>"
      ]
     },
     "metadata": {
      "needs_background": "light"
     },
     "output_type": "display_data"
    }
   ],
   "source": [
    "plt.scatter(test_x, test_y)\n",
    "plt.show()\n"
   ]
  },
  {
   "cell_type": "markdown",
   "id": "dirty-arena",
   "metadata": {
    "papermill": {
     "duration": 0.02524,
     "end_time": "2021-05-30T09:46:43.584804",
     "exception": false,
     "start_time": "2021-05-30T09:46:43.559564",
     "status": "completed"
    },
    "tags": []
   },
   "source": [
    "# Fit the Data Set\n",
    "\n",
    "What does the data set look like? In my opinion I think the best fit would be a polynomial regression, so let us draw a line of polynomial regression.\n",
    "\n",
    "To draw a line through the data points, we use the plot() method of the matplotlib module:"
   ]
  },
  {
   "cell_type": "code",
   "execution_count": 6,
   "id": "medical-model",
   "metadata": {
    "execution": {
     "iopub.execute_input": "2021-05-30T09:46:43.650858Z",
     "iopub.status.busy": "2021-05-30T09:46:43.643223Z",
     "iopub.status.idle": "2021-05-30T09:46:43.783626Z",
     "shell.execute_reply": "2021-05-30T09:46:43.783082Z",
     "shell.execute_reply.started": "2021-05-30T09:46:20.032848Z"
    },
    "papermill": {
     "duration": 0.179838,
     "end_time": "2021-05-30T09:46:43.783779",
     "exception": false,
     "start_time": "2021-05-30T09:46:43.603941",
     "status": "completed"
    },
    "tags": []
   },
   "outputs": [
    {
     "data": {
      "image/png": "[encoded data removed]",
      "text/plain": [
       "<Figure size 432x288 with 1 Axes>"
      ]
     },
     "metadata": {
      "needs_background": "light"
     },
     "output_type": "display_data"
    }
   ],
   "source": [
    "import numpy\n",
    "import matplotlib.pyplot as plt\n",
    "numpy.random.seed(2)\n",
    "\n",
    "x = numpy.random.normal(3, 1, 100)\n",
    "y = numpy.random.normal(150, 40, 100) / x\n",
    "\n",
    "train_x = x[:80] #0 to 80\n",
    "train_y = y[:80] #0 to 80\n",
    "\n",
    "test_x = x[80:] #0 to 80\n",
    "test_y = y[80:] #0 to 80\n",
    "\n",
    "mymodel = numpy.poly1d(numpy.polyfit(train_x, train_y, 4))\n",
    "\n",
    "myline = numpy.linspace(0, 6, 100)\n",
    "\n",
    "plt.scatter(train_x, train_y)\n",
    "plt.plot(myline, mymodel(myline))\n",
    "plt.show()"
   ]
  },
  {
   "cell_type": "code",
   "execution_count": 7,
   "id": "revised-county",
   "metadata": {
    "execution": {
     "iopub.execute_input": "2021-05-30T09:46:43.826376Z",
     "iopub.status.busy": "2021-05-30T09:46:43.825682Z",
     "iopub.status.idle": "2021-05-30T09:46:43.832639Z",
     "shell.execute_reply": "2021-05-30T09:46:43.833320Z",
     "shell.execute_reply.started": "2021-05-30T09:46:20.160292Z"
    },
    "papermill": {
     "duration": 0.030227,
     "end_time": "2021-05-30T09:46:43.833549",
     "exception": false,
     "start_time": "2021-05-30T09:46:43.803322",
     "status": "completed"
    },
    "tags": []
   },
   "outputs": [
    {
     "name": "stdout",
     "output_type": "stream",
     "text": [
      "       4         3         2\n",
      "5.623 x - 73.68 x + 345.2 x - 698.9 x + 581.9\n"
     ]
    }
   ],
   "source": [
    "print(mymodel)"
   ]
  },
  {
   "cell_type": "markdown",
   "id": "exposed-michigan",
   "metadata": {
    "papermill": {
     "duration": 0.019618,
     "end_time": "2021-05-30T09:46:43.877685",
     "exception": false,
     "start_time": "2021-05-30T09:46:43.858067",
     "status": "completed"
    },
    "tags": []
   },
   "source": [
    "The result can back my suggestion of the data set fitting a polynomial regression, even though it would give us some weird results if we try to predict values outside of the data set. Example: the line indicates that a customer spending 6 minutes in the shop would make a purchase worth 200. That is probably a sign of overfitting.\n",
    "\n",
    "But what about the R-squared score? The R-squared score is a good indicator of how well my data set is fitting the model."
   ]
  },
  {
   "cell_type": "markdown",
   "id": "stone-blood",
   "metadata": {
    "papermill": {
     "duration": 0.019577,
     "end_time": "2021-05-30T09:46:43.917023",
     "exception": false,
     "start_time": "2021-05-30T09:46:43.897446",
     "status": "completed"
    },
    "tags": []
   },
   "source": [
    "# R2\n",
    "\n",
    "Remember R2, also known as R-squared?\n",
    "\n",
    "It measures the relationship between the x axis and the y axis, and the value ranges from 0 to 1, where 0 means no relationship, and 1 means totally related.\n",
    "\n",
    "The sklearn module has a method called r2_score() that will help us find this relationship.\n",
    "\n",
    "In this case we would like to measure the relationship between the minutes a customer stays in the shop and how much money they spend."
   ]
  },
  {
   "cell_type": "code",
   "execution_count": 8,
   "id": "comparative-wrapping",
   "metadata": {
    "execution": {
     "iopub.execute_input": "2021-05-30T09:46:43.965456Z",
     "iopub.status.busy": "2021-05-30T09:46:43.964669Z",
     "iopub.status.idle": "2021-05-30T09:46:44.867835Z",
     "shell.execute_reply": "2021-05-30T09:46:44.868327Z",
     "shell.execute_reply.started": "2021-05-30T09:46:20.166240Z"
    },
    "papermill": {
     "duration": 0.932026,
     "end_time": "2021-05-30T09:46:44.868489",
     "exception": false,
     "start_time": "2021-05-30T09:46:43.936463",
     "status": "completed"
    },
    "tags": []
   },
   "outputs": [
    {
     "name": "stdout",
     "output_type": "stream",
     "text": [
      "0.7988645544629798\n"
     ]
    }
   ],
   "source": [
    "import numpy\n",
    "from sklearn.metrics import r2_score\n",
    "numpy.random.seed(2)\n",
    "\n",
    "x = numpy.random.normal(3, 1, 100)\n",
    "y = numpy.random.normal(150, 40, 100) / x\n",
    "\n",
    "train_x = x[:80]\n",
    "train_y = y[:80]\n",
    "\n",
    "test_x = x[80:]\n",
    "test_y = y[80:]\n",
    "\n",
    "mymodel = numpy.poly1d(numpy.polyfit(train_x, train_y, 4))\n",
    "\n",
    "r2 = r2_score(train_y, mymodel(train_x))\n",
    "\n",
    "print(r2)"
   ]
  },
  {
   "cell_type": "code",
   "execution_count": 9,
   "id": "connected-branch",
   "metadata": {
    "execution": {
     "iopub.execute_input": "2021-05-30T09:46:44.912463Z",
     "iopub.status.busy": "2021-05-30T09:46:44.911493Z",
     "iopub.status.idle": "2021-05-30T09:46:44.917521Z",
     "shell.execute_reply": "2021-05-30T09:46:44.916908Z",
     "shell.execute_reply.started": "2021-05-30T09:46:20.182051Z"
    },
    "papermill": {
     "duration": 0.029052,
     "end_time": "2021-05-30T09:46:44.917655",
     "exception": false,
     "start_time": "2021-05-30T09:46:44.888603",
     "status": "completed"
    },
    "tags": []
   },
   "outputs": [
    {
     "name": "stdout",
     "output_type": "stream",
     "text": [
      "       4         3         2\n",
      "5.623 x - 73.68 x + 345.2 x - 698.9 x + 581.9\n"
     ]
    }
   ],
   "source": [
    "print(mymodel)"
   ]
  },
  {
   "cell_type": "markdown",
   "id": "thrown-premises",
   "metadata": {
    "papermill": {
     "duration": 0.019886,
     "end_time": "2021-05-30T09:46:44.957864",
     "exception": false,
     "start_time": "2021-05-30T09:46:44.937978",
     "status": "completed"
    },
    "tags": []
   },
   "source": [
    "# Bring in the Testing Set\n",
    "\n",
    "Now we have made a model that is OK, at least when it comes to training data.\n",
    "\n",
    "Now we want to test the model with the testing data as well, to see if gives us the same result."
   ]
  },
  {
   "cell_type": "code",
   "execution_count": 10,
   "id": "applicable-making",
   "metadata": {
    "execution": {
     "iopub.execute_input": "2021-05-30T09:46:45.007397Z",
     "iopub.status.busy": "2021-05-30T09:46:45.006636Z",
     "iopub.status.idle": "2021-05-30T09:46:45.010251Z",
     "shell.execute_reply": "2021-05-30T09:46:45.010693Z",
     "shell.execute_reply.started": "2021-05-30T09:46:20.200228Z"
    },
    "papermill": {
     "duration": 0.032691,
     "end_time": "2021-05-30T09:46:45.010875",
     "exception": false,
     "start_time": "2021-05-30T09:46:44.978184",
     "status": "completed"
    },
    "tags": []
   },
   "outputs": [
    {
     "name": "stdout",
     "output_type": "stream",
     "text": [
      "0.8086921460343566\n"
     ]
    }
   ],
   "source": [
    "#Let us find the R2 score when using testing data:\n",
    "\n",
    "import numpy\n",
    "from sklearn.metrics import r2_score\n",
    "numpy.random.seed(2)\n",
    "\n",
    "x = numpy.random.normal(3, 1, 100)\n",
    "y = numpy.random.normal(150, 40, 100) / x\n",
    "\n",
    "train_x = x[:80]\n",
    "train_y = y[:80]\n",
    "\n",
    "test_x = x[80:]\n",
    "test_y = y[80:]\n",
    "\n",
    "mymodel = numpy.poly1d(numpy.polyfit(train_x, train_y, 4))\n",
    "r2 = r2_score(test_y, mymodel(test_x))\n",
    "\n",
    "print(r2)"
   ]
  },
  {
   "cell_type": "markdown",
   "id": "immediate-beverage",
   "metadata": {
    "papermill": {
     "duration": 0.020234,
     "end_time": "2021-05-30T09:46:45.051744",
     "exception": false,
     "start_time": "2021-05-30T09:46:45.031510",
     "status": "completed"
    },
    "tags": []
   },
   "source": [
    "> Note: The result 0.809 shows that the model fits the testing set as well, and we are confident that we can use the model to predict future values.\n",
    "\n"
   ]
  },
  {
   "cell_type": "markdown",
   "id": "silent-capital",
   "metadata": {
    "papermill": {
     "duration": 0.020004,
     "end_time": "2021-05-30T09:46:45.092308",
     "exception": false,
     "start_time": "2021-05-30T09:46:45.072304",
     "status": "completed"
    },
    "tags": []
   },
   "source": [
    "# Predict Values\n",
    "\n",
    "Now that we have established that our model is OK, we can start predicting new values.\n",
    "\n",
    "How much money will a buying customer spend, if she or he stays in the shop for 5 minutes?\n",
    "\n"
   ]
  },
  {
   "cell_type": "code",
   "execution_count": 11,
   "id": "intense-plenty",
   "metadata": {
    "execution": {
     "iopub.execute_input": "2021-05-30T09:46:45.138737Z",
     "iopub.status.busy": "2021-05-30T09:46:45.138032Z",
     "iopub.status.idle": "2021-05-30T09:46:45.140784Z",
     "shell.execute_reply": "2021-05-30T09:46:45.141820Z",
     "shell.execute_reply.started": "2021-05-30T09:46:20.212188Z"
    },
    "papermill": {
     "duration": 0.028728,
     "end_time": "2021-05-30T09:46:45.142069",
     "exception": false,
     "start_time": "2021-05-30T09:46:45.113341",
     "status": "completed"
    },
    "tags": []
   },
   "outputs": [
    {
     "name": "stdout",
     "output_type": "stream",
     "text": [
      "22.87962591811663\n"
     ]
    }
   ],
   "source": [
    "# the customer to spend 22.88 dollars:\n",
    "#myline = 5\n",
    "print(mymodel(5))\n",
    "\n"
   ]
  },
  {
   "cell_type": "markdown",
   "id": "committed-lawrence",
   "metadata": {
    "papermill": {
     "duration": 0.020807,
     "end_time": "2021-05-30T09:46:45.184832",
     "exception": false,
     "start_time": "2021-05-30T09:46:45.164025",
     "status": "completed"
    },
    "tags": []
   },
   "source": [
    "# Predict plot \n",
    "\n",
    "if a customer will stay 5 Minutes on the \n",
    "site how much will spend."
   ]
  },
  {
   "cell_type": "code",
   "execution_count": 12,
   "id": "prime-differential",
   "metadata": {
    "execution": {
     "iopub.execute_input": "2021-05-30T09:46:45.229665Z",
     "iopub.status.busy": "2021-05-30T09:46:45.229058Z",
     "iopub.status.idle": "2021-05-30T09:46:45.378529Z",
     "shell.execute_reply": "2021-05-30T09:46:45.379034Z",
     "shell.execute_reply.started": "2021-05-30T09:46:20.223709Z"
    },
    "papermill": {
     "duration": 0.173489,
     "end_time": "2021-05-30T09:46:45.379200",
     "exception": false,
     "start_time": "2021-05-30T09:46:45.205711",
     "status": "completed"
    },
    "tags": []
   },
   "outputs": [
    {
     "data": {
      "image/png": "[encoded data removed]",
      "text/plain": [
       "<Figure size 432x288 with 1 Axes>"
      ]
     },
     "metadata": {
      "needs_background": "light"
     },
     "output_type": "display_data"
    }
   ],
   "source": [
    "# Predict plot (the yellow line)\n",
    "myline2 = numpy.linspace(0, 5, 100)\n",
    "plt.scatter(train_x, train_y)\n",
    "plt.plot(myline, mymodel(myline))\n",
    "#plt.axhline(mymodel(5), xmin=0, xmax=5, color='y', linestyle='-')\n",
    "plt.hlines(mymodel(5), xmin=0, xmax=5, color='y', linestyle='-')\n",
    "plt.vlines(5, ymin=5, ymax=mymodel(5), color='y', linestyle='-')\n",
    "plt.show()"
   ]
  }
 ],
 "metadata": {
  "kernelspec": {
   "display_name": "Python 3",
   "language": "python",
   "name": "python3"
  },
  "language_info": {
   "codemirror_mode": {
    "name": "ipython",
    "version": 3
   },
   "file_extension": ".py",
   "mimetype": "text/x-python",
   "name": "python",
   "nbconvert_exporter": "python",
   "pygments_lexer": "ipython3",
   "version": "3.7.10"
  },
  "papermill": {
   "default_parameters": {},
   "duration": 11.381567,
   "end_time": "2021-05-30T09:46:46.110987",
   "environment_variables": {},
   "exception": null,
   "input_path": "__notebook__.ipynb",
   "output_path": "__notebook__.ipynb",
   "parameters": {},
   "start_time": "2021-05-30T09:46:34.729420",
   "version": "2.3.3"
  }
 },
 "nbformat": 4,
 "nbformat_minor": 5
}
