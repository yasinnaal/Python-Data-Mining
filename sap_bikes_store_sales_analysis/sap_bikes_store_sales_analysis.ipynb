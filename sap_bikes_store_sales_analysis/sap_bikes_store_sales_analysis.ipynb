{
 "cells": [
  {
   "cell_type": "markdown",
   "metadata": {
    "papermill": {
     "duration": 0.017469,
     "end_time": "2021-05-15T15:21:13.045921",
     "exception": false,
     "start_time": "2021-05-15T15:21:13.028452",
     "status": "completed"
    },
    "tags": []
   },
   "source": [
    "#  SAP bikes store sales analysis\n",
    "* **Dummy sales data (bikes sales)**\n",
    "* **Data warehouse cloud content master**"
   ]
  },
  {
   "cell_type": "code",
   "execution_count": 1,
   "metadata": {
    "_cell_guid": "b1076dfc-b9ad-4769-8c92-a6c4dae69d19",
    "_uuid": "8f2839f25d086af736a60e9eeb907d3b93b6e0e5",
    "execution": {
     "iopub.execute_input": "2021-05-15T15:21:13.115798Z",
     "iopub.status.busy": "2021-05-15T15:21:13.115267Z",
     "iopub.status.idle": "2021-05-15T15:21:13.930909Z",
     "shell.execute_reply": "2021-05-15T15:21:13.930034Z"
    },
    "papermill": {
     "duration": 0.834804,
     "end_time": "2021-05-15T15:21:13.931164",
     "exception": false,
     "start_time": "2021-05-15T15:21:13.096360",
     "status": "completed"
    },
    "tags": []
   },
   "outputs": [
    {
     "output_type": "stream",
     "name": "stdout",
     "text": [
      "setup completed\n"
     ]
    }
   ],
   "source": [
    "import numpy as np # linear algebra\n",
    "import pandas as pd # data processing, CSV file I/O (e.g. pd.read_csv)\n",
    "import matplotlib.pyplot as plt\n",
    "import dateutil\n",
    "import seaborn as sns\n",
    "from copy import deepcopy #  to copy old dataframes appropriately\n",
    "\n",
    "import os\n",
    "\n"
   ]
  },
  {
   "cell_type": "markdown",
   "metadata": {
    "papermill": {
     "duration": 0.016938,
     "end_time": "2021-05-15T15:21:13.967660",
     "exception": false,
     "start_time": "2021-05-15T15:21:13.950722",
     "status": "completed"
    },
    "tags": []
   },
   "source": [
    "# (EDA) Load and explor sales orders data "
   ]
  },
  {
   "cell_type": "code",
   "execution_count": 2,
   "metadata": {
    "execution": {
     "iopub.execute_input": "2021-05-15T15:21:14.006966Z",
     "iopub.status.busy": "2021-05-15T15:21:14.006264Z",
     "iopub.status.idle": "2021-05-15T15:21:14.025866Z",
     "shell.execute_reply": "2021-05-15T15:21:14.024466Z"
    },
    "papermill": {
     "duration": 0.040815,
     "end_time": "2021-05-15T15:21:14.026015",
     "exception": false,
     "start_time": "2021-05-15T15:21:13.985200",
     "status": "completed"
    },
    "tags": []
   },
   "outputs": [],
   "source": [
    "\n",
    "\n",
    "bikes_sales_data = pd.read_csv('SalesOrders.csv')\n"
   ]
  },
  {
   "cell_type": "code",
   "execution_count": 3,
   "metadata": {
    "execution": {
     "iopub.execute_input": "2021-05-15T15:21:14.072429Z",
     "iopub.status.busy": "2021-05-15T15:21:14.071538Z",
     "iopub.status.idle": "2021-05-15T15:21:14.099731Z",
     "shell.execute_reply": "2021-05-15T15:21:14.099278Z"
    },
    "papermill": {
     "duration": 0.056771,
     "end_time": "2021-05-15T15:21:14.099884",
     "exception": false,
     "start_time": "2021-05-15T15:21:14.043113",
     "status": "completed"
    },
    "tags": []
   },
   "outputs": [
    {
     "data": {
      "text/html": [
       "<div>\n",
       "<style scoped>\n",
       "    .dataframe tbody tr th:only-of-type {\n",
       "        vertical-align: middle;\n",
       "    }\n",
       "\n",
       "    .dataframe tbody tr th {\n",
       "        vertical-align: top;\n",
       "    }\n",
       "\n",
       "    .dataframe thead th {\n",
       "        text-align: right;\n",
       "    }\n",
       "</style>\n",
       "<table border=\"1\" class=\"dataframe\">\n",
       "  <thead>\n",
       "    <tr style=\"text-align: right;\">\n",
       "      <th></th>\n",
       "      <th>SALESORDERID</th>\n",
       "      <th>CREATEDBY</th>\n",
       "      <th>CREATEDAT</th>\n",
       "      <th>CHANGEDBY</th>\n",
       "      <th>CHANGEDAT</th>\n",
       "      <th>FISCVARIANT</th>\n",
       "      <th>FISCALYEARPERIOD</th>\n",
       "      <th>NOTEID</th>\n",
       "      <th>PARTNERID</th>\n",
       "      <th>SALESORG</th>\n",
       "      <th>CURRENCY</th>\n",
       "      <th>GROSSAMOUNT</th>\n",
       "      <th>NETAMOUNT</th>\n",
       "      <th>TAXAMOUNT</th>\n",
       "      <th>LIFECYCLESTATUS</th>\n",
       "      <th>BILLINGSTATUS</th>\n",
       "      <th>DELIVERYSTATUS</th>\n",
       "    </tr>\n",
       "  </thead>\n",
       "  <tbody>\n",
       "    <tr>\n",
       "      <th>0</th>\n",
       "      <td>500000000</td>\n",
       "      <td>4</td>\n",
       "      <td>20180111</td>\n",
       "      <td>4</td>\n",
       "      <td>20180116</td>\n",
       "      <td>K4</td>\n",
       "      <td>2018001</td>\n",
       "      <td>NaN</td>\n",
       "      <td>100000022</td>\n",
       "      <td>APJ</td>\n",
       "      <td>USD</td>\n",
       "      <td>13587</td>\n",
       "      <td>11888.625</td>\n",
       "      <td>1698.375</td>\n",
       "      <td>C</td>\n",
       "      <td>C</td>\n",
       "      <td>C</td>\n",
       "    </tr>\n",
       "    <tr>\n",
       "      <th>1</th>\n",
       "      <td>500000001</td>\n",
       "      <td>2</td>\n",
       "      <td>20180112</td>\n",
       "      <td>2</td>\n",
       "      <td>20180115</td>\n",
       "      <td>K4</td>\n",
       "      <td>2018001</td>\n",
       "      <td>NaN</td>\n",
       "      <td>100000026</td>\n",
       "      <td>EMEA</td>\n",
       "      <td>USD</td>\n",
       "      <td>12622</td>\n",
       "      <td>11044.250</td>\n",
       "      <td>1577.750</td>\n",
       "      <td>C</td>\n",
       "      <td>C</td>\n",
       "      <td>C</td>\n",
       "    </tr>\n",
       "    <tr>\n",
       "      <th>2</th>\n",
       "      <td>500000002</td>\n",
       "      <td>5</td>\n",
       "      <td>20180115</td>\n",
       "      <td>5</td>\n",
       "      <td>20180120</td>\n",
       "      <td>K4</td>\n",
       "      <td>2018001</td>\n",
       "      <td>NaN</td>\n",
       "      <td>100000018</td>\n",
       "      <td>APJ</td>\n",
       "      <td>USD</td>\n",
       "      <td>45655</td>\n",
       "      <td>39948.125</td>\n",
       "      <td>5706.875</td>\n",
       "      <td>C</td>\n",
       "      <td>C</td>\n",
       "      <td>C</td>\n",
       "    </tr>\n",
       "    <tr>\n",
       "      <th>3</th>\n",
       "      <td>500000003</td>\n",
       "      <td>3</td>\n",
       "      <td>20180115</td>\n",
       "      <td>3</td>\n",
       "      <td>20180120</td>\n",
       "      <td>K4</td>\n",
       "      <td>2018001</td>\n",
       "      <td>NaN</td>\n",
       "      <td>100000009</td>\n",
       "      <td>EMEA</td>\n",
       "      <td>USD</td>\n",
       "      <td>101786</td>\n",
       "      <td>89062.750</td>\n",
       "      <td>12723.250</td>\n",
       "      <td>C</td>\n",
       "      <td>C</td>\n",
       "      <td>C</td>\n",
       "    </tr>\n",
       "    <tr>\n",
       "      <th>4</th>\n",
       "      <td>500000004</td>\n",
       "      <td>8</td>\n",
       "      <td>20180116</td>\n",
       "      <td>8</td>\n",
       "      <td>20180117</td>\n",
       "      <td>K4</td>\n",
       "      <td>2018001</td>\n",
       "      <td>NaN</td>\n",
       "      <td>100000025</td>\n",
       "      <td>EMEA</td>\n",
       "      <td>USD</td>\n",
       "      <td>71684</td>\n",
       "      <td>62723.500</td>\n",
       "      <td>8960.500</td>\n",
       "      <td>C</td>\n",
       "      <td>C</td>\n",
       "      <td>C</td>\n",
       "    </tr>\n",
       "    <tr>\n",
       "      <th>5</th>\n",
       "      <td>500000005</td>\n",
       "      <td>8</td>\n",
       "      <td>20180116</td>\n",
       "      <td>8</td>\n",
       "      <td>20180119</td>\n",
       "      <td>K4</td>\n",
       "      <td>2018001</td>\n",
       "      <td>NaN</td>\n",
       "      <td>100000008</td>\n",
       "      <td>EMEA</td>\n",
       "      <td>USD</td>\n",
       "      <td>104213</td>\n",
       "      <td>91186.375</td>\n",
       "      <td>13026.625</td>\n",
       "      <td>C</td>\n",
       "      <td>C</td>\n",
       "      <td>C</td>\n",
       "    </tr>\n",
       "    <tr>\n",
       "      <th>6</th>\n",
       "      <td>500000006</td>\n",
       "      <td>3</td>\n",
       "      <td>20180117</td>\n",
       "      <td>3</td>\n",
       "      <td>20180120</td>\n",
       "      <td>K4</td>\n",
       "      <td>2018001</td>\n",
       "      <td>NaN</td>\n",
       "      <td>100000038</td>\n",
       "      <td>EMEA</td>\n",
       "      <td>USD</td>\n",
       "      <td>173987</td>\n",
       "      <td>152238.625</td>\n",
       "      <td>21748.375</td>\n",
       "      <td>C</td>\n",
       "      <td>C</td>\n",
       "      <td>C</td>\n",
       "    </tr>\n",
       "    <tr>\n",
       "      <th>7</th>\n",
       "      <td>500000007</td>\n",
       "      <td>4</td>\n",
       "      <td>20180119</td>\n",
       "      <td>4</td>\n",
       "      <td>20180121</td>\n",
       "      <td>K4</td>\n",
       "      <td>2018001</td>\n",
       "      <td>NaN</td>\n",
       "      <td>100000020</td>\n",
       "      <td>APJ</td>\n",
       "      <td>USD</td>\n",
       "      <td>1398</td>\n",
       "      <td>1223.250</td>\n",
       "      <td>174.750</td>\n",
       "      <td>C</td>\n",
       "      <td>C</td>\n",
       "      <td>C</td>\n",
       "    </tr>\n",
       "    <tr>\n",
       "      <th>8</th>\n",
       "      <td>500000008</td>\n",
       "      <td>3</td>\n",
       "      <td>20180120</td>\n",
       "      <td>3</td>\n",
       "      <td>20180122</td>\n",
       "      <td>K4</td>\n",
       "      <td>2018001</td>\n",
       "      <td>NaN</td>\n",
       "      <td>100000028</td>\n",
       "      <td>EMEA</td>\n",
       "      <td>USD</td>\n",
       "      <td>127803</td>\n",
       "      <td>111827.625</td>\n",
       "      <td>15975.375</td>\n",
       "      <td>C</td>\n",
       "      <td>C</td>\n",
       "      <td>C</td>\n",
       "    </tr>\n",
       "    <tr>\n",
       "      <th>9</th>\n",
       "      <td>500000009</td>\n",
       "      <td>4</td>\n",
       "      <td>20180121</td>\n",
       "      <td>4</td>\n",
       "      <td>20180122</td>\n",
       "      <td>K4</td>\n",
       "      <td>2018001</td>\n",
       "      <td>NaN</td>\n",
       "      <td>100000021</td>\n",
       "      <td>APJ</td>\n",
       "      <td>USD</td>\n",
       "      <td>79101</td>\n",
       "      <td>69213.375</td>\n",
       "      <td>9887.625</td>\n",
       "      <td>C</td>\n",
       "      <td>C</td>\n",
       "      <td>C</td>\n",
       "    </tr>\n",
       "  </tbody>\n",
       "</table>\n",
       "</div>"
      ],
      "text/plain": [
       "   SALESORDERID  CREATEDBY  CREATEDAT  CHANGEDBY  CHANGEDAT FISCVARIANT  \\\n",
       "0     500000000          4   20180111          4   20180116          K4   \n",
       "1     500000001          2   20180112          2   20180115          K4   \n",
       "2     500000002          5   20180115          5   20180120          K4   \n",
       "3     500000003          3   20180115          3   20180120          K4   \n",
       "4     500000004          8   20180116          8   20180117          K4   \n",
       "5     500000005          8   20180116          8   20180119          K4   \n",
       "6     500000006          3   20180117          3   20180120          K4   \n",
       "7     500000007          4   20180119          4   20180121          K4   \n",
       "8     500000008          3   20180120          3   20180122          K4   \n",
       "9     500000009          4   20180121          4   20180122          K4   \n",
       "\n",
       "   FISCALYEARPERIOD  NOTEID  PARTNERID SALESORG CURRENCY  GROSSAMOUNT  \\\n",
       "0           2018001     NaN  100000022      APJ      USD        13587   \n",
       "1           2018001     NaN  100000026     EMEA      USD        12622   \n",
       "2           2018001     NaN  100000018      APJ      USD        45655   \n",
       "3           2018001     NaN  100000009     EMEA      USD       101786   \n",
       "4           2018001     NaN  100000025     EMEA      USD        71684   \n",
       "5           2018001     NaN  100000008     EMEA      USD       104213   \n",
       "6           2018001     NaN  100000038     EMEA      USD       173987   \n",
       "7           2018001     NaN  100000020      APJ      USD         1398   \n",
       "8           2018001     NaN  100000028     EMEA      USD       127803   \n",
       "9           2018001     NaN  100000021      APJ      USD        79101   \n",
       "\n",
       "    NETAMOUNT  TAXAMOUNT LIFECYCLESTATUS BILLINGSTATUS DELIVERYSTATUS  \n",
       "0   11888.625   1698.375               C             C              C  \n",
       "1   11044.250   1577.750               C             C              C  \n",
       "2   39948.125   5706.875               C             C              C  \n",
       "3   89062.750  12723.250               C             C              C  \n",
       "4   62723.500   8960.500               C             C              C  \n",
       "5   91186.375  13026.625               C             C              C  \n",
       "6  152238.625  21748.375               C             C              C  \n",
       "7    1223.250    174.750               C             C              C  \n",
       "8  111827.625  15975.375               C             C              C  \n",
       "9   69213.375   9887.625               C             C              C  "
      ]
     },
     "execution_count": 3,
     "metadata": {},
     "output_type": "execute_result"
    }
   ],
   "source": [
    "#Display first 10 rows\n",
    "bikes_sales_data.head(10)"
   ]
  },
  {
   "cell_type": "code",
   "execution_count": 4,
   "metadata": {
    "execution": {
     "iopub.execute_input": "2021-05-15T15:21:14.141327Z",
     "iopub.status.busy": "2021-05-15T15:21:14.140382Z",
     "iopub.status.idle": "2021-05-15T15:21:14.144508Z",
     "shell.execute_reply": "2021-05-15T15:21:14.144055Z"
    },
    "papermill": {
     "duration": 0.02618,
     "end_time": "2021-05-15T15:21:14.144641",
     "exception": false,
     "start_time": "2021-05-15T15:21:14.118461",
     "status": "completed"
    },
    "tags": []
   },
   "outputs": [
    {
     "data": {
      "text/plain": [
       "(334, 17)"
      ]
     },
     "execution_count": 4,
     "metadata": {},
     "output_type": "execute_result"
    }
   ],
   "source": [
    "#Display total number of (rows, cols) using shape\n",
   ]
   "source": [
    "##Display total number of (rows, cols) using shape\n",
    "bikes_sales_data.shape"
   ]
  },
  {
   "cell_type": "markdown",
   "metadata": {
    "papermill": {
     "duration": 0.017634,
     "end_time": "2021-05-15T15:21:14.180373",
     "exception": false,
     "start_time": "2021-05-15T15:21:14.162739",
     "status": "completed"
    },
    "tags": []
   },
   "source": [
    "# Data Cleaning\n",
    "Find the null values"
   ]
  },
  {
   "cell_type": "code",
   "execution_count": 5,
   "metadata": {
    "execution": {
     "iopub.execute_input": "2021-05-15T15:21:14.224071Z",
     "iopub.status.busy": "2021-05-15T15:21:14.223523Z",
     "iopub.status.idle": "2021-05-15T15:21:14.227696Z",
     "shell.execute_reply": "2021-05-15T15:21:14.227270Z"
    },
    "papermill": {
     "duration": 0.02927,
     "end_time": "2021-05-15T15:21:14.227842",
     "exception": false,
     "start_time": "2021-05-15T15:21:14.198572",
     "status": "completed"
    },
    "tags": []
   },
   "outputs": [
    {
     "data": {
      "text/plain": [
       "SALESORDERID          0\n",
       "CREATEDBY             0\n",
       "CREATEDAT             0\n",
       "CHANGEDBY             0\n",
       "CHANGEDAT             0\n",
       "FISCVARIANT           0\n",
       "FISCALYEARPERIOD      0\n",
       "NOTEID              334\n",
       "PARTNERID             0\n",
       "SALESORG              0\n",
       "CURRENCY              0\n",
       "GROSSAMOUNT           0\n",
       "NETAMOUNT             0\n",
       "TAXAMOUNT             0\n",
       "LIFECYCLESTATUS       0\n",
       "BILLINGSTATUS         0\n",
       "DELIVERYSTATUS        0\n",
       "dtype: int64"
      ]
     },
     "execution_count": 5,
     "metadata": {},
     "output_type": "execute_result"
    }
   ],
   "source": [
    "# use isnull() to get the null values\n",
    "null_values = bikes_sales_data.isnull().sum()\n",
    "null_values\n"
   ]
  },
  {
   "cell_type": "code",
   "execution_count": 6,
   "metadata": {
    "execution": {
     "iopub.execute_input": "2021-05-15T15:21:14.269597Z",
     "iopub.status.busy": "2021-05-15T15:21:14.269058Z",
     "iopub.status.idle": "2021-05-15T15:21:14.272413Z",
     "shell.execute_reply": "2021-05-15T15:21:14.271966Z"
    },
    "papermill": {
     "duration": 0.026462,
     "end_time": "2021-05-15T15:21:14.272538",
     "exception": false,
     "start_time": "2021-05-15T15:21:14.246076",
     "status": "completed"
    },
    "tags": []
   },
   "outputs": [
    {
     "name": "stdout",
     "output_type": "stream",
     "text": [
      "Total cells in data set: 5678 Total of Null values: 334 percent missing: 5.88235294117647\n"
     ]
    }
   ],
   "source": [
    "# how many total missing values do we have?\n",
    "total_cells = np.product(bikes_sales_data.shape)\n",
    "total_missing = null_values.sum()\n",
    "\n",
    "# percent of data that is missing\n",
    "percent_missing = (total_missing/total_cells) * 100\n",
    "\n",
    "print(\"Total cells in data set: \" + str(total_cells),\n",
    "      \"Total of Null values: \" +\n",
    "      str(total_missing), \"percent missing: \" +\n",
    "      str(percent_missing))\n"
   ]
  },
  {
   "cell_type": "markdown",
   "metadata": {
    "papermill": {
     "duration": 0.018377,
     "end_time": "2021-05-15T15:21:14.309657",
     "exception": false,
     "start_time": "2021-05-15T15:21:14.291280",
     "status": "completed"
    },
    "tags": []
   },
   "source": [
    "* **NOTEID filed is empty with no data which means all valus are null.**\n",
    "* **Kaggl Advise: waht is null keep it null... it is not important**"
   ]
  },
  {
   "cell_type": "code",
   "execution_count": 7,
   "metadata": {
    "execution": {
     "iopub.execute_input": "2021-05-15T15:21:14.352227Z",
     "iopub.status.busy": "2021-05-15T15:21:14.351395Z",
     "iopub.status.idle": "2021-05-15T15:21:14.354361Z",
     "shell.execute_reply": "2021-05-15T15:21:14.353917Z"
    },
    "papermill": {
     "duration": 0.026287,
     "end_time": "2021-05-15T15:21:14.354483",
     "exception": false,
     "start_time": "2021-05-15T15:21:14.328196",
     "status": "completed"
    },
    "tags": []
   },
   "outputs": [],
   "source": [
    "#Drop NOTEID column \n",
    "bikes_sales_data = bikes_sales_data.drop(['NOTEID'], axis = 1)\n"
   ]
  },
  {
   "cell_type": "code",
   "execution_count": 8,
   "metadata": {
    "execution": {
     "iopub.execute_input": "2021-05-15T15:21:14.398937Z",
     "iopub.status.busy": "2021-05-15T15:21:14.398139Z",
     "iopub.status.idle": "2021-05-15T15:21:14.401101Z",
     "shell.execute_reply": "2021-05-15T15:21:14.401688Z"
    },
    "papermill": {
     "duration": 0.028707,
     "end_time": "2021-05-15T15:21:14.401916",
     "exception": false,
     "start_time": "2021-05-15T15:21:14.373209",
     "status": "completed"
    },
    "tags": []
   },
   "outputs": [
    {
     "name": "stdout",
     "output_type": "stream",
     "text": [
      "SALESORDERID        0\n",
      "CREATEDBY           0\n",
      "CREATEDAT           0\n",
      "CHANGEDBY           0\n",
      "CHANGEDAT           0\n",
      "FISCVARIANT         0\n",
      "FISCALYEARPERIOD    0\n",
      "PARTNERID           0\n",
      "SALESORG            0\n",
      "CURRENCY            0\n",
      "GROSSAMOUNT         0\n",
      "NETAMOUNT           0\n",
      "TAXAMOUNT           0\n",
      "LIFECYCLESTATUS     0\n",
      "BILLINGSTATUS       0\n",
      "DELIVERYSTATUS      0\n",
      "dtype: int64\n"
     ]
    }
   ],
   "source": [
    "# double check if there is any null values after droping NOTEID col\n",
    "print(bikes_sales_data.isnull().sum())"
   ]
  },
  {
   "cell_type": "markdown",
   "metadata": {
    "papermill": {
     "duration": 0.018733,
     "end_time": "2021-05-15T15:21:14.441017",
     "exception": false,
     "start_time": "2021-05-15T15:21:14.422284",
     "status": "completed"
    },
    "tags": []
   },
   "source": [
    "# Group sales records per sales Orgnization\n",
    "\n"
   ]
  },
  {
   "cell_type": "code",
   "execution_count": 9,
   "metadata": {
    "execution": {
     "iopub.execute_input": "2021-05-15T15:21:14.484968Z",
     "iopub.status.busy": "2021-05-15T15:21:14.484228Z",
     "iopub.status.idle": "2021-05-15T15:21:14.487270Z",
     "shell.execute_reply": "2021-05-15T15:21:14.486840Z"
    },
    "papermill": {
     "duration": 0.027402,
     "end_time": "2021-05-15T15:21:14.487390",
     "exception": false,
     "start_time": "2021-05-15T15:21:14.459988",
     "status": "completed"
    },
    "tags": []
   },
   "outputs": [],
   "source": [
    "# declear paython function\n",
    "\n",
    "def bar_plot(variable):\n",
    "    \"\"\"\n",
    "        input: variable e.g. SALES ORG\n",
    "        output: bar plot & value count\n",
    "    \"\"\"\n",
    "    # get feature\n",
    "    var = bikes_sales_data[variable]\n",
    "    #count numer of categorical variable(value/sample)\n",
    "    varValue = var.value_counts()\n",
    "    \n",
    "    #visualize\n",
    "    plt.figure(figsize=(9,3))\n",
    "    plt.bar(varValue.index,varValue)\n",
    "    plt.xticks(varValue.index, varValue.index.values)\n",
    "    plt.ylabel(\"Frequency\")\n",
    "    plt.title(variable)\n",
    "    plt.show()\n",
    "    print(\"{}: \\n {}\".format(variable,varValue))"
   ]
  },
  {
   "cell_type": "markdown",
   "metadata": {
    "papermill": {
     "duration": 0.018618,
     "end_time": "2021-05-15T15:21:14.524968",
     "exception": false,
     "start_time": "2021-05-15T15:21:14.506350",
     "status": "completed"
    },
    "tags": []
   },
   "source": [
    "Create Sales Org Category"
   ]
  },
  {
   "cell_type": "code",
   "execution_count": 10,
   "metadata": {
    "execution": {
     "iopub.execute_input": "2021-05-15T15:21:14.603838Z",
     "iopub.status.busy": "2021-05-15T15:21:14.603107Z",
     "iopub.status.idle": "2021-05-15T15:21:14.697695Z",
     "shell.execute_reply": "2021-05-15T15:21:14.698397Z"
    },
    "papermill": {
     "duration": 0.154877,
     "end_time": "2021-05-15T15:21:14.698636",
     "exception": false,
     "start_time": "2021-05-15T15:21:14.543759",
     "status": "completed"
    },
    "tags": []
   },
   "outputs": [
    {
     "data": {
      "image/png": "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\n",
      "text/plain": [
       "<Figure size 648x216 with 1 Axes>"
      ]
     },
     "metadata": {
      "needs_background": "light"
     },
     "output_type": "display_data"
    },
    {
     "name": "stdout",
     "output_type": "stream",
     "text": [
      "SALESORG: \n",
      " EMEA    151\n",
      "AMER     95\n",
      "APJ      88\n",
      "Name: SALESORG, dtype: int64\n"
     ]
    }
   ],
   "source": [
    "SALESORG_CATEGORY= [\"SALESORG\"]\n",
    "for cat in SALESORG_CATEGORY:\n",
    "    bar_plot(cat)"
   ]
  },
  {
   "cell_type": "markdown",
   "metadata": {
    "papermill": {
     "duration": 0.019633,
     "end_time": "2021-05-15T15:21:14.739676",
     "exception": false,
     "start_time": "2021-05-15T15:21:14.720043",
     "status": "completed"
    },
    "tags": []
   },
   "source": [
    "EMA Sales Orgnization is having more sales transactions than other sales org."
   ]
  },
  {
   "cell_type": "markdown",
   "metadata": {
    "papermill": {
     "duration": 0.019436,
     "end_time": "2021-05-15T15:21:14.778853",
     "exception": false,
     "start_time": "2021-05-15T15:21:14.759417",
     "status": "completed"
    },
    "tags": []
   },
   "source": [
    "# Sales Per Sales Org."
   ]
  },
  {
   "cell_type": "code",
   "execution_count": 11,
   "metadata": {
    "execution": {
     "iopub.execute_input": "2021-05-15T15:21:14.824282Z",
     "iopub.status.busy": "2021-05-15T15:21:14.823707Z",
     "iopub.status.idle": "2021-05-15T15:21:14.830201Z",
     "shell.execute_reply": "2021-05-15T15:21:14.829674Z"
    },
    "papermill": {
     "duration": 0.031727,
     "end_time": "2021-05-15T15:21:14.830337",
     "exception": false,
     "start_time": "2021-05-15T15:21:14.798610",
     "status": "completed"
    },
    "tags": []
   },
   "outputs": [
    {
     "name": "stdout",
     "output_type": "stream",
     "text": [
      "SALESORG\n",
      "AMER    5068454.125\n",
      "APJ     4908415.750\n",
      "EMEA    7902772.500\n",
      "Name: NETAMOUNT, dtype: float64\n"
     ]
    }
   ],
   "source": [
    "\n",
    "sorg_total_sales = bikes_sales_data.groupby('SALESORG')['NETAMOUNT'].sum()\n",
    "print(sorg_total_sales)\n"
   ]
  },
  {
   "cell_type": "markdown",
   "metadata": {
    "papermill": {
     "duration": 0.01993,
     "end_time": "2021-05-15T15:21:14.870612",
     "exception": false,
     "start_time": "2021-05-15T15:21:14.850682",
     "status": "completed"
    },
    "tags": []
   },
   "source": [
    "**another way for dispaly .**"
   ]
  },
  {
   "cell_type": "code",
   "execution_count": 12,
   "metadata": {
    "execution": {
     "iopub.execute_input": "2021-05-15T15:21:14.922288Z",
     "iopub.status.busy": "2021-05-15T15:21:14.921715Z",
     "iopub.status.idle": "2021-05-15T15:21:14.925143Z",
     "shell.execute_reply": "2021-05-15T15:21:14.925510Z"
    },
    "papermill": {
     "duration": 0.034667,
     "end_time": "2021-05-15T15:21:14.925665",
     "exception": false,
     "start_time": "2021-05-15T15:21:14.890998",
     "status": "completed"
    },
    "tags": []
   },
   "outputs": [
    {
     "data": {
      "text/html": [
       "<div>\n",
       "<style scoped>\n",
       "    .dataframe tbody tr th:only-of-type {\n",
       "        vertical-align: middle;\n",
       "    }\n",
       "\n",
       "    .dataframe tbody tr th {\n",
       "        vertical-align: top;\n",
       "    }\n",
       "\n",
       "    .dataframe thead th {\n",
       "        text-align: right;\n",
       "    }\n",
       "</style>\n",
       "<table border=\"1\" class=\"dataframe\">\n",
       "  <thead>\n",
       "    <tr style=\"text-align: right;\">\n",
       "      <th></th>\n",
       "      <th>NETAMOUNT</th>\n",
       "    </tr>\n",
       "    <tr>\n",
       "      <th>SALESORG</th>\n",
       "      <th></th>\n",
       "    </tr>\n",
       "  </thead>\n",
       "  <tbody>\n",
       "    <tr>\n",
       "      <th>AMER</th>\n",
       "      <td>5068454.125</td>\n",
       "    </tr>\n",
       "    <tr>\n",
       "      <th>APJ</th>\n",
       "      <td>4908415.750</td>\n",
       "    </tr>\n",
       "    <tr>\n",
       "      <th>EMEA</th>\n",
       "      <td>7902772.500</td>\n",
       "    </tr>\n",
       "  </tbody>\n",
       "</table>\n",
       "</div>"
      ],
      "text/plain": [
       "            NETAMOUNT\n",
       "SALESORG             \n",
       "AMER      5068454.125\n",
       "APJ       4908415.750\n",
       "EMEA      7902772.500"
      ]
     },
     "execution_count": 12,
     "metadata": {},
     "output_type": "execute_result"
    }
   ],
   "source": [
    "bikes_sales_data[['SALESORG','NETAMOUNT']].groupby('SALESORG').sum()"
   ]
  },
  {
   "cell_type": "code",
   "execution_count": 13,
   "metadata": {
    "execution": {
     "iopub.execute_input": "2021-05-15T15:21:14.984116Z",
     "iopub.status.busy": "2021-05-15T15:21:14.978748Z",
     "iopub.status.idle": "2021-05-15T15:21:15.107102Z",
     "shell.execute_reply": "2021-05-15T15:21:15.106509Z"
    },
    "papermill": {
     "duration": 0.160695,
     "end_time": "2021-05-15T15:21:15.107233",
     "exception": false,
     "start_time": "2021-05-15T15:21:14.946538",
     "status": "completed"
    },
    "tags": []
   },
   "outputs": [
    {
     "data": {
      "text/plain": [
       "<AxesSubplot:title={'center':'Sales Total Per Sales Org.'}, xlabel='SALESORG'>"
      ]
     },
     "execution_count": 13,
     "metadata": {},
     "output_type": "execute_result"
    },
    {
     "data": {
      "image/png": "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\n",
      "text/plain": [
       "<Figure size 288x288 with 1 Axes>"
      ]
     },
     "metadata": {
      "needs_background": "light"
     },
     "output_type": "display_data"
    }
   ],
   "source": [
    "plt.figure(figsize=(4, 4)) # you can remove this line chart will be bigger \n",
    "plt.title('Sales Total Per Sales Org.')\n",
    "sorg_total_sales.plot(kind='bar')"
   ]
  },
  {
   "cell_type": "markdown",
   "metadata": {
    "papermill": {
     "duration": 0.021357,
     "end_time": "2021-05-15T15:21:15.150974",
     "exception": false,
     "start_time": "2021-05-15T15:21:15.129617",
     "status": "completed"
    },
    "tags": []
   },
   "source": [
    "# Pie Chart"
   ]
  },
  {
   "cell_type": "code",
   "execution_count": 14,
   "metadata": {
    "execution": {
     "iopub.execute_input": "2021-05-15T15:21:15.199172Z",
     "iopub.status.busy": "2021-05-15T15:21:15.198340Z",
     "iopub.status.idle": "2021-05-15T15:21:15.368775Z",
     "shell.execute_reply": "2021-05-15T15:21:15.368351Z"
    },
    "papermill": {
     "duration": 0.196406,
     "end_time": "2021-05-15T15:21:15.368919",
     "exception": false,
     "start_time": "2021-05-15T15:21:15.172513",
     "status": "completed"
    },
    "tags": []
   },
   "outputs": [
    {
     "data": {
      "text/plain": [
       "<AxesSubplot:ylabel='NETAMOUNT'>"
      ]
     },
     "execution_count": 14,
     "metadata": {},
     "output_type": "execute_result"
    },
    {
     "data": {
      "image/png": "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\n",
      "text/plain": [
       "<Figure size 432x288 with 1 Axes>"
      ]
     },
     "metadata": {},
     "output_type": "display_data"
    }
   ],
   "source": [
    "#sorg_total_sales.plot(kind='pie')\n",
    "#sorg_total_sales.plot.pie()\n",
    "sorg_total_sales.plot.pie(autopct='%1.1f%%')"
   ]
  },
  {
   "cell_type": "markdown",
   "metadata": {
    "papermill": {
     "duration": 0.022177,
     "end_time": "2021-05-15T15:21:15.413653",
     "exception": false,
     "start_time": "2021-05-15T15:21:15.391476",
     "status": "completed"
    },
    "tags": []
   },
   "source": [
    "44.2% of sales are coming from EMEA"
   ]
  },
  {
   "cell_type": "markdown",
   "metadata": {
    "papermill": {
     "duration": 0.022003,
     "end_time": "2021-05-15T15:21:15.458113",
     "exception": false,
     "start_time": "2021-05-15T15:21:15.436110",
     "status": "completed"
    },
    "tags": []
   },
   "source": [
    "**Sort data by TOP sales org | **TOP sales value****"
   ]
  },
  {
   "cell_type": "code",
   "execution_count": 15,
   "metadata": {
    "execution": {
     "iopub.execute_input": "2021-05-15T15:21:15.513440Z",
     "iopub.status.busy": "2021-05-15T15:21:15.512776Z",
     "iopub.status.idle": "2021-05-15T15:21:15.515410Z",
     "shell.execute_reply": "2021-05-15T15:21:15.515906Z"
    },
    "papermill": {
     "duration": 0.035468,
     "end_time": "2021-05-15T15:21:15.516065",
     "exception": false,
     "start_time": "2021-05-15T15:21:15.480597",
     "status": "completed"
    },
    "tags": []
   },
   "outputs": [
    {
     "data": {
      "text/html": [
       "<div>\n",
       "<style scoped>\n",
       "    .dataframe tbody tr th:only-of-type {\n",
       "        vertical-align: middle;\n",
       "    }\n",
       "\n",
       "    .dataframe tbody tr th {\n",
       "        vertical-align: top;\n",
       "    }\n",
       "\n",
       "    .dataframe thead th {\n",
       "        text-align: right;\n",
       "    }\n",
       "</style>\n",
       "<table border=\"1\" class=\"dataframe\">\n",
       "  <thead>\n",
       "    <tr style=\"text-align: right;\">\n",
       "      <th></th>\n",
       "      <th>SALESORG</th>\n",
       "      <th>NETAMOUNT</th>\n",
       "    </tr>\n",
       "  </thead>\n",
       "  <tbody>\n",
       "    <tr>\n",
       "      <th>2</th>\n",
       "      <td>EMEA</td>\n",
       "      <td>7902772.500</td>\n",
       "    </tr>\n",
       "    <tr>\n",
       "      <th>0</th>\n",
       "      <td>AMER</td>\n",
       "      <td>5068454.125</td>\n",
       "    </tr>\n",
       "    <tr>\n",
       "      <th>1</th>\n",
       "      <td>APJ</td>\n",
       "      <td>4908415.750</td>\n",
       "    </tr>\n",
       "  </tbody>\n",
       "</table>\n",
       "</div>"
      ],
      "text/plain": [
       "  SALESORG    NETAMOUNT\n",
       "2     EMEA  7902772.500\n",
       "0     AMER  5068454.125\n",
       "1      APJ  4908415.750"
      ]
     },
     "execution_count": 15,
     "metadata": {},
     "output_type": "execute_result"
    }
   ],
   "source": [
    "sorg_total_sales = sorg_total_sales.reset_index()\n",
    "sorg_total_sales.sort_values(by='NETAMOUNT', ascending=False)\n"
   ]
  },
  {
   "cell_type": "markdown",
   "metadata": {
    "papermill": {
     "duration": 0.02805,
     "end_time": "2021-05-15T15:21:15.566985",
     "exception": false,
     "start_time": "2021-05-15T15:21:15.538935",
     "status": "completed"
    },
    "tags": []
   },
   "source": [
    "**Conclusion:** EMEA Sales Orgnization is the best sales org. (value + transactions)"
   ]
  },
  {
   "cell_type": "markdown",
   "metadata": {
    "papermill": {
     "duration": 0.02222,
     "end_time": "2021-05-15T15:21:15.612202",
     "exception": false,
     "start_time": "2021-05-15T15:21:15.589982",
     "status": "completed"
    },
    "tags": []
   },
   "source": [
    "# Sales Total Per Year."
   ]
  },
  {
   "cell_type": "code",
   "execution_count": 16,
   "metadata": {
    "execution": {
     "iopub.execute_input": "2021-05-15T15:21:15.660102Z",
     "iopub.status.busy": "2021-05-15T15:21:15.659552Z",
     "iopub.status.idle": "2021-05-15T15:21:15.668210Z",
     "shell.execute_reply": "2021-05-15T15:21:15.667769Z"
    },
    "papermill": {
     "duration": 0.033386,
     "end_time": "2021-05-15T15:21:15.668343",
     "exception": false,
     "start_time": "2021-05-15T15:21:15.634957",
     "status": "completed"
    },
    "tags": []
   },
   "outputs": [],
   "source": [
    "year_total_sales = bikes_sales_data[['CREATEDAT','NETAMOUNT']].groupby('CREATEDAT').sum()\n"
   ]
  },
  {
   "cell_type": "code",
   "execution_count": 17,
   "metadata": {
    "execution": {
     "iopub.execute_input": "2021-05-15T15:21:15.716292Z",
     "iopub.status.busy": "2021-05-15T15:21:15.715700Z",
     "iopub.status.idle": "2021-05-15T15:21:15.725669Z",
     "shell.execute_reply": "2021-05-15T15:21:15.725229Z"
    },
    "papermill": {
     "duration": 0.034824,
     "end_time": "2021-05-15T15:21:15.725789",
     "exception": false,
     "start_time": "2021-05-15T15:21:15.690965",
     "status": "completed"
    },
    "tags": []
   },
   "outputs": [
    {
     "data": {
      "text/html": [
       "<div>\n",
       "<style scoped>\n",
       "    .dataframe tbody tr th:only-of-type {\n",
       "        vertical-align: middle;\n",
       "    }\n",
       "\n",
       "    .dataframe tbody tr th {\n",
       "        vertical-align: top;\n",
       "    }\n",
       "\n",
       "    .dataframe thead th {\n",
       "        text-align: right;\n",
       "    }\n",
       "</style>\n",
       "<table border=\"1\" class=\"dataframe\">\n",
       "  <thead>\n",
       "    <tr style=\"text-align: right;\">\n",
       "      <th></th>\n",
       "      <th>NETAMOUNT</th>\n",
       "    </tr>\n",
       "    <tr>\n",
       "      <th>CREATEDAT</th>\n",
       "      <th></th>\n",
       "    </tr>\n",
       "  </thead>\n",
       "  <tbody>\n",
       "    <tr>\n",
       "      <th>20180111</th>\n",
       "      <td>11888.625</td>\n",
       "    </tr>\n",
       "    <tr>\n",
       "      <th>20180112</th>\n",
       "      <td>11044.250</td>\n",
       "    </tr>\n",
       "    <tr>\n",
       "      <th>20180115</th>\n",
       "      <td>129010.875</td>\n",
       "    </tr>\n",
       "    <tr>\n",
       "      <th>20180116</th>\n",
       "      <td>153909.875</td>\n",
       "    </tr>\n",
       "    <tr>\n",
       "      <th>20180117</th>\n",
       "      <td>152238.625</td>\n",
       "    </tr>\n",
       "    <tr>\n",
       "      <th>...</th>\n",
       "      <td>...</td>\n",
       "    </tr>\n",
       "    <tr>\n",
       "      <th>20190618</th>\n",
       "      <td>9639.000</td>\n",
       "    </tr>\n",
       "    <tr>\n",
       "      <th>20190619</th>\n",
       "      <td>79293.375</td>\n",
       "    </tr>\n",
       "    <tr>\n",
       "      <th>20190622</th>\n",
       "      <td>99637.125</td>\n",
       "    </tr>\n",
       "    <tr>\n",
       "      <th>20190625</th>\n",
       "      <td>11106.375</td>\n",
       "    </tr>\n",
       "    <tr>\n",
       "      <th>20190627</th>\n",
       "      <td>76216.000</td>\n",
       "    </tr>\n",
       "  </tbody>\n",
       "</table>\n",
       "<p>264 rows × 1 columns</p>\n",
       "</div>"
      ],
      "text/plain": [
       "            NETAMOUNT\n",
       "CREATEDAT            \n",
       "20180111    11888.625\n",
       "20180112    11044.250\n",
       "20180115   129010.875\n",
       "20180116   153909.875\n",
       "20180117   152238.625\n",
       "...               ...\n",
       "20190618     9639.000\n",
       "20190619    79293.375\n",
       "20190622    99637.125\n",
       "20190625    11106.375\n",
       "20190627    76216.000\n",
       "\n",
       "[264 rows x 1 columns]"
      ]
     },
     "execution_count": 17,
     "metadata": {},
     "output_type": "execute_result"
    }
   ],
   "source": [
    "year_total_sales"
   ]
  },
  {
   "cell_type": "code",
   "execution_count": 18,
   "metadata": {
    "execution": {
     "iopub.execute_input": "2021-05-15T15:21:15.777088Z",
     "iopub.status.busy": "2021-05-15T15:21:15.776530Z",
     "iopub.status.idle": "2021-05-15T15:21:15.779254Z",
     "shell.execute_reply": "2021-05-15T15:21:15.778801Z"
    },
    "papermill": {
     "duration": 0.030387,
     "end_time": "2021-05-15T15:21:15.779384",
     "exception": false,
     "start_time": "2021-05-15T15:21:15.748997",
     "status": "completed"
    },
    "tags": []
   },
   "outputs": [],
   "source": [
    "#Remove index\n",
    "year_total_sales_no_index = bikes_sales_data[['CREATEDAT','NETAMOUNT']]"
   ]
  },
  {
   "cell_type": "code",
   "execution_count": 19,
   "metadata": {
    "execution": {
     "iopub.execute_input": "2021-05-15T15:21:15.829077Z",
     "iopub.status.busy": "2021-05-15T15:21:15.828525Z",
     "iopub.status.idle": "2021-05-15T15:21:15.837670Z",
     "shell.execute_reply": "2021-05-15T15:21:15.838115Z"
    },
    "papermill": {
     "duration": 0.035534,
     "end_time": "2021-05-15T15:21:15.838272",
     "exception": false,
     "start_time": "2021-05-15T15:21:15.802738",
     "status": "completed"
    },
    "tags": []
   },
   "outputs": [
    {
     "data": {
      "text/html": [
       "<div>\n",
       "<style scoped>\n",
       "    .dataframe tbody tr th:only-of-type {\n",
       "        vertical-align: middle;\n",
       "    }\n",
       "\n",
       "    .dataframe tbody tr th {\n",
       "        vertical-align: top;\n",
       "    }\n",
       "\n",
       "    .dataframe thead th {\n",
       "        text-align: right;\n",
       "    }\n",
       "</style>\n",
       "<table border=\"1\" class=\"dataframe\">\n",
       "  <thead>\n",
       "    <tr style=\"text-align: right;\">\n",
       "      <th></th>\n",
       "      <th>CREATEDAT</th>\n",
       "      <th>NETAMOUNT</th>\n",
       "    </tr>\n",
       "  </thead>\n",
       "  <tbody>\n",
       "    <tr>\n",
       "      <th>0</th>\n",
       "      <td>20180111</td>\n",
       "      <td>11888.625</td>\n",
       "    </tr>\n",
       "    <tr>\n",
       "      <th>1</th>\n",
       "      <td>20180112</td>\n",
       "      <td>11044.250</td>\n",
       "    </tr>\n",
       "    <tr>\n",
       "      <th>2</th>\n",
       "      <td>20180115</td>\n",
       "      <td>39948.125</td>\n",
       "    </tr>\n",
       "    <tr>\n",
       "      <th>3</th>\n",
       "      <td>20180115</td>\n",
       "      <td>89062.750</td>\n",
       "    </tr>\n",
       "    <tr>\n",
       "      <th>4</th>\n",
       "      <td>20180116</td>\n",
       "      <td>62723.500</td>\n",
       "    </tr>\n",
       "    <tr>\n",
       "      <th>...</th>\n",
       "      <td>...</td>\n",
       "      <td>...</td>\n",
       "    </tr>\n",
       "    <tr>\n",
       "      <th>329</th>\n",
       "      <td>20190619</td>\n",
       "      <td>79293.375</td>\n",
       "    </tr>\n",
       "    <tr>\n",
       "      <th>330</th>\n",
       "      <td>20190622</td>\n",
       "      <td>99637.125</td>\n",
       "    </tr>\n",
       "    <tr>\n",
       "      <th>331</th>\n",
       "      <td>20190625</td>\n",
       "      <td>11106.375</td>\n",
       "    </tr>\n",
       "    <tr>\n",
       "      <th>332</th>\n",
       "      <td>20190627</td>\n",
       "      <td>61712.000</td>\n",
       "    </tr>\n",
       "    <tr>\n",
       "      <th>333</th>\n",
       "      <td>20190627</td>\n",
       "      <td>14504.000</td>\n",
       "    </tr>\n",
       "  </tbody>\n",
       "</table>\n",
       "<p>334 rows × 2 columns</p>\n",
       "</div>"
      ],
      "text/plain": [
       "     CREATEDAT  NETAMOUNT\n",
       "0     20180111  11888.625\n",
       "1     20180112  11044.250\n",
       "2     20180115  39948.125\n",
       "3     20180115  89062.750\n",
       "4     20180116  62723.500\n",
       "..         ...        ...\n",
       "329   20190619  79293.375\n",
       "330   20190622  99637.125\n",
       "331   20190625  11106.375\n",
       "332   20190627  61712.000\n",
       "333   20190627  14504.000\n",
       "\n",
       "[334 rows x 2 columns]"
      ]
     },
     "execution_count": 19,
     "metadata": {},
     "output_type": "execute_result"
    }
   ],
   "source": [
    "year_total_sales_no_index"
   ]
  },
  {
   "cell_type": "markdown",
   "metadata": {
    "papermill": {
     "duration": 0.023884,
     "end_time": "2021-05-15T15:21:15.886155",
     "exception": false,
     "start_time": "2021-05-15T15:21:15.862271",
     "status": "completed"
    },
    "tags": []
   },
   "source": [
    "SAP save date as integer :)  2018-01-11 = 20180111"
   ]
  },
  {
   "cell_type": "code",
   "execution_count": 20,
   "metadata": {
    "execution": {
     "iopub.execute_input": "2021-05-15T15:21:15.936932Z",
     "iopub.status.busy": "2021-05-15T15:21:15.936377Z",
     "iopub.status.idle": "2021-05-15T15:21:15.941262Z",
     "shell.execute_reply": "2021-05-15T15:21:15.941887Z"
    },
    "papermill": {
     "duration": 0.031984,
     "end_time": "2021-05-15T15:21:15.942080",
     "exception": false,
     "start_time": "2021-05-15T15:21:15.910096",
     "status": "completed"
    },
    "tags": []
   },
   "outputs": [
    {
     "name": "stdout",
     "output_type": "stream",
     "text": [
      "<class 'numpy.int64'>\n",
      "<class 'numpy.float64'>\n"
     ]
    }
   ],
   "source": [
    "#Check column data type\n",
    "for col in year_total_sales_no_index:\n",
    "    print (type(year_total_sales_no_index[col][1]))"
   ]
  },
  {
   "cell_type": "markdown",
   "metadata": {
    "papermill": {
     "duration": 0.023607,
     "end_time": "2021-05-15T15:21:15.990583",
     "exception": false,
     "start_time": "2021-05-15T15:21:15.966976",
     "status": "completed"
    },
    "tags": []
   },
   "source": [
    "Convert CREATEDAT values from integer to string"
   ]
  },
  {
   "cell_type": "code",
   "execution_count": 21,
   "metadata": {
    "execution": {
     "iopub.execute_input": "2021-05-15T15:21:16.041974Z",
     "iopub.status.busy": "2021-05-15T15:21:16.041443Z",
     "iopub.status.idle": "2021-05-15T15:21:16.047915Z",
     "shell.execute_reply": "2021-05-15T15:21:16.047193Z"
    },
    "papermill": {
     "duration": 0.033646,
     "end_time": "2021-05-15T15:21:16.048107",
     "exception": false,
     "start_time": "2021-05-15T15:21:16.014461",
     "status": "completed"
    },
    "tags": []
   },
   "outputs": [
    {
     "name": "stderr",
     "output_type": "stream",
     "text": [
      "/opt/conda/lib/python3.7/site-packages/ipykernel_launcher.py:2: SettingWithCopyWarning: \n",
      "A value is trying to be set on a copy of a slice from a DataFrame.\n",
      "Try using .loc[row_indexer,col_indexer] = value instead\n",
      "\n",
      "See the caveats in the documentation: https://pandas.pydata.org/pandas-docs/stable/user_guide/indexing.html#returning-a-view-versus-a-copy\n",
      "  \n"
     ]
    }
   ],
   "source": [
    "# Convert integer to Python Date\n",
    "year_total_sales_no_index['CREATEDAT'] = year_total_sales_no_index.CREATEDAT.astype('str')\n",
    "#year_total_sales_no_index['NETAMOUNT'] = year_total_sales_no_index.CREATEDAT.astype('float')"
   ]
  },
  {
   "cell_type": "markdown",
   "metadata": {
    "papermill": {
     "duration": 0.025211,
     "end_time": "2021-05-15T15:21:16.099433",
     "exception": false,
     "start_time": "2021-05-15T15:21:16.074222",
     "status": "completed"
    },
    "tags": []
   },
   "source": [
    "check if the CREATEDAT data type converted to string type"
   ]
  },
  {
   "cell_type": "code",
   "execution_count": 22,
   "metadata": {
    "execution": {
     "iopub.execute_input": "2021-05-15T15:21:16.154221Z",
     "iopub.status.busy": "2021-05-15T15:21:16.153612Z",
     "iopub.status.idle": "2021-05-15T15:21:16.156121Z",
     "shell.execute_reply": "2021-05-15T15:21:16.156522Z"
    },
    "papermill": {
     "duration": 0.03257,
     "end_time": "2021-05-15T15:21:16.156675",
     "exception": false,
     "start_time": "2021-05-15T15:21:16.124105",
     "status": "completed"
    },
    "tags": []
   },
   "outputs": [
    {
     "name": "stdout",
     "output_type": "stream",
     "text": [
      "<class 'str'>\n",
      "<class 'numpy.float64'>\n"
     ]
    }
   ],
   "source": [
    "for col in year_total_sales_no_index:\n",
    "    print (type(year_total_sales_no_index[col][1]))"
   ]
  },
  {
   "cell_type": "code",
   "execution_count": 23,
   "metadata": {
    "execution": {
     "iopub.execute_input": "2021-05-15T15:21:16.209780Z",
     "iopub.status.busy": "2021-05-15T15:21:16.209256Z",
     "iopub.status.idle": "2021-05-15T15:21:16.241157Z",
     "shell.execute_reply": "2021-05-15T15:21:16.241579Z"
    },
    "papermill": {
     "duration": 0.059686,
     "end_time": "2021-05-15T15:21:16.241742",
     "exception": false,
     "start_time": "2021-05-15T15:21:16.182056",
     "status": "completed"
    },
    "tags": []
   },
   "outputs": [],
   "source": [
    "# Substring Year from Date\n",
    "for index_label, row_series in year_total_sales_no_index.iterrows():\n",
    "    string = row_series['CREATEDAT']   \n",
    "    year_total_sales_no_index.at[index_label , 'CREATEDAT'] = string[0:4]\n",
    "    "
   ]
  },
  {
   "cell_type": "code",
   "execution_count": 24,
   "metadata": {
    "execution": {
     "iopub.execute_input": "2021-05-15T15:21:16.293560Z",
     "iopub.status.busy": "2021-05-15T15:21:16.293040Z",
     "iopub.status.idle": "2021-05-15T15:21:16.303127Z",
     "shell.execute_reply": "2021-05-15T15:21:16.303526Z"
    },
    "papermill": {
     "duration": 0.037252,
     "end_time": "2021-05-15T15:21:16.303674",
     "exception": false,
     "start_time": "2021-05-15T15:21:16.266422",
     "status": "completed"
    },
    "tags": []
   },
   "outputs": [
    {
     "data": {
      "text/html": [
       "<div>\n",
       "<style scoped>\n",
       "    .dataframe tbody tr th:only-of-type {\n",
       "        vertical-align: middle;\n",
       "    }\n",
       "\n",
       "    .dataframe tbody tr th {\n",
       "        vertical-align: top;\n",
       "    }\n",
       "\n",
       "    .dataframe thead th {\n",
       "        text-align: right;\n",
       "    }\n",
       "</style>\n",
       "<table border=\"1\" class=\"dataframe\">\n",
       "  <thead>\n",
       "    <tr style=\"text-align: right;\">\n",
       "      <th></th>\n",
       "      <th>CREATEDAT</th>\n",
       "      <th>NETAMOUNT</th>\n",
       "    </tr>\n",
       "  </thead>\n",
       "  <tbody>\n",
       "    <tr>\n",
       "      <th>0</th>\n",
       "      <td>2018</td>\n",
       "      <td>11888.625</td>\n",
       "    </tr>\n",
       "    <tr>\n",
       "      <th>1</th>\n",
       "      <td>2018</td>\n",
       "      <td>11044.250</td>\n",
       "    </tr>\n",
       "    <tr>\n",
       "      <th>2</th>\n",
       "      <td>2018</td>\n",
       "      <td>39948.125</td>\n",
       "    </tr>\n",
       "    <tr>\n",
       "      <th>3</th>\n",
       "      <td>2018</td>\n",
       "      <td>89062.750</td>\n",
       "    </tr>\n",
       "    <tr>\n",
       "      <th>4</th>\n",
       "      <td>2018</td>\n",
       "      <td>62723.500</td>\n",
       "    </tr>\n",
       "    <tr>\n",
       "      <th>...</th>\n",
       "      <td>...</td>\n",
       "      <td>...</td>\n",
       "    </tr>\n",
       "    <tr>\n",
       "      <th>329</th>\n",
       "      <td>2019</td>\n",
       "      <td>79293.375</td>\n",
       "    </tr>\n",
       "    <tr>\n",
       "      <th>330</th>\n",
       "      <td>2019</td>\n",
       "      <td>99637.125</td>\n",
       "    </tr>\n",
       "    <tr>\n",
       "      <th>331</th>\n",
       "      <td>2019</td>\n",
       "      <td>11106.375</td>\n",
       "    </tr>\n",
       "    <tr>\n",
       "      <th>332</th>\n",
       "      <td>2019</td>\n",
       "      <td>61712.000</td>\n",
       "    </tr>\n",
       "    <tr>\n",
       "      <th>333</th>\n",
       "      <td>2019</td>\n",
       "      <td>14504.000</td>\n",
       "    </tr>\n",
       "  </tbody>\n",
       "</table>\n",
       "<p>334 rows × 2 columns</p>\n",
       "</div>"
      ],
      "text/plain": [
       "    CREATEDAT  NETAMOUNT\n",
       "0        2018  11888.625\n",
       "1        2018  11044.250\n",
       "2        2018  39948.125\n",
       "3        2018  89062.750\n",
       "4        2018  62723.500\n",
       "..        ...        ...\n",
       "329      2019  79293.375\n",
       "330      2019  99637.125\n",
       "331      2019  11106.375\n",
       "332      2019  61712.000\n",
       "333      2019  14504.000\n",
       "\n",
       "[334 rows x 2 columns]"
      ]
     },
     "execution_count": 24,
     "metadata": {},
     "output_type": "execute_result"
    }
   ],
   "source": [
    "year_total_sales_no_index"
   ]
  },
  {
   "cell_type": "code",
   "execution_count": 25,
   "metadata": {
    "execution": {
     "iopub.execute_input": "2021-05-15T15:21:16.357765Z",
     "iopub.status.busy": "2021-05-15T15:21:16.357246Z",
     "iopub.status.idle": "2021-05-15T15:21:16.366966Z",
     "shell.execute_reply": "2021-05-15T15:21:16.367367Z"
    },
    "papermill": {
     "duration": 0.037891,
     "end_time": "2021-05-15T15:21:16.367520",
     "exception": false,
     "start_time": "2021-05-15T15:21:16.329629",
     "status": "completed"
    },
    "tags": []
   },
   "outputs": [
    {
     "data": {
      "text/html": [
       "<div>\n",
       "<style scoped>\n",
       "    .dataframe tbody tr th:only-of-type {\n",
       "        vertical-align: middle;\n",
       "    }\n",
       "\n",
       "    .dataframe tbody tr th {\n",
       "        vertical-align: top;\n",
       "    }\n",
       "\n",
       "    .dataframe thead th {\n",
       "        text-align: right;\n",
       "    }\n",
       "</style>\n",
       "<table border=\"1\" class=\"dataframe\">\n",
       "  <thead>\n",
       "    <tr style=\"text-align: right;\">\n",
       "      <th></th>\n",
       "      <th>NETAMOUNT</th>\n",
       "    </tr>\n",
       "    <tr>\n",
       "      <th>CREATEDAT</th>\n",
       "      <th></th>\n",
       "    </tr>\n",
       "  </thead>\n",
       "  <tbody>\n",
       "    <tr>\n",
       "      <th>2018</th>\n",
       "      <td>1.184117e+07</td>\n",
       "    </tr>\n",
       "    <tr>\n",
       "      <th>2019</th>\n",
       "      <td>6.038468e+06</td>\n",
       "    </tr>\n",
       "  </tbody>\n",
       "</table>\n",
       "</div>"
      ],
      "text/plain": [
       "              NETAMOUNT\n",
       "CREATEDAT              \n",
       "2018       1.184117e+07\n",
       "2019       6.038468e+06"
      ]
     },
     "execution_count": 25,
     "metadata": {},
     "output_type": "execute_result"
    }
   ],
   "source": [
    "year_total_sales_no_index = year_total_sales_no_index[['CREATEDAT','NETAMOUNT']].groupby('CREATEDAT').sum()\n",
    "year_total_sales_no_index"
   ]
  },
  {
   "cell_type": "code",
   "execution_count": 26,
   "metadata": {
    "execution": {
     "iopub.execute_input": "2021-05-15T15:21:16.421619Z",
     "iopub.status.busy": "2021-05-15T15:21:16.421116Z",
     "iopub.status.idle": "2021-05-15T15:21:16.427321Z",
     "shell.execute_reply": "2021-05-15T15:21:16.427706Z"
    },
    "papermill": {
     "duration": 0.03479,
     "end_time": "2021-05-15T15:21:16.427873",
     "exception": false,
     "start_time": "2021-05-15T15:21:16.393083",
     "status": "completed"
    },
    "tags": []
   },
   "outputs": [
    {
     "data": {
      "text/plain": [
       "CREATEDAT\n",
       "2018    11841174.625\n",
       "2019     6038467.750\n",
       "dtype: object"
      ]
     },
     "execution_count": 26,
     "metadata": {},
     "output_type": "execute_result"
    }
   ],
   "source": [
    "# suppress scientific notation in Pandas 1.184117e+07 to show as 11841174.625\n",
    "year_total_sales_no_index.apply(lambda x: '%.5f' % x, axis=1)\n",
    "\n"
   ]
  },
  {
   "cell_type": "code",
   "execution_count": 27,
   "metadata": {
    "execution": {
     "iopub.execute_input": "2021-05-15T15:21:16.482200Z",
     "iopub.status.busy": "2021-05-15T15:21:16.481683Z",
     "iopub.status.idle": "2021-05-15T15:21:16.596904Z",
     "shell.execute_reply": "2021-05-15T15:21:16.597355Z"
    },
    "papermill": {
     "duration": 0.143802,
     "end_time": "2021-05-15T15:21:16.597517",
     "exception": false,
     "start_time": "2021-05-15T15:21:16.453715",
     "status": "completed"
    },
    "tags": []
   },
   "outputs": [
    {
     "data": {
      "text/plain": [
       "<AxesSubplot:title={'center':'Sales Total Per Year'}, xlabel='CREATEDAT'>"
      ]
     },
     "execution_count": 27,
     "metadata": {},
     "output_type": "execute_result"
    },
    {
     "data": {
      "image/png": "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\n",
      "text/plain": [
       "<Figure size 432x288 with 1 Axes>"
      ]
     },
     "metadata": {
      "needs_background": "light"
     },
     "output_type": "display_data"
    }
   ],
   "source": [
    "year_total_sales_no_index.plot(kind='bar', title=\"Sales Total Per Year\")"
   ]
  },
  {
   "cell_type": "code",
   "execution_count": 28,
   "metadata": {
    "execution": {
     "iopub.execute_input": "2021-05-15T15:21:16.655023Z",
     "iopub.status.busy": "2021-05-15T15:21:16.654469Z",
     "iopub.status.idle": "2021-05-15T15:21:16.783403Z",
     "shell.execute_reply": "2021-05-15T15:21:16.782912Z"
    },
    "papermill": {
     "duration": 0.158651,
     "end_time": "2021-05-15T15:21:16.783536",
     "exception": false,
     "start_time": "2021-05-15T15:21:16.624885",
     "status": "completed"
    },
    "tags": []
   },
   "outputs": [
    {
     "data": {
      "text/plain": [
       "array([<AxesSubplot:ylabel='NETAMOUNT'>], dtype=object)"
      ]
     },
     "execution_count": 28,
     "metadata": {},
     "output_type": "execute_result"
    },
    {
     "data": {
      "image/png": "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\n",
      "text/plain": [
       "<Figure size 432x288 with 1 Axes>"
      ]
     },
     "metadata": {},
     "output_type": "display_data"
    }
   ],
   "source": [
    "year_total_sales_no_index.plot.pie(autopct='%1.1f%%', subplots=True)"
   ]
  },
  {
   "cell_type": "markdown",
   "metadata": {
    "papermill": {
     "duration": 0.028264,
     "end_time": "2021-05-15T15:21:16.851224",
     "exception": false,
     "start_time": "2021-05-15T15:21:16.822960",
     "status": "completed"
    },
    "tags": []
   },
   "source": [
    "**Please consider upvoting if you found it useful to you :)**\n",
    "\n",
    "**Thanks.**"
   ]
  }
 ],
 "metadata": {
  "kernelspec": {
   "name": "python392jvsc74a57bd0f979645d42e40b4c68474eb4f33fe8f0074a5ea7d4081d417cd20cf0b05c1b69",
   "display_name": "Python 3.9.2 64-bit ('kaggle': conda)"
  },
  "language_info": {
   "codemirror_mode": {
    "name": "ipython",
    "version": 3
   },
   "file_extension": ".py",
   "mimetype": "text/x-python",
   "name": "python",
   "nbconvert_exporter": "python",
   "pygments_lexer": "ipython3",
   "version": "3.9.2"
  },
  "papermill": {
   "default_parameters": {},
   "duration": 9.234159,
   "end_time": "2021-05-15T15:21:17.492286",
   "environment_variables": {},
   "exception": null,
   "input_path": "__notebook__.ipynb",
   "output_path": "__notebook__.ipynb",
   "parameters": {},
   "start_time": "2021-05-15T15:21:08.258127",
   "version": "2.2.2"
  }
 },
 "nbformat": 4,
 "nbformat_minor": 4
}
