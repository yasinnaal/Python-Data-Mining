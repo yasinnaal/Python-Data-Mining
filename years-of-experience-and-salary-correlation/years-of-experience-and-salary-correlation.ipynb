{
 "cells": [
  {
   "cell_type": "code",
   "execution_count": 2,
   "id": "opposed-insured",
   "metadata": {
    "_cell_guid": "b1076dfc-b9ad-4769-8c92-a6c4dae69d19",
    "_uuid": "8f2839f25d086af736a60e9eeb907d3b93b6e0e5",
    "execution": {
     "iopub.execute_input": "2021-05-20T14:47:35.433202Z",
     "iopub.status.busy": "2021-05-20T14:47:35.431432Z",
     "iopub.status.idle": "2021-05-20T14:47:36.641774Z",
     "shell.execute_reply": "2021-05-20T14:47:36.640685Z",
     "shell.execute_reply.started": "2021-05-20T14:47:10.582723Z"
    },
    "papermill": {
     "duration": 1.224445,
     "end_time": "2021-05-20T14:47:36.641985",
     "exception": false,
     "start_time": "2021-05-20T14:47:35.417540",
     "status": "completed"
    },
    "tags": []
   },
   "outputs": [
    {
     "output_type": "error",
     "ename": "ModuleNotFoundError",
     "evalue": "No module named 'sklearn'",
     "traceback": [
      "\u001b[1;31m---------------------------------------------------------------------------\u001b[0m",
      "\u001b[1;31mModuleNotFoundError\u001b[0m                       Traceback (most recent call last)",
      "\u001b[1;32m<ipython-input-2-d11bfc26281a>\u001b[0m in \u001b[0;36m<module>\u001b[1;34m\u001b[0m\n\u001b[0;32m      3\u001b[0m \u001b[1;32mimport\u001b[0m \u001b[0mmatplotlib\u001b[0m\u001b[1;33m.\u001b[0m\u001b[0mpyplot\u001b[0m \u001b[1;32mas\u001b[0m \u001b[0mplt\u001b[0m\u001b[1;33m\u001b[0m\u001b[1;33m\u001b[0m\u001b[0m\n\u001b[0;32m      4\u001b[0m \u001b[1;32mimport\u001b[0m \u001b[0mseaborn\u001b[0m \u001b[1;32mas\u001b[0m \u001b[0msns\u001b[0m\u001b[1;33m\u001b[0m\u001b[1;33m\u001b[0m\u001b[0m\n\u001b[1;32m----> 5\u001b[1;33m \u001b[1;32mfrom\u001b[0m \u001b[0msklearn\u001b[0m\u001b[1;33m.\u001b[0m\u001b[0mlinear_model\u001b[0m \u001b[1;32mimport\u001b[0m \u001b[0mLinearRegression\u001b[0m\u001b[1;33m\u001b[0m\u001b[1;33m\u001b[0m\u001b[0m\n\u001b[0m\u001b[0;32m      6\u001b[0m \u001b[1;33m\u001b[0m\u001b[0m\n\u001b[0;32m      7\u001b[0m \u001b[1;32mimport\u001b[0m \u001b[0mos\u001b[0m\u001b[1;33m\u001b[0m\u001b[1;33m\u001b[0m\u001b[0m\n",
      "\u001b[1;31mModuleNotFoundError\u001b[0m: No module named 'sklearn'"
     ]
    }
   ],
   "source": [
    "\n",
    "import numpy as np \n",
    "import pandas as pd \n",
    "import matplotlib.pyplot as plt\n",
    "import seaborn as sns\n",
    "from sklearn.linear_model import LinearRegression\n",
    "\n",
    "import os\n",
    "\n",
    "\n"
   ]
  },
  {
   "cell_type": "code",
   "execution_count": 2,
   "id": "dependent-stick",
   "metadata": {
    "execution": {
     "iopub.execute_input": "2021-05-20T14:47:36.665349Z",
     "iopub.status.busy": "2021-05-20T14:47:36.664694Z",
     "iopub.status.idle": "2021-05-20T14:47:36.701990Z",
     "shell.execute_reply": "2021-05-20T14:47:36.702545Z",
     "shell.execute_reply.started": "2021-05-20T14:47:10.595993Z"
    },
    "papermill": {
     "duration": 0.051411,
     "end_time": "2021-05-20T14:47:36.702716",
     "exception": false,
     "start_time": "2021-05-20T14:47:36.651305",
     "status": "completed"
    },
    "tags": []
   },
   "outputs": [
    {
     "data": {
      "text/html": [
       "<div>\n",
       "<style scoped>\n",
       "    .dataframe tbody tr th:only-of-type {\n",
       "        vertical-align: middle;\n",
       "    }\n",
       "\n",
       "    .dataframe tbody tr th {\n",
       "        vertical-align: top;\n",
       "    }\n",
       "\n",
       "    .dataframe thead th {\n",
       "        text-align: right;\n",
       "    }\n",
       "</style>\n",
       "<table border=\"1\" class=\"dataframe\">\n",
       "  <thead>\n",
       "    <tr style=\"text-align: right;\">\n",
       "      <th></th>\n",
       "      <th>YearsExperience</th>\n",
       "      <th>Salary</th>\n",
       "    </tr>\n",
       "  </thead>\n",
       "  <tbody>\n",
       "    <tr>\n",
       "      <th>0</th>\n",
       "      <td>1.1</td>\n",
       "      <td>39343.0</td>\n",
       "    </tr>\n",
       "    <tr>\n",
       "      <th>1</th>\n",
       "      <td>1.3</td>\n",
       "      <td>46205.0</td>\n",
       "    </tr>\n",
       "    <tr>\n",
       "      <th>2</th>\n",
       "      <td>1.5</td>\n",
       "      <td>37731.0</td>\n",
       "    </tr>\n",
       "    <tr>\n",
       "      <th>3</th>\n",
       "      <td>2.0</td>\n",
       "      <td>43525.0</td>\n",
       "    </tr>\n",
       "    <tr>\n",
       "      <th>4</th>\n",
       "      <td>2.2</td>\n",
       "      <td>39891.0</td>\n",
       "    </tr>\n",
       "  </tbody>\n",
       "</table>\n",
       "</div>"
      ],
      "text/plain": [
       "   YearsExperience   Salary\n",
       "0              1.1  39343.0\n",
       "1              1.3  46205.0\n",
       "2              1.5  37731.0\n",
       "3              2.0  43525.0\n",
       "4              2.2  39891.0"
      ]
     },
     "execution_count": 2,
     "metadata": {},
     "output_type": "execute_result"
    }
   ],
   "source": [
    "# Importing the dataset\n",
    "salary_data = pd.read_csv('Salary_Data.csv')\n",
    "salary_data.head()"
   ]
  },
  {
   "cell_type": "code",
   "execution_count": 3,
   "id": "informative-insured",
   "metadata": {
    "execution": {
     "iopub.execute_input": "2021-05-20T14:47:36.725115Z",
     "iopub.status.busy": "2021-05-20T14:47:36.724125Z",
     "iopub.status.idle": "2021-05-20T14:47:36.934748Z",
     "shell.execute_reply": "2021-05-20T14:47:36.935393Z",
     "shell.execute_reply.started": "2021-05-20T14:47:10.614677Z"
    },
    "papermill": {
     "duration": 0.223528,
     "end_time": "2021-05-20T14:47:36.935588",
     "exception": false,
     "start_time": "2021-05-20T14:47:36.712060",
     "status": "completed"
    },
    "tags": []
   },
   "outputs": [
    {
     "name": "stderr",
     "output_type": "stream",
     "text": [
      "/opt/conda/lib/python3.7/site-packages/seaborn/_decorators.py:43: FutureWarning: Pass the following variables as keyword args: x, y. From version 0.12, the only valid positional argument will be `data`, and passing other arguments without an explicit keyword will result in an error or misinterpretation.\n",
      "  FutureWarning\n"
     ]
    },
    {
     "data": {
      "text/plain": [
       "<AxesSubplot:xlabel='YearsExperience', ylabel='Salary'>"
      ]
     },
     "execution_count": 3,
     "metadata": {},
     "output_type": "execute_result"
    },
    {
     "data": {
      "image/png": "[encoded data removed]",
      "text/plain": [
       "<Figure size 432x288 with 1 Axes>"
      ]
     },
     "metadata": {
      "needs_background": "light"
     },
     "output_type": "display_data"
    }
   ],
   "source": [
    "sns.scatterplot(salary_data['YearsExperience'], salary_data['Salary'])"
   ]
  },
  {
   "cell_type": "code",
   "execution_count": null,
   "id": "restricted-failing",
   "metadata": {
    "execution": {
     "iopub.execute_input": "2021-05-20T14:47:36.960243Z",
     "iopub.status.busy": "2021-05-20T14:47:36.959280Z",
     "iopub.status.idle": "2021-05-20T14:47:36.969377Z",
     "shell.execute_reply": "2021-05-20T14:47:36.969839Z",
     "shell.execute_reply.started": "2021-05-20T14:47:10.757029Z"
    },
    "papermill": {
     "duration": 0.023955,
     "end_time": "2021-05-20T14:47:36.970032",
     "exception": false,
     "start_time": "2021-05-20T14:47:36.946077",
     "status": "completed"
    },
    "tags": []
   },
   "outputs": [],
   "source": [
    "x = salary_data[['YearsExperience']]\n",
    "#x = salary_data['Salary'] #to predict  \n",
    "x.head()"
   ]
  },
  {
   "cell_type": "code",
   "execution_count": null,
   "id": "dynamic-interpretation",
   "metadata": {
    "execution": {
     "iopub.execute_input": "2021-05-20T14:47:36.995469Z",
     "iopub.status.busy": "2021-05-20T14:47:36.994534Z",
     "iopub.status.idle": "2021-05-20T14:47:37.004565Z",
     "shell.execute_reply": "2021-05-20T14:47:37.005053Z",
     "shell.execute_reply.started": "2021-05-20T14:47:10.767500Z"
    },
    "papermill": {
     "duration": 0.024359,
     "end_time": "2021-05-20T14:47:37.005222",
     "exception": false,
     "start_time": "2021-05-20T14:47:36.980863",
     "status": "completed"
    },
    "tags": []
   },
   "outputs": [],
   "source": [
    "#y = salary_data['Salary'] #to predict  \n",
    "y = salary_data[['Salary']]\n",
    "y.head()"
   ]
  },
  {
   "cell_type": "markdown",
   "id": "swiss-chosen",
   "metadata": {
    "papermill": {
     "duration": 0.010931,
     "end_time": "2021-05-20T14:47:37.027376",
     "exception": false,
     "start_time": "2021-05-20T14:47:37.016445",
     "status": "completed"
    },
    "tags": []
   },
   "source": [
    "1.  Extract your input and output sep\n",
    "1.  Divide your data into training and testing set\n",
    "1.  Train your model\n",
    "1.  Do prediction"
   ]
  },
  {
   "cell_type": "code",
   "execution_count": null,
   "id": "established-church",
   "metadata": {
    "execution": {
     "iopub.execute_input": "2021-05-20T14:47:37.052936Z",
     "iopub.status.busy": "2021-05-20T14:47:37.052294Z",
     "iopub.status.idle": "2021-05-20T14:47:37.057758Z",
     "shell.execute_reply": "2021-05-20T14:47:37.058318Z",
     "shell.execute_reply.started": "2021-05-20T14:47:10.787437Z"
    },
    "papermill": {
     "duration": 0.019965,
     "end_time": "2021-05-20T14:47:37.058512",
     "exception": false,
     "start_time": "2021-05-20T14:47:37.038547",
     "status": "completed"
    },
    "tags": []
   },
   "outputs": [],
   "source": [
    "from sklearn.model_selection import train_test_split # This will automatically split our dataset\n",
    "x_train,x_test,y_train,y_test = train_test_split(x,y ,test_size = 0.3)\n"
   ]
  },
  {
   "cell_type": "code",
   "execution_count": null,
   "id": "mediterranean-cloud",
   "metadata": {
    "execution": {
     "iopub.execute_input": "2021-05-20T14:47:37.084197Z",
     "iopub.status.busy": "2021-05-20T14:47:37.083534Z",
     "iopub.status.idle": "2021-05-20T14:47:37.108263Z",
     "shell.execute_reply": "2021-05-20T14:47:37.108755Z",
     "shell.execute_reply.started": "2021-05-20T14:47:10.805042Z"
    },
    "papermill": {
     "duration": 0.039149,
     "end_time": "2021-05-20T14:47:37.108959",
     "exception": false,
     "start_time": "2021-05-20T14:47:37.069810",
     "status": "completed"
    },
    "tags": []
   },
   "outputs": [],
   "source": [
    "#Fitting Simple Linear Regression to the Training set\n",
    "from sklearn.linear_model import LinearRegression # Importing the library\n",
    "regressor = LinearRegression() # Initilizing the class\n",
    "regressor.fit(x_train, y_train) # Fit values into the method of that class"
   ]
  },
  {
   "cell_type": "code",
   "execution_count": 8,
   "id": "female-accounting",
   "metadata": {
    "execution": {
     "iopub.execute_input": "2021-05-20T14:47:37.135498Z",
     "iopub.status.busy": "2021-05-20T14:47:37.134778Z",
     "iopub.status.idle": "2021-05-20T14:47:37.280281Z",
     "shell.execute_reply": "2021-05-20T14:47:37.280736Z",
     "shell.execute_reply.started": "2021-05-20T14:47:10.820602Z"
    },
    "papermill": {
     "duration": 0.160262,
     "end_time": "2021-05-20T14:47:37.280906",
     "exception": false,
     "start_time": "2021-05-20T14:47:37.120644",
     "status": "completed"
    },
    "tags": []
   },
   "outputs": [
    {
     "data": {
      "image/png": "[encoded data removed]",
      "text/plain": [
       "<Figure size 432x288 with 1 Axes>"
      ]
     },
     "metadata": {
      "needs_background": "light"
     },
     "output_type": "display_data"
    }
   ],
   "source": [
    "plt.scatter(x_train,y_train,color = 'red') # data points corrilated to experience and salary\n",
    "plt.plot(x_train,regressor.predict(x_train),color = 'blue') # Our predicted line\n",
    "plt.title(\"Salary VS Experience(Training set)\")\n",
    "plt.xlabel(\"Years of experience\") #CZ 0 collum contains exper\n",
    "plt.ylabel(\"Salary\") #CZ 1 collum contains Salary\n",
    "plt.show()"
   ]
  }
 ],
 "metadata": {
  "kernelspec": {
   "name": "python392jvsc74a57bd0f979645d42e40b4c68474eb4f33fe8f0074a5ea7d4081d417cd20cf0b05c1b69",
   "display_name": "Python 3.9.2 64-bit ('kaggle': conda)"
  },
  "language_info": {
   "codemirror_mode": {
    "name": "ipython",
    "version": 3
   },
   "file_extension": ".py",
   "mimetype": "text/x-python",
   "name": "python",
   "nbconvert_exporter": "python",
   "pygments_lexer": "ipython3",
   "version": "3.9.2"
  },
  "papermill": {
   "default_parameters": {},
   "duration": 10.68123,
   "end_time": "2021-05-20T14:47:38.674086",
   "environment_variables": {},
   "exception": null,
   "input_path": "__notebook__.ipynb",
   "output_path": "__notebook__.ipynb",
   "parameters": {},
   "start_time": "2021-05-20T14:47:27.992856",
   "version": "2.3.3"
  }
 },
 "nbformat": 4,
 "nbformat_minor": 5
}